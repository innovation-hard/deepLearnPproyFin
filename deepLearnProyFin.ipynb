{
 "cells": [
  {
   "cell_type": "markdown",
   "metadata": {},
   "source": [
    "# Deep Learning aplicado a un guión de película"
   ]
  },
  {
   "cell_type": "code",
   "execution_count": 1,
   "metadata": {},
   "outputs": [],
   "source": [
    "import pandas as pd"
   ]
  },
  {
   "cell_type": "markdown",
   "metadata": {},
   "source": [
    "## Importación del guión a Df"
   ]
  },
  {
   "cell_type": "code",
   "execution_count": 2,
   "metadata": {},
   "outputs": [],
   "source": [
    "# Leer el archivo CSV\n",
    "df = pd.read_csv(\"subtitulos.csv\", encoding=\"utf-8\")"
   ]
  },
  {
   "cell_type": "code",
   "execution_count": 3,
   "metadata": {},
   "outputs": [
    {
     "data": {
      "text/html": [
       "<div>\n",
       "<style scoped>\n",
       "    .dataframe tbody tr th:only-of-type {\n",
       "        vertical-align: middle;\n",
       "    }\n",
       "\n",
       "    .dataframe tbody tr th {\n",
       "        vertical-align: top;\n",
       "    }\n",
       "\n",
       "    .dataframe thead th {\n",
       "        text-align: right;\n",
       "    }\n",
       "</style>\n",
       "<table border=\"1\" class=\"dataframe\">\n",
       "  <thead>\n",
       "    <tr style=\"text-align: right;\">\n",
       "      <th></th>\n",
       "      <th>inicio</th>\n",
       "      <th>fin</th>\n",
       "      <th>subtitulo</th>\n",
       "    </tr>\n",
       "  </thead>\n",
       "  <tbody>\n",
       "    <tr>\n",
       "      <th>1604</th>\n",
       "      <td>01:43:01,176</td>\n",
       "      <td>01:43:05,388</td>\n",
       "      <td>Don't I know this? Now go home to your wife.</td>\n",
       "    </tr>\n",
       "    <tr>\n",
       "      <th>1019</th>\n",
       "      <td>00:58:32,218</td>\n",
       "      <td>00:58:37,682</td>\n",
       "      <td>This one. I've got a 24-hour-a-day reminder of Roger for the rest of my life.</td>\n",
       "    </tr>\n",
       "    <tr>\n",
       "      <th>1621</th>\n",
       "      <td>01:44:14,457</td>\n",
       "      <td>01:44:15,792</td>\n",
       "      <td>[ROD LAUGHING]</td>\n",
       "    </tr>\n",
       "    <tr>\n",
       "      <th>944</th>\n",
       "      <td>00:54:19,424</td>\n",
       "      <td>00:54:21,467</td>\n",
       "      <td>...I'm part of something that I believe in.</td>\n",
       "    </tr>\n",
       "    <tr>\n",
       "      <th>1338</th>\n",
       "      <td>01:24:46,666</td>\n",
       "      <td>01:24:48,292</td>\n",
       "      <td>[CHUCKLES]</td>\n",
       "    </tr>\n",
       "  </tbody>\n",
       "</table>\n",
       "</div>"
      ],
      "text/plain": [
       "            inicio           fin  \\\n",
       "1604  01:43:01,176  01:43:05,388   \n",
       "1019  00:58:32,218  00:58:37,682   \n",
       "1621  01:44:14,457  01:44:15,792   \n",
       "944   00:54:19,424  00:54:21,467   \n",
       "1338  01:24:46,666  01:24:48,292   \n",
       "\n",
       "                                                                          subtitulo  \n",
       "1604                                   Don't I know this? Now go home to your wife.  \n",
       "1019  This one. I've got a 24-hour-a-day reminder of Roger for the rest of my life.  \n",
       "1621                                                                 [ROD LAUGHING]  \n",
       "944                                     ...I'm part of something that I believe in.  \n",
       "1338                                                                     [CHUCKLES]  "
      ]
     },
     "execution_count": 3,
     "metadata": {},
     "output_type": "execute_result"
    }
   ],
   "source": [
    "# Mostrar todo el contenido en varias filas para cada columna\n",
    "pd.set_option('display.max_colwidth', None)\n",
    "df.sample(5)"
   ]
  },
  {
   "cell_type": "code",
   "execution_count": 4,
   "metadata": {},
   "outputs": [
    {
     "data": {
      "text/plain": [
       "(2028, 3)"
      ]
     },
     "execution_count": 4,
     "metadata": {},
     "output_type": "execute_result"
    }
   ],
   "source": [
    "df.shape"
   ]
  },
  {
   "cell_type": "markdown",
   "metadata": {},
   "source": [
    "## NLP"
   ]
  },
  {
   "cell_type": "code",
   "execution_count": 5,
   "metadata": {},
   "outputs": [],
   "source": [
    "import spacy\n",
    "from spacy.lang.en.stop_words import STOP_WORDS\n",
    "import string"
   ]
  },
  {
   "cell_type": "code",
   "execution_count": 6,
   "metadata": {},
   "outputs": [],
   "source": [
    "# Cargar modelo\n",
    "# ver otros como: es_core_news_sm, es_core_news_md, es_core_news_lg\n",
    "nlp = spacy.load(\"en_core_web_sm\")"
   ]
  },
  {
   "cell_type": "markdown",
   "metadata": {},
   "source": [
    "### Limpieza"
   ]
  },
  {
   "cell_type": "code",
   "execution_count": 7,
   "metadata": {},
   "outputs": [],
   "source": [
    "# Eliminar filas donde 'subtitulo' es NaN\n",
    "df = df.dropna(subset=['subtitulo'])"
   ]
  },
  {
   "cell_type": "markdown",
   "metadata": {},
   "source": [
    "Función de limpieza total que deja el contenido en minúsculas y sin puntuación"
   ]
  },
  {
   "cell_type": "code",
   "execution_count": 8,
   "metadata": {},
   "outputs": [],
   "source": [
    "# Función para limpiar el texto: convertir a minúsculas y eliminar puntuación\n",
    "def limpiar_texto1(text):\n",
    "    # Convertir a minúsculas\n",
    "    text = text.lower()\n",
    "    # Eliminar signos de puntuación\n",
    "    text = ''.join([char for char in text if char not in string.punctuation])\n",
    "    return text"
   ]
  },
  {
   "cell_type": "markdown",
   "metadata": {},
   "source": [
    "Función de limpieza parcial que deja el contenido en minúsculas y sin puntuación salvo '?%¿!¡'"
   ]
  },
  {
   "cell_type": "code",
   "execution_count": 9,
   "metadata": {},
   "outputs": [],
   "source": [
    "import re\n",
    "\n",
    "def limpiar_texto2(texto):\n",
    "    # Convertir a minúsculas\n",
    "    texto = texto.lower()\n",
    "    # Eliminar caracteres no deseados pero mantener '?%¿!¡'\n",
    "    texto = re.sub(r'[^\\w\\s?%¿!¡]', '', texto)\n",
    "    # Eliminar espacios redundantes\n",
    "    texto = re.sub(r'\\s+', ' ', texto).strip()\n",
    "    return texto"
   ]
  },
  {
   "cell_type": "markdown",
   "metadata": {},
   "source": [
    "El campo: **subtituloLimpio1** se utilizará para toquenizar"
   ]
  },
  {
   "cell_type": "code",
   "execution_count": 10,
   "metadata": {},
   "outputs": [],
   "source": [
    "# Aplicar limpieza al subtítulo\n",
    "df['subtituloLimpio1'] = df['subtitulo'].apply(limpiar_texto1)"
   ]
  },
  {
   "cell_type": "markdown",
   "metadata": {},
   "source": [
    "El campo: **subtituloLimpio2** se utilizará para análisis de sentimiento por conservar los signos '?' y '!' que permiten interpretar mejor el sentimiento del texto."
   ]
  },
  {
   "cell_type": "code",
   "execution_count": 11,
   "metadata": {},
   "outputs": [],
   "source": [
    "# Aplicar limpieza al subtítulo\n",
    "df['subtituloLimpio2'] = df['subtitulo'].apply(limpiar_texto2)"
   ]
  },
  {
   "cell_type": "markdown",
   "metadata": {},
   "source": [
    "### Tokenización"
   ]
  },
  {
   "cell_type": "markdown",
   "metadata": {},
   "source": [
    "Analizando los resultados hasta aquí, veo ejemplos donde la tokenización falla desde mi punto de vista:\n",
    "- **I didn't -> [i, did, nt]**\n",
    "\n",
    "Por lo anterior, decidí expandir primero las contracciones y luego realizar la tokenización."
   ]
  },
  {
   "cell_type": "code",
   "execution_count": 12,
   "metadata": {},
   "outputs": [],
   "source": [
    "import contractions\n",
    "\n",
    "def expandir_contracciones(texto):\n",
    "    return contractions.fix(texto)\n",
    "\n",
    "# Expande contracciones antes de tokenizar\n",
    "df[\"subtituloExp\"] = df[\"subtituloLimpio1\"].apply(expandir_contracciones)"
   ]
  },
  {
   "cell_type": "markdown",
   "metadata": {},
   "source": [
    "Tokenizo los subtítulos en una nueva columna 'tokens'. Recordemos que el campo: **subtituloLimpio1** se utilizará para toquenizar"
   ]
  },
  {
   "cell_type": "code",
   "execution_count": 13,
   "metadata": {},
   "outputs": [],
   "source": [
    "# Tokenizar cada subtítulo usando SpaCy\n",
    "df[\"tokens\"] = df[\"subtituloExp\"].apply(lambda text: [token.text for token in nlp(text)])"
   ]
  },
  {
   "cell_type": "code",
   "execution_count": 14,
   "metadata": {},
   "outputs": [
    {
     "name": "stdout",
     "output_type": "stream",
     "text": [
      "Casos con tokens vacíos o en blanco: 79\n"
     ]
    }
   ],
   "source": [
    "# Contar las filas donde hay tokens en blanco o vacíos\n",
    "casos_con_tokens_vacios = df['tokens'].apply(lambda x: any(token.strip() == \"\" for token in x)).sum()\n",
    "\n",
    "print(f\"Casos con tokens vacíos o en blanco: {casos_con_tokens_vacios}\")"
   ]
  },
  {
   "cell_type": "code",
   "execution_count": 15,
   "metadata": {},
   "outputs": [],
   "source": [
    "# Limpieza de tokens en blanco\n",
    "df['tokens'] = df['tokens'].apply(lambda x: [token for token in x if token.strip() != \"\"])"
   ]
  },
  {
   "cell_type": "markdown",
   "metadata": {},
   "source": [
    "Comparamos los resultados de los tratamientos realizados:"
   ]
  },
  {
   "cell_type": "code",
   "execution_count": 16,
   "metadata": {},
   "outputs": [
    {
     "data": {
      "text/html": [
       "<div>\n",
       "<style scoped>\n",
       "    .dataframe tbody tr th:only-of-type {\n",
       "        vertical-align: middle;\n",
       "    }\n",
       "\n",
       "    .dataframe tbody tr th {\n",
       "        vertical-align: top;\n",
       "    }\n",
       "\n",
       "    .dataframe thead th {\n",
       "        text-align: right;\n",
       "    }\n",
       "</style>\n",
       "<table border=\"1\" class=\"dataframe\">\n",
       "  <thead>\n",
       "    <tr style=\"text-align: right;\">\n",
       "      <th></th>\n",
       "      <th>subtitulo</th>\n",
       "      <th>subtituloExp</th>\n",
       "      <th>tokens</th>\n",
       "    </tr>\n",
       "  </thead>\n",
       "  <tbody>\n",
       "    <tr>\n",
       "      <th>9</th>\n",
       "      <td>In Seattle, Dallas Malloy, 16.</td>\n",
       "      <td>in seattle dallas malloy 16</td>\n",
       "      <td>[in, seattle, dallas, malloy, 16]</td>\n",
       "    </tr>\n",
       "    <tr>\n",
       "      <th>276</th>\n",
       "      <td>JERRY: It's no problem.</td>\n",
       "      <td>jerry its no problem</td>\n",
       "      <td>[jerry, its, no, problem]</td>\n",
       "    </tr>\n",
       "    <tr>\n",
       "      <th>241</th>\n",
       "      <td>Ever, ever, ever! Okay? Ever!</td>\n",
       "      <td>ever ever ever okay ever</td>\n",
       "      <td>[ever, ever, ever, okay, ever]</td>\n",
       "    </tr>\n",
       "    <tr>\n",
       "      <th>280</th>\n",
       "      <td>...Dorothy.</td>\n",
       "      <td>dorothy</td>\n",
       "      <td>[dorothy]</td>\n",
       "    </tr>\n",
       "    <tr>\n",
       "      <th>101</th>\n",
       "      <td>Two days later, at our corporate conference in Miami, a breakthrough.</td>\n",
       "      <td>two days later at our corporate conference in miami a breakthrough</td>\n",
       "      <td>[two, days, later, at, our, corporate, conference, in, miami, a, breakthrough]</td>\n",
       "    </tr>\n",
       "  </tbody>\n",
       "</table>\n",
       "</div>"
      ],
      "text/plain": [
       "                                                                 subtitulo  \\\n",
       "9                                           In Seattle, Dallas Malloy, 16.   \n",
       "276                                                JERRY: It's no problem.   \n",
       "241                                          Ever, ever, ever! Okay? Ever!   \n",
       "280                                                            ...Dorothy.   \n",
       "101  Two days later, at our corporate conference in Miami, a breakthrough.   \n",
       "\n",
       "                                                           subtituloExp  \\\n",
       "9                                           in seattle dallas malloy 16   \n",
       "276                                                jerry its no problem   \n",
       "241                                            ever ever ever okay ever   \n",
       "280                                                             dorothy   \n",
       "101  two days later at our corporate conference in miami a breakthrough   \n",
       "\n",
       "                                                                             tokens  \n",
       "9                                                 [in, seattle, dallas, malloy, 16]  \n",
       "276                                                       [jerry, its, no, problem]  \n",
       "241                                                  [ever, ever, ever, okay, ever]  \n",
       "280                                                                       [dorothy]  \n",
       "101  [two, days, later, at, our, corporate, conference, in, miami, a, breakthrough]  "
      ]
     },
     "execution_count": 16,
     "metadata": {},
     "output_type": "execute_result"
    }
   ],
   "source": [
    "df[['subtitulo','subtituloExp','tokens']].sample(5)"
   ]
  },
  {
   "cell_type": "markdown",
   "metadata": {},
   "source": [
    "### Sin Stopwords"
   ]
  },
  {
   "cell_type": "markdown",
   "metadata": {},
   "source": [
    "Genero columna 'tokensSinStopwords'"
   ]
  },
  {
   "cell_type": "code",
   "execution_count": 17,
   "metadata": {},
   "outputs": [],
   "source": [
    "# Eliminar stopwords de los tokens\n",
    "df[\"tokensSinStopwords\"] = df[\"tokens\"].apply(lambda tokens: [token for token in tokens if not nlp.vocab[token].is_stop])"
   ]
  },
  {
   "cell_type": "code",
   "execution_count": 18,
   "metadata": {},
   "outputs": [
    {
     "data": {
      "text/html": [
       "<div>\n",
       "<style scoped>\n",
       "    .dataframe tbody tr th:only-of-type {\n",
       "        vertical-align: middle;\n",
       "    }\n",
       "\n",
       "    .dataframe tbody tr th {\n",
       "        vertical-align: top;\n",
       "    }\n",
       "\n",
       "    .dataframe thead th {\n",
       "        text-align: right;\n",
       "    }\n",
       "</style>\n",
       "<table border=\"1\" class=\"dataframe\">\n",
       "  <thead>\n",
       "    <tr style=\"text-align: right;\">\n",
       "      <th></th>\n",
       "      <th>subtitulo</th>\n",
       "      <th>tokens</th>\n",
       "      <th>tokensSinStopwords</th>\n",
       "    </tr>\n",
       "  </thead>\n",
       "  <tbody>\n",
       "    <tr>\n",
       "      <th>578</th>\n",
       "      <td>Dorothy Boyd, thank you.</td>\n",
       "      <td>[dorothy, boyd, thank, you]</td>\n",
       "      <td>[dorothy, boyd, thank]</td>\n",
       "    </tr>\n",
       "    <tr>\n",
       "      <th>1265</th>\n",
       "      <td>[LAUGHING]</td>\n",
       "      <td>[laughing]</td>\n",
       "      <td>[laughing]</td>\n",
       "    </tr>\n",
       "    <tr>\n",
       "      <th>993</th>\n",
       "      <td>-Yeah. -Yeah.</td>\n",
       "      <td>[yeah, yeah]</td>\n",
       "      <td>[yeah, yeah]</td>\n",
       "    </tr>\n",
       "    <tr>\n",
       "      <th>1607</th>\n",
       "      <td>-You don't want to go home, do you? -What are you saying?</td>\n",
       "      <td>[you, do, not, want, to, go, home, do, you, what, are, you, saying]</td>\n",
       "      <td>[want, home, saying]</td>\n",
       "    </tr>\n",
       "    <tr>\n",
       "      <th>1117</th>\n",
       "      <td>Look.</td>\n",
       "      <td>[look]</td>\n",
       "      <td>[look]</td>\n",
       "    </tr>\n",
       "  </tbody>\n",
       "</table>\n",
       "</div>"
      ],
      "text/plain": [
       "                                                      subtitulo  \\\n",
       "578                                    Dorothy Boyd, thank you.   \n",
       "1265                                                 [LAUGHING]   \n",
       "993                                               -Yeah. -Yeah.   \n",
       "1607  -You don't want to go home, do you? -What are you saying?   \n",
       "1117                                                      Look.   \n",
       "\n",
       "                                                                   tokens  \\\n",
       "578                                           [dorothy, boyd, thank, you]   \n",
       "1265                                                           [laughing]   \n",
       "993                                                          [yeah, yeah]   \n",
       "1607  [you, do, not, want, to, go, home, do, you, what, are, you, saying]   \n",
       "1117                                                               [look]   \n",
       "\n",
       "          tokensSinStopwords  \n",
       "578   [dorothy, boyd, thank]  \n",
       "1265              [laughing]  \n",
       "993             [yeah, yeah]  \n",
       "1607    [want, home, saying]  \n",
       "1117                  [look]  "
      ]
     },
     "execution_count": 18,
     "metadata": {},
     "output_type": "execute_result"
    }
   ],
   "source": [
    "df[[\"subtitulo\", \"tokens\",\"tokensSinStopwords\"]].sample(5)"
   ]
  },
  {
   "cell_type": "markdown",
   "metadata": {},
   "source": [
    "### Lematización"
   ]
  },
  {
   "cell_type": "markdown",
   "metadata": {},
   "source": [
    "Aplico lematización para generar una nueva columna: tokensLematizados"
   ]
  },
  {
   "cell_type": "code",
   "execution_count": 19,
   "metadata": {},
   "outputs": [],
   "source": [
    "# Lematizar los tokens sin stopwords\n",
    "df[\"tokensLematizados\"] = df[\"tokensSinStopwords\"].apply(lambda tokens: [nlp(token)[0].lemma_ for token in tokens])"
   ]
  },
  {
   "cell_type": "code",
   "execution_count": 20,
   "metadata": {},
   "outputs": [
    {
     "data": {
      "text/html": [
       "<div>\n",
       "<style scoped>\n",
       "    .dataframe tbody tr th:only-of-type {\n",
       "        vertical-align: middle;\n",
       "    }\n",
       "\n",
       "    .dataframe tbody tr th {\n",
       "        vertical-align: top;\n",
       "    }\n",
       "\n",
       "    .dataframe thead th {\n",
       "        text-align: right;\n",
       "    }\n",
       "</style>\n",
       "<table border=\"1\" class=\"dataframe\">\n",
       "  <thead>\n",
       "    <tr style=\"text-align: right;\">\n",
       "      <th></th>\n",
       "      <th>subtitulo</th>\n",
       "      <th>tokens</th>\n",
       "      <th>tokensSinStopwords</th>\n",
       "      <th>tokensLematizados</th>\n",
       "    </tr>\n",
       "  </thead>\n",
       "  <tbody>\n",
       "    <tr>\n",
       "      <th>372</th>\n",
       "      <td>And so did my husband. We came to play!</td>\n",
       "      <td>[and, so, did, my, husband, we, came, to, play]</td>\n",
       "      <td>[husband, came, play]</td>\n",
       "      <td>[husband, come, play]</td>\n",
       "    </tr>\n",
       "    <tr>\n",
       "      <th>307</th>\n",
       "      <td>All those guys from the office are coming. Everybody loves you.</td>\n",
       "      <td>[all, those, guys, from, the, office, are, coming, everybody, loves, you]</td>\n",
       "      <td>[guys, office, coming, everybody, loves]</td>\n",
       "      <td>[guy, office, come, everybody, love]</td>\n",
       "    </tr>\n",
       "    <tr>\n",
       "      <th>160</th>\n",
       "      <td>[PEOPLE CHATTERING INDISTINCTLY]</td>\n",
       "      <td>[people, chattering, indistinctly]</td>\n",
       "      <td>[people, chattering, indistinctly]</td>\n",
       "      <td>[people, chatter, indistinctly]</td>\n",
       "    </tr>\n",
       "    <tr>\n",
       "      <th>633</th>\n",
       "      <td>Beer and tomato juice. Huh?</td>\n",
       "      <td>[beer, and, tomato, juice, huh]</td>\n",
       "      <td>[beer, tomato, juice, huh]</td>\n",
       "      <td>[beer, tomato, juice, huh]</td>\n",
       "    </tr>\n",
       "    <tr>\n",
       "      <th>684</th>\n",
       "      <td>JERRY: Rod, being at the draft with me is a good idea. Trust me.</td>\n",
       "      <td>[jerry, rod, being, at, the, draft, with, me, is, a, good, idea, trust, me]</td>\n",
       "      <td>[jerry, rod, draft, good, idea, trust]</td>\n",
       "      <td>[jerry, rod, draft, good, idea, trust]</td>\n",
       "    </tr>\n",
       "  </tbody>\n",
       "</table>\n",
       "</div>"
      ],
      "text/plain": [
       "                                                            subtitulo  \\\n",
       "372                           And so did my husband. We came to play!   \n",
       "307   All those guys from the office are coming. Everybody loves you.   \n",
       "160                                  [PEOPLE CHATTERING INDISTINCTLY]   \n",
       "633                                       Beer and tomato juice. Huh?   \n",
       "684  JERRY: Rod, being at the draft with me is a good idea. Trust me.   \n",
       "\n",
       "                                                                          tokens  \\\n",
       "372                              [and, so, did, my, husband, we, came, to, play]   \n",
       "307    [all, those, guys, from, the, office, are, coming, everybody, loves, you]   \n",
       "160                                           [people, chattering, indistinctly]   \n",
       "633                                              [beer, and, tomato, juice, huh]   \n",
       "684  [jerry, rod, being, at, the, draft, with, me, is, a, good, idea, trust, me]   \n",
       "\n",
       "                           tokensSinStopwords  \\\n",
       "372                     [husband, came, play]   \n",
       "307  [guys, office, coming, everybody, loves]   \n",
       "160        [people, chattering, indistinctly]   \n",
       "633                [beer, tomato, juice, huh]   \n",
       "684    [jerry, rod, draft, good, idea, trust]   \n",
       "\n",
       "                          tokensLematizados  \n",
       "372                   [husband, come, play]  \n",
       "307    [guy, office, come, everybody, love]  \n",
       "160         [people, chatter, indistinctly]  \n",
       "633              [beer, tomato, juice, huh]  \n",
       "684  [jerry, rod, draft, good, idea, trust]  "
      ]
     },
     "execution_count": 20,
     "metadata": {},
     "output_type": "execute_result"
    }
   ],
   "source": [
    "df[[\"subtitulo\", \"tokens\",\"tokensSinStopwords\",\"tokensLematizados\"]].sample(5)"
   ]
  },
  {
   "cell_type": "markdown",
   "metadata": {},
   "source": [
    "## Análisis de Sentimiento"
   ]
  },
  {
   "cell_type": "markdown",
   "metadata": {},
   "source": [
    "Genero campo 'subtitulo_es' para mejor interpretación de futuros resultados."
   ]
  },
  {
   "cell_type": "code",
   "execution_count": 21,
   "metadata": {},
   "outputs": [],
   "source": [
    "from google.cloud import translate_v2 as translate\n",
    "import os\n",
    "\n",
    "# Configura la clave del servicio\n",
    "os.environ['GOOGLE_APPLICATION_CREDENTIALS'] = 'traductor-448217-8995a2d825d7.json'\n",
    "\n",
    "# Inicializar cliente de traducción\n",
    "translate_client = translate.Client()\n",
    "\n",
    "# Función para traducir texto\n",
    "def traducir_texto_google(text):\n",
    "    try:\n",
    "        if text:  # Verificar que el texto no sea vacío o None\n",
    "            result = translate_client.translate(text, target_language='es')\n",
    "            return result['translatedText']\n",
    "        return None\n",
    "    except Exception as e:\n",
    "        print(f\"Error al traducir: {text}. Detalle: {e}\")\n",
    "        return None\n"
   ]
  },
  {
   "cell_type": "code",
   "execution_count": 22,
   "metadata": {},
   "outputs": [],
   "source": [
    "# Aplicar la traducción a los subtítulos\n",
    "df['subtitulo_es'] = df['subtituloLimpio2'].apply(traducir_texto_google)"
   ]
  },
  {
   "cell_type": "code",
   "execution_count": 23,
   "metadata": {},
   "outputs": [
    {
     "data": {
      "text/html": [
       "<div>\n",
       "<style scoped>\n",
       "    .dataframe tbody tr th:only-of-type {\n",
       "        vertical-align: middle;\n",
       "    }\n",
       "\n",
       "    .dataframe tbody tr th {\n",
       "        vertical-align: top;\n",
       "    }\n",
       "\n",
       "    .dataframe thead th {\n",
       "        text-align: right;\n",
       "    }\n",
       "</style>\n",
       "<table border=\"1\" class=\"dataframe\">\n",
       "  <thead>\n",
       "    <tr style=\"text-align: right;\">\n",
       "      <th></th>\n",
       "      <th>subtitulo</th>\n",
       "      <th>subtitulo_es</th>\n",
       "    </tr>\n",
       "  </thead>\n",
       "  <tbody>\n",
       "    <tr>\n",
       "      <th>80</th>\n",
       "      <td>Uh....</td>\n",
       "      <td>oh</td>\n",
       "    </tr>\n",
       "    <tr>\n",
       "      <th>1738</th>\n",
       "      <td>It's not how I'm built.</td>\n",
       "      <td>No es como estoy construido</td>\n",
       "    </tr>\n",
       "    <tr>\n",
       "      <th>302</th>\n",
       "      <td>...the thing where we tell each other everything.</td>\n",
       "      <td>La cosa donde nos contamos todo.</td>\n",
       "    </tr>\n",
       "    <tr>\n",
       "      <th>336</th>\n",
       "      <td>WOMAN 1 : He's almost phobic.</td>\n",
       "      <td>Mujer 1 es casi fóbica</td>\n",
       "    </tr>\n",
       "    <tr>\n",
       "      <th>1948</th>\n",
       "      <td>And I just--</td>\n",
       "      <td>Y yo solo</td>\n",
       "    </tr>\n",
       "  </tbody>\n",
       "</table>\n",
       "</div>"
      ],
      "text/plain": [
       "                                              subtitulo  \\\n",
       "80                                               Uh....   \n",
       "1738                            It's not how I'm built.   \n",
       "302   ...the thing where we tell each other everything.   \n",
       "336                       WOMAN 1 : He's almost phobic.   \n",
       "1948                                       And I just--   \n",
       "\n",
       "                          subtitulo_es  \n",
       "80                                  oh  \n",
       "1738       No es como estoy construido  \n",
       "302   La cosa donde nos contamos todo.  \n",
       "336             Mujer 1 es casi fóbica  \n",
       "1948                         Y yo solo  "
      ]
     },
     "execution_count": 23,
     "metadata": {},
     "output_type": "execute_result"
    }
   ],
   "source": [
    "df[['subtitulo','subtitulo_es']].sample(5)"
   ]
  },
  {
   "cell_type": "markdown",
   "metadata": {},
   "source": [
    "### TextBlob"
   ]
  },
  {
   "cell_type": "code",
   "execution_count": 24,
   "metadata": {},
   "outputs": [],
   "source": [
    "from textblob import TextBlob\n",
    "\n",
    "# Función para obtener la polaridad del sentimiento\n",
    "def sentimientoTextblob(text):\n",
    "    blob = TextBlob(text)\n",
    "    return blob.sentiment.polarity  # Devuelve el puntaje de polaridad (-1 a 1)"
   ]
  },
  {
   "cell_type": "code",
   "execution_count": 25,
   "metadata": {},
   "outputs": [],
   "source": [
    "# Aplicar el análisis de sentimiento a los subtítulos originales\n",
    "df['sentimiento'] = df['subtituloLimpio2'].apply(sentimientoTextblob)"
   ]
  },
  {
   "cell_type": "code",
   "execution_count": 26,
   "metadata": {},
   "outputs": [
    {
     "data": {
      "text/html": [
       "<div>\n",
       "<style scoped>\n",
       "    .dataframe tbody tr th:only-of-type {\n",
       "        vertical-align: middle;\n",
       "    }\n",
       "\n",
       "    .dataframe tbody tr th {\n",
       "        vertical-align: top;\n",
       "    }\n",
       "\n",
       "    .dataframe thead th {\n",
       "        text-align: right;\n",
       "    }\n",
       "</style>\n",
       "<table border=\"1\" class=\"dataframe\">\n",
       "  <thead>\n",
       "    <tr style=\"text-align: right;\">\n",
       "      <th></th>\n",
       "      <th>subtitulo</th>\n",
       "      <th>subtituloLimpio2</th>\n",
       "      <th>sentimiento</th>\n",
       "      <th>subtitulo_es</th>\n",
       "    </tr>\n",
       "  </thead>\n",
       "  <tbody>\n",
       "    <tr>\n",
       "      <th>1942</th>\n",
       "      <td>I missed my-- I missed my wife.</td>\n",
       "      <td>i missed my i missed my wife</td>\n",
       "      <td>0.0</td>\n",
       "      <td>Extrañé a mi, extrañé a mi esposa</td>\n",
       "    </tr>\n",
       "    <tr>\n",
       "      <th>1425</th>\n",
       "      <td>Come on, hey, hey.</td>\n",
       "      <td>come on hey hey</td>\n",
       "      <td>0.0</td>\n",
       "      <td>Vamos, hola, hola</td>\n",
       "    </tr>\n",
       "    <tr>\n",
       "      <th>252</th>\n",
       "      <td>Some of the stuff I just, \"Whoo!\" you know. Ha-ha-ha.</td>\n",
       "      <td>some of the stuff i just whoo! you know hahaha</td>\n",
       "      <td>0.2</td>\n",
       "      <td>Algunas de las cosas me encantan, ya sabes, jajaja</td>\n",
       "    </tr>\n",
       "    <tr>\n",
       "      <th>1155</th>\n",
       "      <td>Do your job. Don't you tell me to dance!</td>\n",
       "      <td>do your job dont you tell me to dance!</td>\n",
       "      <td>0.0</td>\n",
       "      <td>Haz tu trabajo ¡no me digas que baile!</td>\n",
       "    </tr>\n",
       "    <tr>\n",
       "      <th>1857</th>\n",
       "      <td>DIERDORF: The trainer's still trying to revive Rod.</td>\n",
       "      <td>dierdorf the trainers still trying to revive rod</td>\n",
       "      <td>0.0</td>\n",
       "      <td>dierdorf los entrenadores siguen intentando revivir a rod</td>\n",
       "    </tr>\n",
       "  </tbody>\n",
       "</table>\n",
       "</div>"
      ],
      "text/plain": [
       "                                                  subtitulo  \\\n",
       "1942                        I missed my-- I missed my wife.   \n",
       "1425                                     Come on, hey, hey.   \n",
       "252   Some of the stuff I just, \"Whoo!\" you know. Ha-ha-ha.   \n",
       "1155               Do your job. Don't you tell me to dance!   \n",
       "1857    DIERDORF: The trainer's still trying to revive Rod.   \n",
       "\n",
       "                                      subtituloLimpio2  sentimiento  \\\n",
       "1942                      i missed my i missed my wife          0.0   \n",
       "1425                                   come on hey hey          0.0   \n",
       "252     some of the stuff i just whoo! you know hahaha          0.2   \n",
       "1155            do your job dont you tell me to dance!          0.0   \n",
       "1857  dierdorf the trainers still trying to revive rod          0.0   \n",
       "\n",
       "                                                   subtitulo_es  \n",
       "1942                          Extrañé a mi, extrañé a mi esposa  \n",
       "1425                                          Vamos, hola, hola  \n",
       "252          Algunas de las cosas me encantan, ya sabes, jajaja  \n",
       "1155                     Haz tu trabajo ¡no me digas que baile!  \n",
       "1857  dierdorf los entrenadores siguen intentando revivir a rod  "
      ]
     },
     "execution_count": 26,
     "metadata": {},
     "output_type": "execute_result"
    }
   ],
   "source": [
    "df[[\"subtitulo\",\"subtituloLimpio2\", \"sentimiento\", \"subtitulo_es\"]].sample(5)"
   ]
  },
  {
   "cell_type": "code",
   "execution_count": 27,
   "metadata": {},
   "outputs": [
    {
     "data": {
      "text/html": [
       "<div>\n",
       "<style scoped>\n",
       "    .dataframe tbody tr th:only-of-type {\n",
       "        vertical-align: middle;\n",
       "    }\n",
       "\n",
       "    .dataframe tbody tr th {\n",
       "        vertical-align: top;\n",
       "    }\n",
       "\n",
       "    .dataframe thead th {\n",
       "        text-align: right;\n",
       "    }\n",
       "</style>\n",
       "<table border=\"1\" class=\"dataframe\">\n",
       "  <thead>\n",
       "    <tr style=\"text-align: right;\">\n",
       "      <th></th>\n",
       "      <th>sentimiento</th>\n",
       "    </tr>\n",
       "  </thead>\n",
       "  <tbody>\n",
       "    <tr>\n",
       "      <th>count</th>\n",
       "      <td>1995.000000</td>\n",
       "    </tr>\n",
       "    <tr>\n",
       "      <th>mean</th>\n",
       "      <td>0.068777</td>\n",
       "    </tr>\n",
       "    <tr>\n",
       "      <th>std</th>\n",
       "      <td>0.262137</td>\n",
       "    </tr>\n",
       "    <tr>\n",
       "      <th>min</th>\n",
       "      <td>-1.000000</td>\n",
       "    </tr>\n",
       "    <tr>\n",
       "      <th>25%</th>\n",
       "      <td>0.000000</td>\n",
       "    </tr>\n",
       "    <tr>\n",
       "      <th>50%</th>\n",
       "      <td>0.000000</td>\n",
       "    </tr>\n",
       "    <tr>\n",
       "      <th>75%</th>\n",
       "      <td>0.096875</td>\n",
       "    </tr>\n",
       "    <tr>\n",
       "      <th>max</th>\n",
       "      <td>1.000000</td>\n",
       "    </tr>\n",
       "  </tbody>\n",
       "</table>\n",
       "</div>"
      ],
      "text/plain": [
       "       sentimiento\n",
       "count  1995.000000\n",
       "mean      0.068777\n",
       "std       0.262137\n",
       "min      -1.000000\n",
       "25%       0.000000\n",
       "50%       0.000000\n",
       "75%       0.096875\n",
       "max       1.000000"
      ]
     },
     "execution_count": 27,
     "metadata": {},
     "output_type": "execute_result"
    }
   ],
   "source": [
    "df[[\"sentimiento\"]].describe()"
   ]
  },
  {
   "cell_type": "markdown",
   "metadata": {},
   "source": [
    "**Vemos que los sentimientos recorren todo el espectro disponible. También podemos considerar que el guión de la película es medianamente más positivo que neutro observando la media del análisis.**"
   ]
  },
  {
   "cell_type": "markdown",
   "metadata": {},
   "source": [
    "### Análisis de Sentimiento con VADER"
   ]
  },
  {
   "cell_type": "markdown",
   "metadata": {},
   "source": [
    "Buscando otro método que quizás me realice una mejor clasificación de sentimientos es que voy a probar VADER."
   ]
  },
  {
   "cell_type": "code",
   "execution_count": 28,
   "metadata": {},
   "outputs": [
    {
     "name": "stderr",
     "output_type": "stream",
     "text": [
      "[nltk_data] Downloading package vader_lexicon to\n",
      "[nltk_data]     C:\\Users\\jorge\\AppData\\Roaming\\nltk_data...\n",
      "[nltk_data]   Package vader_lexicon is already up-to-date!\n"
     ]
    },
    {
     "data": {
      "text/plain": [
       "True"
      ]
     },
     "execution_count": 28,
     "metadata": {},
     "output_type": "execute_result"
    }
   ],
   "source": [
    "from nltk.sentiment import SentimentIntensityAnalyzer\n",
    "import nltk\n",
    "\n",
    "# Asegúrate de que los datos necesarios estén descargados\n",
    "nltk.download('vader_lexicon')"
   ]
  },
  {
   "cell_type": "code",
   "execution_count": 29,
   "metadata": {},
   "outputs": [],
   "source": [
    "sia = SentimentIntensityAnalyzer()\n",
    "\n",
    "def sentimiento_vader(text):\n",
    "    scores = sia.polarity_scores(text)\n",
    "    return scores['compound']  # Devuelve el puntaje general de sentimiento\n",
    "\n",
    "df['sentimientoVader'] = df['subtituloLimpio2'].apply(sentimiento_vader)"
   ]
  },
  {
   "cell_type": "code",
   "execution_count": 30,
   "metadata": {},
   "outputs": [
    {
     "data": {
      "text/html": [
       "<div>\n",
       "<style scoped>\n",
       "    .dataframe tbody tr th:only-of-type {\n",
       "        vertical-align: middle;\n",
       "    }\n",
       "\n",
       "    .dataframe tbody tr th {\n",
       "        vertical-align: top;\n",
       "    }\n",
       "\n",
       "    .dataframe thead th {\n",
       "        text-align: right;\n",
       "    }\n",
       "</style>\n",
       "<table border=\"1\" class=\"dataframe\">\n",
       "  <thead>\n",
       "    <tr style=\"text-align: right;\">\n",
       "      <th></th>\n",
       "      <th>subtitulo</th>\n",
       "      <th>subtituloLimpio2</th>\n",
       "      <th>sentimientoVader</th>\n",
       "      <th>subtitulo_es</th>\n",
       "    </tr>\n",
       "  </thead>\n",
       "  <tbody>\n",
       "    <tr>\n",
       "      <th>2026</th>\n",
       "      <td>The colors that you choose</td>\n",
       "      <td>the colors that you choose</td>\n",
       "      <td>0.0000</td>\n",
       "      <td>los colores que tu elijas</td>\n",
       "    </tr>\n",
       "    <tr>\n",
       "      <th>1272</th>\n",
       "      <td>MAN: A song for the lovers? -No. No, thank you.</td>\n",
       "      <td>man a song for the lovers? no no thank you</td>\n",
       "      <td>0.3612</td>\n",
       "      <td>¿Hombre, una canción para los enamorados? No, no, gracias.</td>\n",
       "    </tr>\n",
       "    <tr>\n",
       "      <th>1568</th>\n",
       "      <td>RAY: Yay! Yay! -We're gonna have a great season!</td>\n",
       "      <td>ray yay! yay! were gonna have a great season!</td>\n",
       "      <td>0.9149</td>\n",
       "      <td>¡Ray yay! ¡yay! ¡Vamos a tener una gran temporada!</td>\n",
       "    </tr>\n",
       "    <tr>\n",
       "      <th>595</th>\n",
       "      <td>I wonder what he said.</td>\n",
       "      <td>i wonder what he said</td>\n",
       "      <td>0.0000</td>\n",
       "      <td>Me pregunto qué dijo</td>\n",
       "    </tr>\n",
       "    <tr>\n",
       "      <th>676</th>\n",
       "      <td>-Nanny? I prefer child technician. -Dorothy?</td>\n",
       "      <td>nanny? i prefer child technician dorothy?</td>\n",
       "      <td>0.0000</td>\n",
       "      <td>¿Niñera? ¿Prefiero a la técnica infantil Dorothy?</td>\n",
       "    </tr>\n",
       "  </tbody>\n",
       "</table>\n",
       "</div>"
      ],
      "text/plain": [
       "                                             subtitulo  \\\n",
       "2026                       The colors that you choose    \n",
       "1272   MAN: A song for the lovers? -No. No, thank you.   \n",
       "1568  RAY: Yay! Yay! -We're gonna have a great season!   \n",
       "595                             I wonder what he said.   \n",
       "676       -Nanny? I prefer child technician. -Dorothy?   \n",
       "\n",
       "                                   subtituloLimpio2  sentimientoVader  \\\n",
       "2026                     the colors that you choose            0.0000   \n",
       "1272     man a song for the lovers? no no thank you            0.3612   \n",
       "1568  ray yay! yay! were gonna have a great season!            0.9149   \n",
       "595                           i wonder what he said            0.0000   \n",
       "676       nanny? i prefer child technician dorothy?            0.0000   \n",
       "\n",
       "                                                    subtitulo_es  \n",
       "2026                                   los colores que tu elijas  \n",
       "1272  ¿Hombre, una canción para los enamorados? No, no, gracias.  \n",
       "1568          ¡Ray yay! ¡yay! ¡Vamos a tener una gran temporada!  \n",
       "595                                         Me pregunto qué dijo  \n",
       "676            ¿Niñera? ¿Prefiero a la técnica infantil Dorothy?  "
      ]
     },
     "execution_count": 30,
     "metadata": {},
     "output_type": "execute_result"
    }
   ],
   "source": [
    "df[[ \"subtitulo\",'subtituloLimpio2','sentimientoVader', \"subtitulo_es\"]].sample(5)"
   ]
  },
  {
   "cell_type": "code",
   "execution_count": 31,
   "metadata": {},
   "outputs": [
    {
     "data": {
      "text/plain": [
       "count    1995.000000\n",
       "mean        0.092346\n",
       "std         0.342935\n",
       "min        -0.900100\n",
       "25%         0.000000\n",
       "50%         0.000000\n",
       "75%         0.340000\n",
       "max         0.931200\n",
       "Name: sentimientoVader, dtype: float64"
      ]
     },
     "execution_count": 31,
     "metadata": {},
     "output_type": "execute_result"
    }
   ],
   "source": [
    "df['sentimientoVader'].describe()"
   ]
  },
  {
   "cell_type": "markdown",
   "metadata": {},
   "source": [
    "**Parece capturar de buena manera el sentimiento dentro de los subtítulos con VADER.**\n",
    "La media indica que es un texto levemente positivo en general."
   ]
  },
  {
   "cell_type": "markdown",
   "metadata": {},
   "source": [
    "#### Top de Positivos y Negativos"
   ]
  },
  {
   "cell_type": "code",
   "execution_count": 32,
   "metadata": {},
   "outputs": [],
   "source": [
    "# Obtener los 10 subtítulos más positivos\n",
    "top_positivos = df.nlargest(10, 'sentimientoVader')[['sentimientoVader', 'subtitulo', 'subtitulo_es']]\n",
    "\n",
    "# Obtener los 10 subtítulos más negativos\n",
    "top_negativos = df.nsmallest(10, 'sentimientoVader')[['sentimientoVader', 'subtitulo', 'subtitulo_es']]"
   ]
  },
  {
   "cell_type": "code",
   "execution_count": 33,
   "metadata": {},
   "outputs": [
    {
     "name": "stdout",
     "output_type": "stream",
     "text": [
      "Subtítulos más positivos:\n"
     ]
    },
    {
     "data": {
      "text/html": [
       "<div>\n",
       "<style scoped>\n",
       "    .dataframe tbody tr th:only-of-type {\n",
       "        vertical-align: middle;\n",
       "    }\n",
       "\n",
       "    .dataframe tbody tr th {\n",
       "        vertical-align: top;\n",
       "    }\n",
       "\n",
       "    .dataframe thead th {\n",
       "        text-align: right;\n",
       "    }\n",
       "</style>\n",
       "<table border=\"1\" class=\"dataframe\">\n",
       "  <thead>\n",
       "    <tr style=\"text-align: right;\">\n",
       "      <th></th>\n",
       "      <th>sentimientoVader</th>\n",
       "      <th>subtitulo</th>\n",
       "      <th>subtitulo_es</th>\n",
       "    </tr>\n",
       "  </thead>\n",
       "  <tbody>\n",
       "    <tr>\n",
       "      <th>834</th>\n",
       "      <td>0.9312</td>\n",
       "      <td>-I love my son. -I love your son. I love your son!</td>\n",
       "      <td>Amo a mi hijo, amo a tu hijo, amo a tu hijo!</td>\n",
       "    </tr>\n",
       "    <tr>\n",
       "      <th>2003</th>\n",
       "      <td>0.9274</td>\n",
       "      <td>But I love my wife, I love my life...</td>\n",
       "      <td>pero amo a mi esposa amo mi vida</td>\n",
       "    </tr>\n",
       "    <tr>\n",
       "      <th>1183</th>\n",
       "      <td>0.9246</td>\n",
       "      <td>-He said you'd be happy-- Glad. -Did he say happy or glad?</td>\n",
       "      <td>Él dijo que estarías feliz. ¿Me alegro? ¿Dijo feliz o contento?</td>\n",
       "    </tr>\n",
       "    <tr>\n",
       "      <th>1996</th>\n",
       "      <td>0.9209</td>\n",
       "      <td>...but if he's got natural talent, pure joy for the game....</td>\n",
       "      <td>Pero si tiene talento natural, pura alegría por el juego.</td>\n",
       "    </tr>\n",
       "    <tr>\n",
       "      <th>1185</th>\n",
       "      <td>0.9186</td>\n",
       "      <td>-Glad is good. Glad is good. -Yeah.</td>\n",
       "      <td>Me alegro es bueno Me alegro es bueno Sí</td>\n",
       "    </tr>\n",
       "    <tr>\n",
       "      <th>1578</th>\n",
       "      <td>0.9169</td>\n",
       "      <td>I've got a great team behind me and I'm loving it. I'm loving life.</td>\n",
       "      <td>Tengo un gran equipo detrás de mí y me encanta, me encanta la vida.</td>\n",
       "    </tr>\n",
       "    <tr>\n",
       "      <th>1568</th>\n",
       "      <td>0.9149</td>\n",
       "      <td>RAY: Yay! Yay! -We're gonna have a great season!</td>\n",
       "      <td>¡Ray yay! ¡yay! ¡Vamos a tener una gran temporada!</td>\n",
       "    </tr>\n",
       "    <tr>\n",
       "      <th>1968</th>\n",
       "      <td>0.8827</td>\n",
       "      <td>I love everybody. I love my wife! Whoo! Marcee!</td>\n",
       "      <td>Amo a todos, amo a mi esposa! ¡Wooo! ¡Marcee!</td>\n",
       "    </tr>\n",
       "    <tr>\n",
       "      <th>508</th>\n",
       "      <td>0.8765</td>\n",
       "      <td>But I like you. Yes, I like you.</td>\n",
       "      <td>pero me gustas si me gustas</td>\n",
       "    </tr>\n",
       "    <tr>\n",
       "      <th>308</th>\n",
       "      <td>0.8720</td>\n",
       "      <td>Calm down, relax, act surprised, and have an amazing time.</td>\n",
       "      <td>Cálmate, relájate, actúa sorprendido y pasa un rato increíble.</td>\n",
       "    </tr>\n",
       "  </tbody>\n",
       "</table>\n",
       "</div>"
      ],
      "text/plain": [
       "      sentimientoVader  \\\n",
       "834             0.9312   \n",
       "2003            0.9274   \n",
       "1183            0.9246   \n",
       "1996            0.9209   \n",
       "1185            0.9186   \n",
       "1578            0.9169   \n",
       "1568            0.9149   \n",
       "1968            0.8827   \n",
       "508             0.8765   \n",
       "308             0.8720   \n",
       "\n",
       "                                                                subtitulo  \\\n",
       "834                    -I love my son. -I love your son. I love your son!   \n",
       "2003                                But I love my wife, I love my life...   \n",
       "1183           -He said you'd be happy-- Glad. -Did he say happy or glad?   \n",
       "1996         ...but if he's got natural talent, pure joy for the game....   \n",
       "1185                                  -Glad is good. Glad is good. -Yeah.   \n",
       "1578  I've got a great team behind me and I'm loving it. I'm loving life.   \n",
       "1568                     RAY: Yay! Yay! -We're gonna have a great season!   \n",
       "1968                      I love everybody. I love my wife! Whoo! Marcee!   \n",
       "508                                      But I like you. Yes, I like you.   \n",
       "308            Calm down, relax, act surprised, and have an amazing time.   \n",
       "\n",
       "                                                             subtitulo_es  \n",
       "834                          Amo a mi hijo, amo a tu hijo, amo a tu hijo!  \n",
       "2003                                     pero amo a mi esposa amo mi vida  \n",
       "1183      Él dijo que estarías feliz. ¿Me alegro? ¿Dijo feliz o contento?  \n",
       "1996            Pero si tiene talento natural, pura alegría por el juego.  \n",
       "1185                             Me alegro es bueno Me alegro es bueno Sí  \n",
       "1578  Tengo un gran equipo detrás de mí y me encanta, me encanta la vida.  \n",
       "1568                   ¡Ray yay! ¡yay! ¡Vamos a tener una gran temporada!  \n",
       "1968                        Amo a todos, amo a mi esposa! ¡Wooo! ¡Marcee!  \n",
       "508                                           pero me gustas si me gustas  \n",
       "308        Cálmate, relájate, actúa sorprendido y pasa un rato increíble.  "
      ]
     },
     "execution_count": 33,
     "metadata": {},
     "output_type": "execute_result"
    }
   ],
   "source": [
    "# Mostrar resultados\n",
    "print(\"Subtítulos más positivos:\")\n",
    "top_positivos"
   ]
  },
  {
   "cell_type": "code",
   "execution_count": 34,
   "metadata": {},
   "outputs": [
    {
     "name": "stdout",
     "output_type": "stream",
     "text": [
      "\n",
      "Subtítulos más negativos:\n"
     ]
    },
    {
     "data": {
      "text/html": [
       "<div>\n",
       "<style scoped>\n",
       "    .dataframe tbody tr th:only-of-type {\n",
       "        vertical-align: middle;\n",
       "    }\n",
       "\n",
       "    .dataframe tbody tr th {\n",
       "        vertical-align: top;\n",
       "    }\n",
       "\n",
       "    .dataframe thead th {\n",
       "        text-align: right;\n",
       "    }\n",
       "</style>\n",
       "<table border=\"1\" class=\"dataframe\">\n",
       "  <thead>\n",
       "    <tr style=\"text-align: right;\">\n",
       "      <th></th>\n",
       "      <th>sentimientoVader</th>\n",
       "      <th>subtitulo</th>\n",
       "      <th>subtitulo_es</th>\n",
       "    </tr>\n",
       "  </thead>\n",
       "  <tbody>\n",
       "    <tr>\n",
       "      <th>1549</th>\n",
       "      <td>-0.9001</td>\n",
       "      <td>You fuck this up, I'll kill you.</td>\n",
       "      <td>Si la cagas, te mato.</td>\n",
       "    </tr>\n",
       "    <tr>\n",
       "      <th>540</th>\n",
       "      <td>-0.8883</td>\n",
       "      <td>-Who's your motherfucker? -You're my motherfucker!</td>\n",
       "      <td>¿Quién es tu hijo de puta? ¡Eres mi hijo de puta!</td>\n",
       "    </tr>\n",
       "    <tr>\n",
       "      <th>1412</th>\n",
       "      <td>-0.8883</td>\n",
       "      <td>Broke! Broke, broke, broke.</td>\n",
       "      <td>¡se rompió! se rompió se rompió se rompió</td>\n",
       "    </tr>\n",
       "    <tr>\n",
       "      <th>483</th>\n",
       "      <td>-0.8860</td>\n",
       "      <td>I will kill for you, maim for you. I will rape and pillage for you.</td>\n",
       "      <td>Mataré por ti, mutilaré por ti, violaré y saquearé por ti.</td>\n",
       "    </tr>\n",
       "    <tr>\n",
       "      <th>340</th>\n",
       "      <td>-0.8807</td>\n",
       "      <td>Lies, lies, lies. He's an agent. He lies.</td>\n",
       "      <td>miente miente miente él es un agente él miente</td>\n",
       "    </tr>\n",
       "    <tr>\n",
       "      <th>1831</th>\n",
       "      <td>-0.8289</td>\n",
       "      <td>Can't you be loyal to your brother? Get the hell out of my house! Get out!</td>\n",
       "      <td>¿No puedes ser leal a tu hermano? ¡Sal de mi casa! ¡Fuera!</td>\n",
       "    </tr>\n",
       "    <tr>\n",
       "      <th>149</th>\n",
       "      <td>-0.8236</td>\n",
       "      <td>They don't want peace and they're not capable of love.</td>\n",
       "      <td>No quieren la paz y no son capaces de amar.</td>\n",
       "    </tr>\n",
       "    <tr>\n",
       "      <th>1957</th>\n",
       "      <td>-0.8126</td>\n",
       "      <td>Your brother loses a leg in a tragic bass-fishing accident.</td>\n",
       "      <td>Tu hermano pierde una pierna en un trágico accidente de pesca de lubina</td>\n",
       "    </tr>\n",
       "    <tr>\n",
       "      <th>919</th>\n",
       "      <td>-0.8086</td>\n",
       "      <td>I don't want to hear your \"Nah, nah, nah. Oh, I lost Cush and Avery\" and shit.</td>\n",
       "      <td>No quiero escuchar tu nah nah nah oh perdí a Cush y Avery y esa mierda</td>\n",
       "    </tr>\n",
       "    <tr>\n",
       "      <th>1647</th>\n",
       "      <td>-0.8019</td>\n",
       "      <td>But he keeps a brother-- I ain't get no respect. This is bullshit.</td>\n",
       "      <td>Pero él tiene un hermano, no tengo ningún respeto, esto es una mierda.</td>\n",
       "    </tr>\n",
       "  </tbody>\n",
       "</table>\n",
       "</div>"
      ],
      "text/plain": [
       "      sentimientoVader  \\\n",
       "1549           -0.9001   \n",
       "540            -0.8883   \n",
       "1412           -0.8883   \n",
       "483            -0.8860   \n",
       "340            -0.8807   \n",
       "1831           -0.8289   \n",
       "149            -0.8236   \n",
       "1957           -0.8126   \n",
       "919            -0.8086   \n",
       "1647           -0.8019   \n",
       "\n",
       "                                                                           subtitulo  \\\n",
       "1549                                                You fuck this up, I'll kill you.   \n",
       "540                               -Who's your motherfucker? -You're my motherfucker!   \n",
       "1412                                                     Broke! Broke, broke, broke.   \n",
       "483              I will kill for you, maim for you. I will rape and pillage for you.   \n",
       "340                                        Lies, lies, lies. He's an agent. He lies.   \n",
       "1831      Can't you be loyal to your brother? Get the hell out of my house! Get out!   \n",
       "149                           They don't want peace and they're not capable of love.   \n",
       "1957                     Your brother loses a leg in a tragic bass-fishing accident.   \n",
       "919   I don't want to hear your \"Nah, nah, nah. Oh, I lost Cush and Avery\" and shit.   \n",
       "1647              But he keeps a brother-- I ain't get no respect. This is bullshit.   \n",
       "\n",
       "                                                                 subtitulo_es  \n",
       "1549                                                    Si la cagas, te mato.  \n",
       "540                         ¿Quién es tu hijo de puta? ¡Eres mi hijo de puta!  \n",
       "1412                                ¡se rompió! se rompió se rompió se rompió  \n",
       "483                Mataré por ti, mutilaré por ti, violaré y saquearé por ti.  \n",
       "340                            miente miente miente él es un agente él miente  \n",
       "1831               ¿No puedes ser leal a tu hermano? ¡Sal de mi casa! ¡Fuera!  \n",
       "149                               No quieren la paz y no son capaces de amar.  \n",
       "1957  Tu hermano pierde una pierna en un trágico accidente de pesca de lubina  \n",
       "919    No quiero escuchar tu nah nah nah oh perdí a Cush y Avery y esa mierda  \n",
       "1647   Pero él tiene un hermano, no tengo ningún respeto, esto es una mierda.  "
      ]
     },
     "execution_count": 34,
     "metadata": {},
     "output_type": "execute_result"
    }
   ],
   "source": [
    "print(\"\\nSubtítulos más negativos:\")\n",
    "top_negativos"
   ]
  },
  {
   "cell_type": "markdown",
   "metadata": {},
   "source": [
    "### Análisis con TF-IDF vectorizer"
   ]
  },
  {
   "cell_type": "code",
   "execution_count": 35,
   "metadata": {},
   "outputs": [
    {
     "name": "stderr",
     "output_type": "stream",
     "text": [
      "[nltk_data] Downloading package stopwords to\n",
      "[nltk_data]     C:\\Users\\jorge\\AppData\\Roaming\\nltk_data...\n",
      "[nltk_data]   Package stopwords is already up-to-date!\n"
     ]
    }
   ],
   "source": [
    "import nltk\n",
    "nltk.download('stopwords')\n",
    "from nltk.corpus import stopwords\n",
    "\n",
    "# Obtener stopwords en inglés\n",
    "stop_words_en = stopwords.words('english')\n",
    "stop_words = set(stop_words_en)"
   ]
  },
  {
   "cell_type": "markdown",
   "metadata": {},
   "source": [
    "Defino funciones de limpieza específicas para asegurar la ejecución de las tareas que siguen a continuación."
   ]
  },
  {
   "cell_type": "code",
   "execution_count": 36,
   "metadata": {},
   "outputs": [],
   "source": [
    "def limpiar_texto3(text):\n",
    "    # Convertir a minúsculas\n",
    "    text = text.lower()\n",
    "    # Eliminar signos de puntuación (sin dejar ninguno)\n",
    "    text = re.sub(r'[^\\w\\s]', '', text)\n",
    "    return text\n",
    "\n",
    "def eliminar_stopwords(text):\n",
    "    # Tokenizar usando spaCy\n",
    "    tokens = nlp(text)\n",
    "    # Filtrar stopwords\n",
    "    filtered_tokens = [token.text for token in tokens if token.text not in stop_words]\n",
    "    return \" \".join(filtered_tokens)\n",
    "\n",
    "def lematizar_texto(text):\n",
    "    # Tokenizar y lematizar usando el modelo spaCy\n",
    "    doc = nlp(text)\n",
    "    # Devolver lemas uniendo las palabras\n",
    "    return \" \".join([token.lemma_ for token in doc if not token.is_punct])"
   ]
  },
  {
   "cell_type": "code",
   "execution_count": 37,
   "metadata": {},
   "outputs": [],
   "source": [
    "# Crear la columna subtitulolimpio3 sin signos de puntuación\n",
    "df['subtitulolimpio3'] = df['subtitulo'].apply(limpiar_texto3)"
   ]
  },
  {
   "cell_type": "code",
   "execution_count": 38,
   "metadata": {},
   "outputs": [
    {
     "data": {
      "text/html": [
       "<div>\n",
       "<style scoped>\n",
       "    .dataframe tbody tr th:only-of-type {\n",
       "        vertical-align: middle;\n",
       "    }\n",
       "\n",
       "    .dataframe tbody tr th {\n",
       "        vertical-align: top;\n",
       "    }\n",
       "\n",
       "    .dataframe thead th {\n",
       "        text-align: right;\n",
       "    }\n",
       "</style>\n",
       "<table border=\"1\" class=\"dataframe\">\n",
       "  <thead>\n",
       "    <tr style=\"text-align: right;\">\n",
       "      <th></th>\n",
       "      <th>subtitulo</th>\n",
       "      <th>subtitulolimpio3</th>\n",
       "    </tr>\n",
       "  </thead>\n",
       "  <tbody>\n",
       "    <tr>\n",
       "      <th>287</th>\n",
       "      <td>Man, whoever snagged him must be some classy babe.</td>\n",
       "      <td>man whoever snagged him must be some classy babe</td>\n",
       "    </tr>\n",
       "    <tr>\n",
       "      <th>253</th>\n",
       "      <td>No. That part about how we should embrace...</td>\n",
       "      <td>no that part about how we should embrace</td>\n",
       "    </tr>\n",
       "    <tr>\n",
       "      <th>1462</th>\n",
       "      <td>...with no regional Camel ad. Excuse me, darling.</td>\n",
       "      <td>with no regional camel ad excuse me darling</td>\n",
       "    </tr>\n",
       "    <tr>\n",
       "      <th>181</th>\n",
       "      <td>-And I was wondering if-- -That's all we have, okay?</td>\n",
       "      <td>and i was wondering if thats all we have okay</td>\n",
       "    </tr>\n",
       "    <tr>\n",
       "      <th>1961</th>\n",
       "      <td>It's a contract, guaranteed. Arizona Cardinals. Four years.</td>\n",
       "      <td>its a contract guaranteed arizona cardinals four years</td>\n",
       "    </tr>\n",
       "  </tbody>\n",
       "</table>\n",
       "</div>"
      ],
      "text/plain": [
       "                                                        subtitulo  \\\n",
       "287            Man, whoever snagged him must be some classy babe.   \n",
       "253                  No. That part about how we should embrace...   \n",
       "1462            ...with no regional Camel ad. Excuse me, darling.   \n",
       "181          -And I was wondering if-- -That's all we have, okay?   \n",
       "1961  It's a contract, guaranteed. Arizona Cardinals. Four years.   \n",
       "\n",
       "                                            subtitulolimpio3  \n",
       "287         man whoever snagged him must be some classy babe  \n",
       "253                 no that part about how we should embrace  \n",
       "1462             with no regional camel ad excuse me darling  \n",
       "181            and i was wondering if thats all we have okay  \n",
       "1961  its a contract guaranteed arizona cardinals four years  "
      ]
     },
     "execution_count": 38,
     "metadata": {},
     "output_type": "execute_result"
    }
   ],
   "source": [
    "df[['subtitulo', 'subtitulolimpio3']].sample(5)"
   ]
  },
  {
   "cell_type": "markdown",
   "metadata": {},
   "source": [
    "Con las funciones anteriores creo el campo 'subtituloSinStopwords1' apropiado para TF-IDF"
   ]
  },
  {
   "cell_type": "code",
   "execution_count": 39,
   "metadata": {},
   "outputs": [],
   "source": [
    "# Eliminar stopwords\n",
    "df['subtituloSinStopwords1'] = df['subtitulolimpio3'].apply(eliminar_stopwords)"
   ]
  },
  {
   "cell_type": "code",
   "execution_count": 40,
   "metadata": {},
   "outputs": [
    {
     "data": {
      "text/html": [
       "<div>\n",
       "<style scoped>\n",
       "    .dataframe tbody tr th:only-of-type {\n",
       "        vertical-align: middle;\n",
       "    }\n",
       "\n",
       "    .dataframe tbody tr th {\n",
       "        vertical-align: top;\n",
       "    }\n",
       "\n",
       "    .dataframe thead th {\n",
       "        text-align: right;\n",
       "    }\n",
       "</style>\n",
       "<table border=\"1\" class=\"dataframe\">\n",
       "  <thead>\n",
       "    <tr style=\"text-align: right;\">\n",
       "      <th></th>\n",
       "      <th>subtitulo</th>\n",
       "      <th>subtitulolimpio3</th>\n",
       "      <th>subtituloSinStopwords1</th>\n",
       "    </tr>\n",
       "  </thead>\n",
       "  <tbody>\n",
       "    <tr>\n",
       "      <th>1649</th>\n",
       "      <td>Oh, you guys. I go to see this so-called black film the other day, okay?</td>\n",
       "      <td>oh you guys i go to see this socalled black film the other day okay</td>\n",
       "      <td>oh guys go see socalled black film day okay</td>\n",
       "    </tr>\n",
       "    <tr>\n",
       "      <th>464</th>\n",
       "      <td>Rod? Rod, Rod. Jerry Maguire. How are you doing?</td>\n",
       "      <td>rod rod rod jerry maguire how are you doing</td>\n",
       "      <td>rod rod rod jerry maguire</td>\n",
       "    </tr>\n",
       "    <tr>\n",
       "      <th>779</th>\n",
       "      <td>-You're loving me now, aren't you? -I'm not about love.</td>\n",
       "      <td>youre loving me now arent you im not about love</td>\n",
       "      <td>loving nt love</td>\n",
       "    </tr>\n",
       "    <tr>\n",
       "      <th>749</th>\n",
       "      <td>-Rod ran for 1150 yards last year. -That's right.</td>\n",
       "      <td>rod ran for 1150 yards last year thats right</td>\n",
       "      <td>rod ran 1150 yards last year right</td>\n",
       "    </tr>\n",
       "    <tr>\n",
       "      <th>286</th>\n",
       "      <td>-Come here. -Dorothy?</td>\n",
       "      <td>come here dorothy</td>\n",
       "      <td>come dorothy</td>\n",
       "    </tr>\n",
       "    <tr>\n",
       "      <th>1389</th>\n",
       "      <td>That was really great of you this morning.</td>\n",
       "      <td>that was really great of you this morning</td>\n",
       "      <td>really great morning</td>\n",
       "    </tr>\n",
       "    <tr>\n",
       "      <th>1690</th>\n",
       "      <td>I'm about personal attention. This is my life.</td>\n",
       "      <td>im about personal attention this is my life</td>\n",
       "      <td>personal attention life</td>\n",
       "    </tr>\n",
       "    <tr>\n",
       "      <th>736</th>\n",
       "      <td>-Let's do it. JERRY: Hi, Mel. How are you?</td>\n",
       "      <td>lets do it jerry hi mel how are you</td>\n",
       "      <td>lets jerry hi mel</td>\n",
       "    </tr>\n",
       "    <tr>\n",
       "      <th>1034</th>\n",
       "      <td>When my daddy retired from the United Way after 38 years...</td>\n",
       "      <td>when my daddy retired from the united way after 38 years</td>\n",
       "      <td>daddy retired united way 38 years</td>\n",
       "    </tr>\n",
       "    <tr>\n",
       "      <th>1002</th>\n",
       "      <td>That's when the big dollars are gonna ï¬ow.</td>\n",
       "      <td>thats when the big dollars are gonna ïow</td>\n",
       "      <td>big dollars gon na ïow</td>\n",
       "    </tr>\n",
       "  </tbody>\n",
       "</table>\n",
       "</div>"
      ],
      "text/plain": [
       "                                                                     subtitulo  \\\n",
       "1649  Oh, you guys. I go to see this so-called black film the other day, okay?   \n",
       "464                           Rod? Rod, Rod. Jerry Maguire. How are you doing?   \n",
       "779                    -You're loving me now, aren't you? -I'm not about love.   \n",
       "749                          -Rod ran for 1150 yards last year. -That's right.   \n",
       "286                                                      -Come here. -Dorothy?   \n",
       "1389                                That was really great of you this morning.   \n",
       "1690                            I'm about personal attention. This is my life.   \n",
       "736                                 -Let's do it. JERRY: Hi, Mel. How are you?   \n",
       "1034               When my daddy retired from the United Way after 38 years...   \n",
       "1002                              That's when the big dollars are gonna ï¬ow.   \n",
       "\n",
       "                                                         subtitulolimpio3  \\\n",
       "1649  oh you guys i go to see this socalled black film the other day okay   \n",
       "464                           rod rod rod jerry maguire how are you doing   \n",
       "779                       youre loving me now arent you im not about love   \n",
       "749                          rod ran for 1150 yards last year thats right   \n",
       "286                                                     come here dorothy   \n",
       "1389                            that was really great of you this morning   \n",
       "1690                          im about personal attention this is my life   \n",
       "736                                   lets do it jerry hi mel how are you   \n",
       "1034             when my daddy retired from the united way after 38 years   \n",
       "1002                             thats when the big dollars are gonna ïow   \n",
       "\n",
       "                           subtituloSinStopwords1  \n",
       "1649  oh guys go see socalled black film day okay  \n",
       "464                     rod rod rod jerry maguire  \n",
       "779                                loving nt love  \n",
       "749            rod ran 1150 yards last year right  \n",
       "286                                  come dorothy  \n",
       "1389                         really great morning  \n",
       "1690                      personal attention life  \n",
       "736                             lets jerry hi mel  \n",
       "1034            daddy retired united way 38 years  \n",
       "1002                       big dollars gon na ïow  "
      ]
     },
     "execution_count": 40,
     "metadata": {},
     "output_type": "execute_result"
    }
   ],
   "source": [
    "df[['subtitulo', 'subtitulolimpio3','subtituloSinStopwords1']].sample(10)"
   ]
  },
  {
   "cell_type": "markdown",
   "metadata": {},
   "source": [
    "Creo el campo 'subtituloSinSWLematizado1' apropiado para TF-IDF."
   ]
  },
  {
   "cell_type": "code",
   "execution_count": 41,
   "metadata": {},
   "outputs": [],
   "source": [
    "# Lematizar\n",
    "df['subtituloSinSWLematizado1'] = df['subtituloSinStopwords1'].apply(lematizar_texto)"
   ]
  },
  {
   "cell_type": "code",
   "execution_count": 42,
   "metadata": {},
   "outputs": [
    {
     "data": {
      "text/html": [
       "<div>\n",
       "<style scoped>\n",
       "    .dataframe tbody tr th:only-of-type {\n",
       "        vertical-align: middle;\n",
       "    }\n",
       "\n",
       "    .dataframe tbody tr th {\n",
       "        vertical-align: top;\n",
       "    }\n",
       "\n",
       "    .dataframe thead th {\n",
       "        text-align: right;\n",
       "    }\n",
       "</style>\n",
       "<table border=\"1\" class=\"dataframe\">\n",
       "  <thead>\n",
       "    <tr style=\"text-align: right;\">\n",
       "      <th></th>\n",
       "      <th>subtitulo</th>\n",
       "      <th>subtitulolimpio3</th>\n",
       "      <th>subtituloSinStopwords1</th>\n",
       "      <th>subtituloSinSWLematizado1</th>\n",
       "    </tr>\n",
       "  </thead>\n",
       "  <tbody>\n",
       "    <tr>\n",
       "      <th>589</th>\n",
       "      <td>I don't know.</td>\n",
       "      <td>i dont know</td>\n",
       "      <td>nt know</td>\n",
       "      <td>not know</td>\n",
       "    </tr>\n",
       "    <tr>\n",
       "      <th>190</th>\n",
       "      <td>Honey, are you all right? Do you want some juice or something?</td>\n",
       "      <td>honey are you all right do you want some juice or something</td>\n",
       "      <td>honey right want juice something</td>\n",
       "      <td>honey right want juice something</td>\n",
       "    </tr>\n",
       "    <tr>\n",
       "      <th>481</th>\n",
       "      <td>on my list of the things you need to know.</td>\n",
       "      <td>on my list of the things you need to know</td>\n",
       "      <td>list things need know</td>\n",
       "      <td>list thing need know</td>\n",
       "    </tr>\n",
       "    <tr>\n",
       "      <th>1176</th>\n",
       "      <td>-That's my man. -Hey, I'm happy to entertain you.</td>\n",
       "      <td>thats my man hey im happy to entertain you</td>\n",
       "      <td>man hey happy entertain</td>\n",
       "      <td>man hey happy entertain</td>\n",
       "    </tr>\n",
       "    <tr>\n",
       "      <th>1974</th>\n",
       "      <td>-We only have a half-hour show. -I send love to my offensive line.</td>\n",
       "      <td>we only have a halfhour show i send love to my offensive line</td>\n",
       "      <td>halfhour show send love offensive line</td>\n",
       "      <td>halfhour show send love offensive line</td>\n",
       "    </tr>\n",
       "    <tr>\n",
       "      <th>498</th>\n",
       "      <td>-Rod, listen. -Hello, brother Maguire.</td>\n",
       "      <td>rod listen hello brother maguire</td>\n",
       "      <td>rod listen hello brother maguire</td>\n",
       "      <td>rod listen hello brother maguire</td>\n",
       "    </tr>\n",
       "    <tr>\n",
       "      <th>1572</th>\n",
       "      <td>Scotty, Tidwell did four for 36.</td>\n",
       "      <td>scotty tidwell did four for 36</td>\n",
       "      <td>scotty tidwell four 36</td>\n",
       "      <td>scotty tidwell four 36</td>\n",
       "    </tr>\n",
       "    <tr>\n",
       "      <th>269</th>\n",
       "      <td>-What? -Do you need a lift?</td>\n",
       "      <td>what do you need a lift</td>\n",
       "      <td>need lift</td>\n",
       "      <td>need lift</td>\n",
       "    </tr>\n",
       "    <tr>\n",
       "      <th>1565</th>\n",
       "      <td>Well, this definitely was another way to go. Ha-ha-ha.</td>\n",
       "      <td>well this definitely was another way to go hahaha</td>\n",
       "      <td>well definitely another way go hahaha</td>\n",
       "      <td>well definitely another way go hahaha</td>\n",
       "    </tr>\n",
       "    <tr>\n",
       "      <th>1451</th>\n",
       "      <td>-He's my client. -Then get him on the camel.</td>\n",
       "      <td>hes my client then get him on the camel</td>\n",
       "      <td>client get camel</td>\n",
       "      <td>client get camel</td>\n",
       "    </tr>\n",
       "  </tbody>\n",
       "</table>\n",
       "</div>"
      ],
      "text/plain": [
       "                                                               subtitulo  \\\n",
       "589                                                        I don't know.   \n",
       "190       Honey, are you all right? Do you want some juice or something?   \n",
       "481                           on my list of the things you need to know.   \n",
       "1176                   -That's my man. -Hey, I'm happy to entertain you.   \n",
       "1974  -We only have a half-hour show. -I send love to my offensive line.   \n",
       "498                               -Rod, listen. -Hello, brother Maguire.   \n",
       "1572                                    Scotty, Tidwell did four for 36.   \n",
       "269                                          -What? -Do you need a lift?   \n",
       "1565              Well, this definitely was another way to go. Ha-ha-ha.   \n",
       "1451                        -He's my client. -Then get him on the camel.   \n",
       "\n",
       "                                                   subtitulolimpio3  \\\n",
       "589                                                     i dont know   \n",
       "190     honey are you all right do you want some juice or something   \n",
       "481                       on my list of the things you need to know   \n",
       "1176                     thats my man hey im happy to entertain you   \n",
       "1974  we only have a halfhour show i send love to my offensive line   \n",
       "498                                rod listen hello brother maguire   \n",
       "1572                                 scotty tidwell did four for 36   \n",
       "269                                         what do you need a lift   \n",
       "1565              well this definitely was another way to go hahaha   \n",
       "1451                        hes my client then get him on the camel   \n",
       "\n",
       "                      subtituloSinStopwords1  \\\n",
       "589                                  nt know   \n",
       "190         honey right want juice something   \n",
       "481                    list things need know   \n",
       "1176                 man hey happy entertain   \n",
       "1974  halfhour show send love offensive line   \n",
       "498         rod listen hello brother maguire   \n",
       "1572                  scotty tidwell four 36   \n",
       "269                                need lift   \n",
       "1565   well definitely another way go hahaha   \n",
       "1451                        client get camel   \n",
       "\n",
       "                   subtituloSinSWLematizado1  \n",
       "589                                 not know  \n",
       "190         honey right want juice something  \n",
       "481                     list thing need know  \n",
       "1176                 man hey happy entertain  \n",
       "1974  halfhour show send love offensive line  \n",
       "498         rod listen hello brother maguire  \n",
       "1572                  scotty tidwell four 36  \n",
       "269                                need lift  \n",
       "1565   well definitely another way go hahaha  \n",
       "1451                        client get camel  "
      ]
     },
     "execution_count": 42,
     "metadata": {},
     "output_type": "execute_result"
    }
   ],
   "source": [
    "df[['subtitulo', 'subtitulolimpio3','subtituloSinStopwords1','subtituloSinSWLematizado1']].sample(10)"
   ]
  },
  {
   "cell_type": "code",
   "execution_count": 43,
   "metadata": {},
   "outputs": [],
   "source": [
    "from sklearn.feature_extraction.text import TfidfVectorizer\n",
    "import pandas as pd\n",
    "\n",
    "# Inicializar el vectorizador TF-IDF\n",
    "tfidf = TfidfVectorizer(stop_words=stop_words_en, max_features=500)\n",
    "\n",
    "# Generar la matriz TF-IDF\n",
    "tfidf_matrix = tfidf.fit_transform(df['subtitulolimpio3'])"
   ]
  },
  {
   "cell_type": "code",
   "execution_count": 44,
   "metadata": {},
   "outputs": [],
   "source": [
    "# Convertir la matriz en un DataFrame para inspección\n",
    "tfidf_df = pd.DataFrame(tfidf_matrix.toarray(), columns=tfidf.get_feature_names_out())"
   ]
  },
  {
   "cell_type": "code",
   "execution_count": 45,
   "metadata": {},
   "outputs": [
    {
     "data": {
      "text/html": [
       "<div>\n",
       "<style scoped>\n",
       "    .dataframe tbody tr th:only-of-type {\n",
       "        vertical-align: middle;\n",
       "    }\n",
       "\n",
       "    .dataframe tbody tr th {\n",
       "        vertical-align: top;\n",
       "    }\n",
       "\n",
       "    .dataframe thead th {\n",
       "        text-align: right;\n",
       "    }\n",
       "</style>\n",
       "<table border=\"1\" class=\"dataframe\">\n",
       "  <thead>\n",
       "    <tr style=\"text-align: right;\">\n",
       "      <th></th>\n",
       "      <th>10</th>\n",
       "      <th>across</th>\n",
       "      <th>act</th>\n",
       "      <th>actually</th>\n",
       "      <th>afford</th>\n",
       "      <th>agent</th>\n",
       "      <th>agents</th>\n",
       "      <th>ago</th>\n",
       "      <th>aint</th>\n",
       "      <th>almost</th>\n",
       "      <th>...</th>\n",
       "      <th>wrote</th>\n",
       "      <th>yeah</th>\n",
       "      <th>year</th>\n",
       "      <th>years</th>\n",
       "      <th>yes</th>\n",
       "      <th>yet</th>\n",
       "      <th>youll</th>\n",
       "      <th>youre</th>\n",
       "      <th>youve</th>\n",
       "      <th>zoo</th>\n",
       "    </tr>\n",
       "  </thead>\n",
       "  <tbody>\n",
       "    <tr>\n",
       "      <th>1538</th>\n",
       "      <td>0.0</td>\n",
       "      <td>0.0</td>\n",
       "      <td>0.0</td>\n",
       "      <td>0.0</td>\n",
       "      <td>0.0</td>\n",
       "      <td>0.0</td>\n",
       "      <td>0.0</td>\n",
       "      <td>0.0</td>\n",
       "      <td>0.0</td>\n",
       "      <td>0.0</td>\n",
       "      <td>...</td>\n",
       "      <td>0.0</td>\n",
       "      <td>0.0</td>\n",
       "      <td>0.0</td>\n",
       "      <td>0.0</td>\n",
       "      <td>0.0</td>\n",
       "      <td>0.0</td>\n",
       "      <td>0.0</td>\n",
       "      <td>0.0</td>\n",
       "      <td>0.0</td>\n",
       "      <td>0.0</td>\n",
       "    </tr>\n",
       "    <tr>\n",
       "      <th>1141</th>\n",
       "      <td>0.0</td>\n",
       "      <td>0.0</td>\n",
       "      <td>0.0</td>\n",
       "      <td>0.0</td>\n",
       "      <td>0.0</td>\n",
       "      <td>0.0</td>\n",
       "      <td>0.0</td>\n",
       "      <td>0.0</td>\n",
       "      <td>0.0</td>\n",
       "      <td>0.0</td>\n",
       "      <td>...</td>\n",
       "      <td>0.0</td>\n",
       "      <td>0.0</td>\n",
       "      <td>0.0</td>\n",
       "      <td>0.0</td>\n",
       "      <td>0.0</td>\n",
       "      <td>0.0</td>\n",
       "      <td>0.0</td>\n",
       "      <td>0.0</td>\n",
       "      <td>0.0</td>\n",
       "      <td>0.0</td>\n",
       "    </tr>\n",
       "    <tr>\n",
       "      <th>1868</th>\n",
       "      <td>0.0</td>\n",
       "      <td>0.0</td>\n",
       "      <td>0.0</td>\n",
       "      <td>0.0</td>\n",
       "      <td>0.0</td>\n",
       "      <td>0.0</td>\n",
       "      <td>0.0</td>\n",
       "      <td>0.0</td>\n",
       "      <td>0.0</td>\n",
       "      <td>0.0</td>\n",
       "      <td>...</td>\n",
       "      <td>0.0</td>\n",
       "      <td>0.0</td>\n",
       "      <td>0.0</td>\n",
       "      <td>0.0</td>\n",
       "      <td>0.0</td>\n",
       "      <td>0.0</td>\n",
       "      <td>0.0</td>\n",
       "      <td>0.0</td>\n",
       "      <td>0.0</td>\n",
       "      <td>0.0</td>\n",
       "    </tr>\n",
       "    <tr>\n",
       "      <th>1448</th>\n",
       "      <td>0.0</td>\n",
       "      <td>0.0</td>\n",
       "      <td>0.0</td>\n",
       "      <td>0.0</td>\n",
       "      <td>0.0</td>\n",
       "      <td>0.0</td>\n",
       "      <td>0.0</td>\n",
       "      <td>0.0</td>\n",
       "      <td>0.0</td>\n",
       "      <td>0.0</td>\n",
       "      <td>...</td>\n",
       "      <td>0.0</td>\n",
       "      <td>0.0</td>\n",
       "      <td>0.0</td>\n",
       "      <td>0.0</td>\n",
       "      <td>0.0</td>\n",
       "      <td>0.0</td>\n",
       "      <td>0.0</td>\n",
       "      <td>0.0</td>\n",
       "      <td>0.0</td>\n",
       "      <td>0.0</td>\n",
       "    </tr>\n",
       "    <tr>\n",
       "      <th>1744</th>\n",
       "      <td>0.0</td>\n",
       "      <td>0.0</td>\n",
       "      <td>0.0</td>\n",
       "      <td>0.0</td>\n",
       "      <td>0.0</td>\n",
       "      <td>0.0</td>\n",
       "      <td>0.0</td>\n",
       "      <td>0.0</td>\n",
       "      <td>0.0</td>\n",
       "      <td>0.0</td>\n",
       "      <td>...</td>\n",
       "      <td>0.0</td>\n",
       "      <td>0.0</td>\n",
       "      <td>0.0</td>\n",
       "      <td>0.0</td>\n",
       "      <td>0.0</td>\n",
       "      <td>0.0</td>\n",
       "      <td>0.0</td>\n",
       "      <td>0.0</td>\n",
       "      <td>0.0</td>\n",
       "      <td>0.0</td>\n",
       "    </tr>\n",
       "  </tbody>\n",
       "</table>\n",
       "<p>5 rows × 500 columns</p>\n",
       "</div>"
      ],
      "text/plain": [
       "       10  across  act  actually  afford  agent  agents  ago  aint  almost  \\\n",
       "1538  0.0     0.0  0.0       0.0     0.0    0.0     0.0  0.0   0.0     0.0   \n",
       "1141  0.0     0.0  0.0       0.0     0.0    0.0     0.0  0.0   0.0     0.0   \n",
       "1868  0.0     0.0  0.0       0.0     0.0    0.0     0.0  0.0   0.0     0.0   \n",
       "1448  0.0     0.0  0.0       0.0     0.0    0.0     0.0  0.0   0.0     0.0   \n",
       "1744  0.0     0.0  0.0       0.0     0.0    0.0     0.0  0.0   0.0     0.0   \n",
       "\n",
       "      ...  wrote  yeah  year  years  yes  yet  youll  youre  youve  zoo  \n",
       "1538  ...    0.0   0.0   0.0    0.0  0.0  0.0    0.0    0.0    0.0  0.0  \n",
       "1141  ...    0.0   0.0   0.0    0.0  0.0  0.0    0.0    0.0    0.0  0.0  \n",
       "1868  ...    0.0   0.0   0.0    0.0  0.0  0.0    0.0    0.0    0.0  0.0  \n",
       "1448  ...    0.0   0.0   0.0    0.0  0.0  0.0    0.0    0.0    0.0  0.0  \n",
       "1744  ...    0.0   0.0   0.0    0.0  0.0  0.0    0.0    0.0    0.0  0.0  \n",
       "\n",
       "[5 rows x 500 columns]"
      ]
     },
     "execution_count": 45,
     "metadata": {},
     "output_type": "execute_result"
    }
   ],
   "source": [
    "# Mostrar las primeras filas del DataFrame resultante\n",
    "tfidf_df.sample(5)"
   ]
  },
  {
   "cell_type": "code",
   "execution_count": 46,
   "metadata": {},
   "outputs": [
    {
     "name": "stdout",
     "output_type": "stream",
     "text": [
      "Palabras más relevantes:\n",
      "jerry    0.030698\n",
      "im       0.028223\n",
      "know     0.025141\n",
      "dont     0.019416\n",
      "oh       0.018792\n",
      "rod      0.016891\n",
      "right    0.016742\n",
      "love     0.016336\n",
      "man      0.016078\n",
      "okay     0.015326\n",
      "dtype: float64\n"
     ]
    }
   ],
   "source": [
    "# Calcular los puntajes promedio de cada palabra en todas las filas\n",
    "tfidf_scores = tfidf_df.mean().sort_values(ascending=False)\n",
    "\n",
    "# Mostrar las 10 palabras más relevantes según TF-IDF\n",
    "print(\"Palabras más relevantes:\")\n",
    "print(tfidf_scores.head(10))"
   ]
  },
  {
   "cell_type": "markdown",
   "metadata": {},
   "source": [
    "Calculamos **'tfidf_sum'** que representa la suma de los valores TF-IDF de todas las palabras en cada subtítulo. Este valor da la relevancia acumulada de las palabras usadas en el subtítulo."
   ]
  },
  {
   "cell_type": "code",
   "execution_count": 47,
   "metadata": {},
   "outputs": [],
   "source": [
    "# Agregar la suma de TF-IDF de cada subtítulo como una métrica adicional\n",
    "df['tfidf_sum'] = tfidf_df.sum(axis=1)"
   ]
  },
  {
   "cell_type": "code",
   "execution_count": 56,
   "metadata": {},
   "outputs": [
    {
     "data": {
      "text/html": [
       "<div>\n",
       "<style scoped>\n",
       "    .dataframe tbody tr th:only-of-type {\n",
       "        vertical-align: middle;\n",
       "    }\n",
       "\n",
       "    .dataframe tbody tr th {\n",
       "        vertical-align: top;\n",
       "    }\n",
       "\n",
       "    .dataframe thead th {\n",
       "        text-align: right;\n",
       "    }\n",
       "</style>\n",
       "<table border=\"1\" class=\"dataframe\">\n",
       "  <thead>\n",
       "    <tr style=\"text-align: right;\">\n",
       "      <th></th>\n",
       "      <th>subtitulo</th>\n",
       "      <th>subtitulo_es</th>\n",
       "      <th>sentimientoVader</th>\n",
       "      <th>tfidf_sum</th>\n",
       "    </tr>\n",
       "  </thead>\n",
       "  <tbody>\n",
       "    <tr>\n",
       "      <th>1450</th>\n",
       "      <td>I told you to put the camera low.</td>\n",
       "      <td>Te dije que bajaras la cámara</td>\n",
       "      <td>-0.2732</td>\n",
       "      <td>3.096157</td>\n",
       "    </tr>\n",
       "    <tr>\n",
       "      <th>1697</th>\n",
       "      <td>All right, thank you. Same to you, Marilee. Bye-bye.</td>\n",
       "      <td>Está bien, gracias. Lo mismo para ti, Marilee. Adiós.</td>\n",
       "      <td>0.3612</td>\n",
       "      <td>2.980771</td>\n",
       "    </tr>\n",
       "    <tr>\n",
       "      <th>1670</th>\n",
       "      <td>What were you thinking tonight...</td>\n",
       "      <td>¿En qué estabas pensando esta noche?</td>\n",
       "      <td>0.0000</td>\n",
       "      <td>2.816525</td>\n",
       "    </tr>\n",
       "    <tr>\n",
       "      <th>1767</th>\n",
       "      <td>Going for a second consecutive Super Bowl.</td>\n",
       "      <td>En busca de un segundo Super Bowl consecutivo</td>\n",
       "      <td>0.5994</td>\n",
       "      <td>2.812460</td>\n",
       "    </tr>\n",
       "    <tr>\n",
       "      <th>899</th>\n",
       "      <td>ROD: This is some bullshit. -What are you doing with me, Rod?</td>\n",
       "      <td>Rod, esto es una mierda. ¿Qué estás haciendo conmigo, Rod?</td>\n",
       "      <td>-0.5859</td>\n",
       "      <td>2.811567</td>\n",
       "    </tr>\n",
       "    <tr>\n",
       "      <th>1578</th>\n",
       "      <td>I've got a great team behind me and I'm loving it. I'm loving life.</td>\n",
       "      <td>Tengo un gran equipo detrás de mí y me encanta, me encanta la vida.</td>\n",
       "      <td>0.9169</td>\n",
       "      <td>2.806916</td>\n",
       "    </tr>\n",
       "    <tr>\n",
       "      <th>328</th>\n",
       "      <td>When I think about Jerry, my heart starts pounding.</td>\n",
       "      <td>Cuando pienso en Jerry mi corazón empieza a latir con fuerza.</td>\n",
       "      <td>0.0000</td>\n",
       "      <td>2.805794</td>\n",
       "    </tr>\n",
       "    <tr>\n",
       "      <th>638</th>\n",
       "      <td>We decided to stay with you.</td>\n",
       "      <td>Decidimos quedarnos contigo</td>\n",
       "      <td>0.0000</td>\n",
       "      <td>2.804382</td>\n",
       "    </tr>\n",
       "    <tr>\n",
       "      <th>1229</th>\n",
       "      <td>-I've got it in gray too. RAY: Thanks, Jerry.</td>\n",
       "      <td>También lo tengo en gris, Ray, gracias Jerry.</td>\n",
       "      <td>0.4404</td>\n",
       "      <td>2.798656</td>\n",
       "    </tr>\n",
       "    <tr>\n",
       "      <th>1262</th>\n",
       "      <td>[PEOPLE CHATTERING INDISTINCTLY]</td>\n",
       "      <td>gente charlando indistintamente</td>\n",
       "      <td>0.0000</td>\n",
       "      <td>2.794128</td>\n",
       "    </tr>\n",
       "  </tbody>\n",
       "</table>\n",
       "</div>"
      ],
      "text/plain": [
       "                                                                subtitulo  \\\n",
       "1450                                    I told you to put the camera low.   \n",
       "1697                 All right, thank you. Same to you, Marilee. Bye-bye.   \n",
       "1670                                    What were you thinking tonight...   \n",
       "1767                           Going for a second consecutive Super Bowl.   \n",
       "899         ROD: This is some bullshit. -What are you doing with me, Rod?   \n",
       "1578  I've got a great team behind me and I'm loving it. I'm loving life.   \n",
       "328                   When I think about Jerry, my heart starts pounding.   \n",
       "638                                          We decided to stay with you.   \n",
       "1229                        -I've got it in gray too. RAY: Thanks, Jerry.   \n",
       "1262                                     [PEOPLE CHATTERING INDISTINCTLY]   \n",
       "\n",
       "                                                             subtitulo_es  \\\n",
       "1450                                        Te dije que bajaras la cámara   \n",
       "1697                Está bien, gracias. Lo mismo para ti, Marilee. Adiós.   \n",
       "1670                                 ¿En qué estabas pensando esta noche?   \n",
       "1767                        En busca de un segundo Super Bowl consecutivo   \n",
       "899            Rod, esto es una mierda. ¿Qué estás haciendo conmigo, Rod?   \n",
       "1578  Tengo un gran equipo detrás de mí y me encanta, me encanta la vida.   \n",
       "328         Cuando pienso en Jerry mi corazón empieza a latir con fuerza.   \n",
       "638                                           Decidimos quedarnos contigo   \n",
       "1229                        También lo tengo en gris, Ray, gracias Jerry.   \n",
       "1262                                      gente charlando indistintamente   \n",
       "\n",
       "      sentimientoVader  tfidf_sum  \n",
       "1450           -0.2732   3.096157  \n",
       "1697            0.3612   2.980771  \n",
       "1670            0.0000   2.816525  \n",
       "1767            0.5994   2.812460  \n",
       "899            -0.5859   2.811567  \n",
       "1578            0.9169   2.806916  \n",
       "328             0.0000   2.805794  \n",
       "638             0.0000   2.804382  \n",
       "1229            0.4404   2.798656  \n",
       "1262            0.0000   2.794128  "
      ]
     },
     "execution_count": 56,
     "metadata": {},
     "output_type": "execute_result"
    }
   ],
   "source": [
    "# Combinar con sentimiento\n",
    "df[['subtitulo', 'subtitulo_es','sentimientoVader', 'tfidf_sum']].sort_values('tfidf_sum', ascending=False).head(10)"
   ]
  },
  {
   "cell_type": "markdown",
   "metadata": {},
   "source": [
    "Ahora veremos gráficamente la frecuencia con que aparecen los subtítulos según su **'tfidf_sum'**, que es la suma de TF-IDF para el subtítulo evaluado."
   ]
  },
  {
   "cell_type": "code",
   "execution_count": 49,
   "metadata": {},
   "outputs": [
    {
     "data": {
      "image/png": "[encoded data removed]",
      "text/plain": [
       "<Figure size 640x480 with 1 Axes>"
      ]
     },
     "metadata": {},
     "output_type": "display_data"
    }
   ],
   "source": [
    "import matplotlib.pyplot as plt\n",
    "\n",
    "plt.hist(df['tfidf_sum'], bins=20, color='blue', alpha=0.7)\n",
    "plt.title('Distribución de la suma de TF-IDF por subtítulo')\n",
    "plt.xlabel('Suma de TF-IDF')\n",
    "plt.ylabel('Frecuencia')\n",
    "\n",
    "plt.show()"
   ]
  },
  {
   "cell_type": "markdown",
   "metadata": {},
   "source": [
    "Podemos separar subtítulos en rangos de TF-IDF y observar algunos para entender como se plasma esa diferencia en el índice."
   ]
  },
  {
   "cell_type": "code",
   "execution_count": 50,
   "metadata": {},
   "outputs": [],
   "source": [
    "threshold=1.5\n",
    "subtitulos_altos = df[df['tfidf_sum'] > threshold]\n",
    "subtitulos_bajos = df[df['tfidf_sum'] < threshold]"
   ]
  },
  {
   "cell_type": "code",
   "execution_count": 51,
   "metadata": {},
   "outputs": [
    {
     "name": "stdout",
     "output_type": "stream",
     "text": [
      "subtitulos_altos:\n"
     ]
    },
    {
     "data": {
      "text/html": [
       "<div>\n",
       "<style scoped>\n",
       "    .dataframe tbody tr th:only-of-type {\n",
       "        vertical-align: middle;\n",
       "    }\n",
       "\n",
       "    .dataframe tbody tr th {\n",
       "        vertical-align: top;\n",
       "    }\n",
       "\n",
       "    .dataframe thead th {\n",
       "        text-align: right;\n",
       "    }\n",
       "</style>\n",
       "<table border=\"1\" class=\"dataframe\">\n",
       "  <thead>\n",
       "    <tr style=\"text-align: right;\">\n",
       "      <th></th>\n",
       "      <th>subtitulo</th>\n",
       "      <th>subtitulo_es</th>\n",
       "      <th>tfidf_sum</th>\n",
       "    </tr>\n",
       "  </thead>\n",
       "  <tbody>\n",
       "    <tr>\n",
       "      <th>1927</th>\n",
       "      <td>Okay.</td>\n",
       "      <td>bueno</td>\n",
       "      <td>1.994391</td>\n",
       "    </tr>\n",
       "    <tr>\n",
       "      <th>1949</th>\n",
       "      <td>Shut up.</td>\n",
       "      <td>callarse la boca</td>\n",
       "      <td>1.647164</td>\n",
       "    </tr>\n",
       "    <tr>\n",
       "      <th>605</th>\n",
       "      <td>And then I met you guys, and you're like me.</td>\n",
       "      <td>Y luego los conocí a ustedes y son como yo.</td>\n",
       "      <td>2.204471</td>\n",
       "    </tr>\n",
       "    <tr>\n",
       "      <th>1569</th>\n",
       "      <td>Woo-hoo!</td>\n",
       "      <td>¡Guau!</td>\n",
       "      <td>2.203049</td>\n",
       "    </tr>\n",
       "    <tr>\n",
       "      <th>377</th>\n",
       "      <td>-Hey. -Hey, buddy.</td>\n",
       "      <td>Hola, hola amigo</td>\n",
       "      <td>1.727821</td>\n",
       "    </tr>\n",
       "  </tbody>\n",
       "</table>\n",
       "</div>"
      ],
      "text/plain": [
       "                                         subtitulo  \\\n",
       "1927                                         Okay.   \n",
       "1949                                      Shut up.   \n",
       "605   And then I met you guys, and you're like me.   \n",
       "1569                                      Woo-hoo!   \n",
       "377                             -Hey. -Hey, buddy.   \n",
       "\n",
       "                                     subtitulo_es  tfidf_sum  \n",
       "1927                                        bueno   1.994391  \n",
       "1949                             callarse la boca   1.647164  \n",
       "605   Y luego los conocí a ustedes y son como yo.   2.204471  \n",
       "1569                                       ¡Guau!   2.203049  \n",
       "377                              Hola, hola amigo   1.727821  "
      ]
     },
     "execution_count": 51,
     "metadata": {},
     "output_type": "execute_result"
    }
   ],
   "source": [
    "print('subtitulos_altos:')\n",
    "subtitulos_altos[['subtitulo','subtitulo_es','tfidf_sum']].sample(5)"
   ]
  },
  {
   "cell_type": "markdown",
   "metadata": {},
   "source": [
    "Mi interpretación es que un alto TF-IDF resulta para subtítulos con gran valor de contenido impactante. Son como fraces que podemos recordar y asociar a la película."
   ]
  },
  {
   "cell_type": "code",
   "execution_count": 52,
   "metadata": {},
   "outputs": [
    {
     "name": "stdout",
     "output_type": "stream",
     "text": [
      "subtitulos_bajos:\n"
     ]
    },
    {
     "data": {
      "text/html": [
       "<div>\n",
       "<style scoped>\n",
       "    .dataframe tbody tr th:only-of-type {\n",
       "        vertical-align: middle;\n",
       "    }\n",
       "\n",
       "    .dataframe tbody tr th {\n",
       "        vertical-align: top;\n",
       "    }\n",
       "\n",
       "    .dataframe thead th {\n",
       "        text-align: right;\n",
       "    }\n",
       "</style>\n",
       "<table border=\"1\" class=\"dataframe\">\n",
       "  <thead>\n",
       "    <tr style=\"text-align: right;\">\n",
       "      <th></th>\n",
       "      <th>subtitulo</th>\n",
       "      <th>subtitulo_es</th>\n",
       "      <th>tfidf_sum</th>\n",
       "    </tr>\n",
       "  </thead>\n",
       "  <tbody>\n",
       "    <tr>\n",
       "      <th>633</th>\n",
       "      <td>Beer and tomato juice. Huh?</td>\n",
       "      <td>Cerveza y jugo de tomate ¿eh?</td>\n",
       "      <td>1.392941</td>\n",
       "    </tr>\n",
       "    <tr>\n",
       "      <th>671</th>\n",
       "      <td>She had to fly to Atlanta. She had a meeting at the NFL.</td>\n",
       "      <td>Ella tenía que volar a Atlanta porque tenía una reunión en la NFL.</td>\n",
       "      <td>1.337039</td>\n",
       "    </tr>\n",
       "    <tr>\n",
       "      <th>990</th>\n",
       "      <td>-Oh. -Everything's fine.</td>\n",
       "      <td>Oh, todo está bien.</td>\n",
       "      <td>1.414152</td>\n",
       "    </tr>\n",
       "    <tr>\n",
       "      <th>1193</th>\n",
       "      <td>Mm. No. I'm really relieved that you said that.</td>\n",
       "      <td>Mmm, no, realmente me siento aliviado de que hayas dicho eso.</td>\n",
       "      <td>1.000000</td>\n",
       "    </tr>\n",
       "    <tr>\n",
       "      <th>1709</th>\n",
       "      <td>...and it might have just been a hypothetical.</td>\n",
       "      <td>Y podría haber sido sólo una hipótesis.</td>\n",
       "      <td>1.414121</td>\n",
       "    </tr>\n",
       "  </tbody>\n",
       "</table>\n",
       "</div>"
      ],
      "text/plain": [
       "                                                     subtitulo  \\\n",
       "633                                Beer and tomato juice. Huh?   \n",
       "671   She had to fly to Atlanta. She had a meeting at the NFL.   \n",
       "990                                   -Oh. -Everything's fine.   \n",
       "1193           Mm. No. I'm really relieved that you said that.   \n",
       "1709            ...and it might have just been a hypothetical.   \n",
       "\n",
       "                                                            subtitulo_es  \\\n",
       "633                                        Cerveza y jugo de tomate ¿eh?   \n",
       "671   Ella tenía que volar a Atlanta porque tenía una reunión en la NFL.   \n",
       "990                                                  Oh, todo está bien.   \n",
       "1193       Mmm, no, realmente me siento aliviado de que hayas dicho eso.   \n",
       "1709                             Y podría haber sido sólo una hipótesis.   \n",
       "\n",
       "      tfidf_sum  \n",
       "633    1.392941  \n",
       "671    1.337039  \n",
       "990    1.414152  \n",
       "1193   1.000000  \n",
       "1709   1.414121  "
      ]
     },
     "execution_count": 52,
     "metadata": {},
     "output_type": "execute_result"
    }
   ],
   "source": [
    "print('subtitulos_bajos:')\n",
    "subtitulos_bajos[['subtitulo','subtitulo_es','tfidf_sum']].sample(5)"
   ]
  },
  {
   "cell_type": "markdown",
   "metadata": {},
   "source": [
    "Para un bajo TF-IDF es todo lo contrario, en general son fraces menos impactantes."
   ]
  },
  {
   "cell_type": "markdown",
   "metadata": {},
   "source": [
    "#### Representación gráfica TF-IDF vs Sentimiento"
   ]
  },
  {
   "cell_type": "markdown",
   "metadata": {},
   "source": [
    "En el siguiente gráfico se representa el eje x coincidente con el gráfico anterior pero en el se plasma la evaluación de sentimientos resultante.\n",
    "De ésta manera se puede tener una visión general de como se distribuye el sentimiento en toda la película."
   ]
  },
  {
   "cell_type": "code",
   "execution_count": 53,
   "metadata": {},
   "outputs": [
    {
     "data": {
      "image/png": "[encoded data removed]",
      "text/plain": [
       "<Figure size 640x480 with 1 Axes>"
      ]
     },
     "metadata": {},
     "output_type": "display_data"
    }
   ],
   "source": [
    "plt.scatter(df['tfidf_sum'], df['sentimientoVader'], alpha=0.5)\n",
    "plt.title('TF-IDF vs Sentimiento')\n",
    "plt.xlabel('Suma de TF-IDF')\n",
    "plt.ylabel('Sentimiento (VADER)')\n",
    "plt.show()"
   ]
  },
  {
   "cell_type": "markdown",
   "metadata": {},
   "source": [
    "### Nube de Palabras"
   ]
  },
  {
   "cell_type": "code",
   "execution_count": 54,
   "metadata": {},
   "outputs": [],
   "source": [
    "X = tfidf.fit_transform(df['subtituloLimpio1'])"
   ]
  },
  {
   "cell_type": "code",
   "execution_count": 55,
   "metadata": {},
   "outputs": [
    {
     "data": {
      "image/png": "[encoded data removed]",
      "text/plain": [
       "<Figure size 1000x500 with 1 Axes>"
      ]
     },
     "metadata": {},
     "output_type": "display_data"
    }
   ],
   "source": [
    "from wordcloud import WordCloud\n",
    "import matplotlib.pyplot as plt\n",
    "\n",
    "# Obtener las palabras y sus puntuaciones TF-IDF\n",
    "# `get_feature_names_out()` da las palabras\n",
    "# `toarray()` da las puntuaciones de TF-IDF\n",
    "words = tfidf.get_feature_names_out()\n",
    "# Sumar las puntuaciones de cada palabra\n",
    "tfidf_scores = X.sum(axis=0).A1  \n",
    "\n",
    "# Crear un diccionario de palabras con sus correspondientes puntuaciones\n",
    "word_dict = dict(zip(words, tfidf_scores))\n",
    "\n",
    "# Generar la nube de palabras con las palabras y puntuaciones obtenidas\n",
    "wordcloud = WordCloud(width=800, height=400, background_color='white', max_words=100, colormap='viridis').generate_from_frequencies(word_dict)\n",
    "\n",
    "# Visualizar la nube de palabras\n",
    "plt.figure(figsize=(10, 5))\n",
    "plt.imshow(wordcloud, interpolation='bilinear')\n",
    "plt.axis('off')  # Ocultar los ejes\n",
    "plt.show()"
   ]
  }
 ],
 "metadata": {
  "kernelspec": {
   "display_name": "deep02",
   "language": "python",
   "name": "python3"
  },
  "language_info": {
   "codemirror_mode": {
    "name": "ipython",
    "version": 3
   },
   "file_extension": ".py",
   "mimetype": "text/x-python",
   "name": "python",
   "nbconvert_exporter": "python",
   "pygments_lexer": "ipython3",
   "version": "3.10.16"
  }
 },
 "nbformat": 4,
 "nbformat_minor": 2
}
