{
 "cells": [
  {
   "cell_type": "markdown",
   "metadata": {},
   "source": [
    "# Deep Learning aplicado a un guión de película"
   ]
  },
  {
   "cell_type": "code",
   "execution_count": 1,
   "metadata": {},
   "outputs": [],
   "source": [
    "import pandas as pd"
   ]
  },
  {
   "cell_type": "markdown",
   "metadata": {},
   "source": [
    "## Importación del guión a Df"
   ]
  },
  {
   "cell_type": "code",
   "execution_count": 2,
   "metadata": {},
   "outputs": [],
   "source": [
    "# Leer el archivo CSV\n",
    "df = pd.read_csv(\"subtitulos.csv\", encoding=\"utf-8\")"
   ]
  },
  {
   "cell_type": "code",
   "execution_count": 3,
   "metadata": {},
   "outputs": [
    {
     "data": {
      "text/html": [
       "<div>\n",
       "<style scoped>\n",
       "    .dataframe tbody tr th:only-of-type {\n",
       "        vertical-align: middle;\n",
       "    }\n",
       "\n",
       "    .dataframe tbody tr th {\n",
       "        vertical-align: top;\n",
       "    }\n",
       "\n",
       "    .dataframe thead th {\n",
       "        text-align: right;\n",
       "    }\n",
       "</style>\n",
       "<table border=\"1\" class=\"dataframe\">\n",
       "  <thead>\n",
       "    <tr style=\"text-align: right;\">\n",
       "      <th></th>\n",
       "      <th>inicio</th>\n",
       "      <th>fin</th>\n",
       "      <th>subtitulo</th>\n",
       "    </tr>\n",
       "  </thead>\n",
       "  <tbody>\n",
       "    <tr>\n",
       "      <th>324</th>\n",
       "      <td>00:18:24,854</td>\n",
       "      <td>00:18:26,147</td>\n",
       "      <td>MAN [DUBBED]: Jerry Maguire.</td>\n",
       "    </tr>\n",
       "    <tr>\n",
       "      <th>710</th>\n",
       "      <td>00:41:09,885</td>\n",
       "      <td>00:41:12,638</td>\n",
       "      <td>JERRY: Cush, how are you, man?</td>\n",
       "    </tr>\n",
       "    <tr>\n",
       "      <th>1280</th>\n",
       "      <td>01:17:13,254</td>\n",
       "      <td>01:17:16,758</td>\n",
       "      <td>I'll be back in just a second, okay?</td>\n",
       "    </tr>\n",
       "    <tr>\n",
       "      <th>1666</th>\n",
       "      <td>01:47:36,618</td>\n",
       "      <td>01:47:39,245</td>\n",
       "      <td>-Now? ROD: Baby, baby, baby now!</td>\n",
       "    </tr>\n",
       "    <tr>\n",
       "      <th>1866</th>\n",
       "      <td>02:02:02,858 --&gt; 02:02:04,401 And he is getting up.</td>\n",
       "      <td>NaN</td>\n",
       "      <td>NaN</td>\n",
       "    </tr>\n",
       "  </tbody>\n",
       "</table>\n",
       "</div>"
      ],
      "text/plain": [
       "                                                   inicio           fin  \\\n",
       "324                                          00:18:24,854  00:18:26,147   \n",
       "710                                          00:41:09,885  00:41:12,638   \n",
       "1280                                         01:17:13,254  01:17:16,758   \n",
       "1666                                         01:47:36,618  01:47:39,245   \n",
       "1866  02:02:02,858 --> 02:02:04,401 And he is getting up.           NaN   \n",
       "\n",
       "                                 subtitulo  \n",
       "324           MAN [DUBBED]: Jerry Maguire.  \n",
       "710         JERRY: Cush, how are you, man?  \n",
       "1280  I'll be back in just a second, okay?  \n",
       "1666      -Now? ROD: Baby, baby, baby now!  \n",
       "1866                                   NaN  "
      ]
     },
     "execution_count": 3,
     "metadata": {},
     "output_type": "execute_result"
    }
   ],
   "source": [
    "# Mostrar todo el contenido en varias filas para cada columna\n",
    "pd.set_option('display.max_colwidth', None)\n",
    "df.sample(5)"
   ]
  },
  {
   "cell_type": "code",
   "execution_count": 4,
   "metadata": {},
   "outputs": [
    {
     "data": {
      "text/plain": [
       "(2028, 3)"
      ]
     },
     "execution_count": 4,
     "metadata": {},
     "output_type": "execute_result"
    }
   ],
   "source": [
    "df.shape"
   ]
  },
  {
   "cell_type": "markdown",
   "metadata": {},
   "source": [
    "## NLP"
   ]
  },
  {
   "cell_type": "code",
   "execution_count": 5,
   "metadata": {},
   "outputs": [],
   "source": [
    "import spacy\n",
    "from spacy.lang.en.stop_words import STOP_WORDS\n",
    "import string"
   ]
  },
  {
   "cell_type": "code",
   "execution_count": 6,
   "metadata": {},
   "outputs": [],
   "source": [
    "# Cargar modelo\n",
    "# ver otros como: es_core_news_sm, es_core_news_md, es_core_news_lg\n",
    "nlp = spacy.load(\"en_core_web_sm\")"
   ]
  },
  {
   "cell_type": "markdown",
   "metadata": {},
   "source": [
    "### Limpieza"
   ]
  },
  {
   "cell_type": "code",
   "execution_count": 7,
   "metadata": {},
   "outputs": [],
   "source": [
    "# Eliminar filas donde 'subtitulo' es NaN\n",
    "df = df.dropna(subset=['subtitulo'])"
   ]
  },
  {
   "cell_type": "markdown",
   "metadata": {},
   "source": [
    "Función de limpieza total que deja el contenido en minúsculas y sin puntuación"
   ]
  },
  {
   "cell_type": "code",
   "execution_count": 8,
   "metadata": {},
   "outputs": [],
   "source": [
    "# Función para limpiar el texto: convertir a minúsculas y eliminar puntuación\n",
    "def limpiar_texto1(text):\n",
    "    # Convertir a minúsculas\n",
    "    text = text.lower()\n",
    "    # Eliminar signos de puntuación\n",
    "    text = ''.join([char for char in text if char not in string.punctuation])\n",
    "    return text"
   ]
  },
  {
   "cell_type": "markdown",
   "metadata": {},
   "source": [
    "Función de limpieza parcial que deja el contenido en minúsculas y sin puntuación salvo '?%¿!¡'"
   ]
  },
  {
   "cell_type": "code",
   "execution_count": 9,
   "metadata": {},
   "outputs": [],
   "source": [
    "import re\n",
    "\n",
    "def limpiar_texto2(texto):\n",
    "    # Convertir a minúsculas\n",
    "    texto = texto.lower()\n",
    "    # Eliminar caracteres no deseados pero mantener '?%¿!¡'\n",
    "    texto = re.sub(r'[^\\w\\s?%¿!¡]', '', texto)\n",
    "    # Eliminar espacios redundantes\n",
    "    texto = re.sub(r'\\s+', ' ', texto).strip()\n",
    "    return texto"
   ]
  },
  {
   "cell_type": "markdown",
   "metadata": {},
   "source": [
    "El campo: **subtituloLimpio1** se utilizará para toquenizar"
   ]
  },
  {
   "cell_type": "code",
   "execution_count": 10,
   "metadata": {},
   "outputs": [],
   "source": [
    "# Aplicar limpieza al subtítulo\n",
    "df['subtituloLimpio1'] = df['subtitulo'].apply(limpiar_texto1)"
   ]
  },
  {
   "cell_type": "markdown",
   "metadata": {},
   "source": [
    "El campo: **subtituloLimpio2** se utilizará para análisis de sentimiento por conservar los signos '?' y '!' que permiten interpretar mejor el sentimiento del texto."
   ]
  },
  {
   "cell_type": "code",
   "execution_count": 11,
   "metadata": {},
   "outputs": [],
   "source": [
    "# Aplicar limpieza al subtítulo\n",
    "df['subtituloLimpio2'] = df['subtitulo'].apply(limpiar_texto2)"
   ]
  },
  {
   "cell_type": "markdown",
   "metadata": {},
   "source": [
    "### Tokenización"
   ]
  },
  {
   "cell_type": "markdown",
   "metadata": {},
   "source": [
    "Analizando los resultados hasta aquí, veo ejemplos donde la tokenización falla desde mi punto de vista:\n",
    "- **I didn't -> [i, did, nt]**\n",
    "\n",
    "Por lo anterior, decidí expandir primero las contracciones y luego realizar la tokenización."
   ]
  },
  {
   "cell_type": "code",
   "execution_count": 12,
   "metadata": {},
   "outputs": [],
   "source": [
    "import contractions\n",
    "\n",
    "def expandir_contracciones(texto):\n",
    "    return contractions.fix(texto)\n",
    "\n",
    "# Expande contracciones antes de tokenizar\n",
    "df[\"subtituloExp\"] = df[\"subtituloLimpio1\"].apply(expandir_contracciones)"
   ]
  },
  {
   "cell_type": "markdown",
   "metadata": {},
   "source": [
    "Tokenizo los subtítulos en una nueva columna 'tokens'. Recordemos que el campo: **subtituloLimpio1** se utilizará para toquenizar"
   ]
  },
  {
   "cell_type": "code",
   "execution_count": 13,
   "metadata": {},
   "outputs": [],
   "source": [
    "# Tokenizar cada subtítulo usando SpaCy\n",
    "df[\"tokens\"] = df[\"subtituloExp\"].apply(lambda text: [token.text for token in nlp(text)])"
   ]
  },
  {
   "cell_type": "code",
   "execution_count": 14,
   "metadata": {},
   "outputs": [
    {
     "name": "stdout",
     "output_type": "stream",
     "text": [
      "Casos con tokens vacíos o en blanco: 79\n"
     ]
    }
   ],
   "source": [
    "# Contar las filas donde hay tokens en blanco o vacíos\n",
    "casos_con_tokens_vacios = df['tokens'].apply(lambda x: any(token.strip() == \"\" for token in x)).sum()\n",
    "\n",
    "print(f\"Casos con tokens vacíos o en blanco: {casos_con_tokens_vacios}\")"
   ]
  },
  {
   "cell_type": "code",
   "execution_count": 15,
   "metadata": {},
   "outputs": [],
   "source": [
    "# Limpieza de tokens en blanco\n",
    "df['tokens'] = df['tokens'].apply(lambda x: [token for token in x if token.strip() != \"\"])"
   ]
  },
  {
   "cell_type": "markdown",
   "metadata": {},
   "source": [
    "Comparamos los resultados de los tratamientos realizados:"
   ]
  },
  {
   "cell_type": "code",
   "execution_count": 16,
   "metadata": {},
   "outputs": [
    {
     "data": {
      "text/html": [
       "<div>\n",
       "<style scoped>\n",
       "    .dataframe tbody tr th:only-of-type {\n",
       "        vertical-align: middle;\n",
       "    }\n",
       "\n",
       "    .dataframe tbody tr th {\n",
       "        vertical-align: top;\n",
       "    }\n",
       "\n",
       "    .dataframe thead th {\n",
       "        text-align: right;\n",
       "    }\n",
       "</style>\n",
       "<table border=\"1\" class=\"dataframe\">\n",
       "  <thead>\n",
       "    <tr style=\"text-align: right;\">\n",
       "      <th></th>\n",
       "      <th>subtitulo</th>\n",
       "      <th>subtituloExp</th>\n",
       "      <th>tokens</th>\n",
       "    </tr>\n",
       "  </thead>\n",
       "  <tbody>\n",
       "    <tr>\n",
       "      <th>1961</th>\n",
       "      <td>It's a contract, guaranteed. Arizona Cardinals. Four years.</td>\n",
       "      <td>its a contract guaranteed arizona cardinals four years</td>\n",
       "      <td>[its, a, contract, guaranteed, arizona, cardinals, four, years]</td>\n",
       "    </tr>\n",
       "    <tr>\n",
       "      <th>424</th>\n",
       "      <td>I'm gonna make this decision easy for you.</td>\n",
       "      <td>i am going to make this decision easy for you</td>\n",
       "      <td>[i, am, going, to, make, this, decision, easy, for, you]</td>\n",
       "    </tr>\n",
       "    <tr>\n",
       "      <th>1682</th>\n",
       "      <td>Jerry, can I come in and watch TV?</td>\n",
       "      <td>jerry can i come in and watch tv</td>\n",
       "      <td>[jerry, can, i, come, in, and, watch, tv]</td>\n",
       "    </tr>\n",
       "    <tr>\n",
       "      <th>1061</th>\n",
       "      <td>Do not worry about your future.</td>\n",
       "      <td>do not worry about your future</td>\n",
       "      <td>[do, not, worry, about, your, future]</td>\n",
       "    </tr>\n",
       "    <tr>\n",
       "      <th>1972</th>\n",
       "      <td>You're militant, but I ain't mad at you. Nothing but love for you.</td>\n",
       "      <td>you are militant but i are not mad at you nothing but love for you</td>\n",
       "      <td>[you, are, militant, but, i, are, not, mad, at, you, nothing, but, love, for, you]</td>\n",
       "    </tr>\n",
       "  </tbody>\n",
       "</table>\n",
       "</div>"
      ],
      "text/plain": [
       "                                                               subtitulo  \\\n",
       "1961         It's a contract, guaranteed. Arizona Cardinals. Four years.   \n",
       "424                           I'm gonna make this decision easy for you.   \n",
       "1682                                  Jerry, can I come in and watch TV?   \n",
       "1061                                     Do not worry about your future.   \n",
       "1972  You're militant, but I ain't mad at you. Nothing but love for you.   \n",
       "\n",
       "                                                            subtituloExp  \\\n",
       "1961              its a contract guaranteed arizona cardinals four years   \n",
       "424                        i am going to make this decision easy for you   \n",
       "1682                                    jerry can i come in and watch tv   \n",
       "1061                                      do not worry about your future   \n",
       "1972  you are militant but i are not mad at you nothing but love for you   \n",
       "\n",
       "                                                                                  tokens  \n",
       "1961                     [its, a, contract, guaranteed, arizona, cardinals, four, years]  \n",
       "424                             [i, am, going, to, make, this, decision, easy, for, you]  \n",
       "1682                                           [jerry, can, i, come, in, and, watch, tv]  \n",
       "1061                                               [do, not, worry, about, your, future]  \n",
       "1972  [you, are, militant, but, i, are, not, mad, at, you, nothing, but, love, for, you]  "
      ]
     },
     "execution_count": 16,
     "metadata": {},
     "output_type": "execute_result"
    }
   ],
   "source": [
    "df[['subtitulo','subtituloExp','tokens']].sample(5)"
   ]
  },
  {
   "cell_type": "markdown",
   "metadata": {},
   "source": [
    "### Sin Stopwords"
   ]
  },
  {
   "cell_type": "markdown",
   "metadata": {},
   "source": [
    "Genero columna 'tokensSinStopwords'"
   ]
  },
  {
   "cell_type": "code",
   "execution_count": 17,
   "metadata": {},
   "outputs": [],
   "source": [
    "# Eliminar stopwords de los tokens\n",
    "df[\"tokensSinStopwords\"] = df[\"tokens\"].apply(lambda tokens: [token for token in tokens if not nlp.vocab[token].is_stop])"
   ]
  },
  {
   "cell_type": "code",
   "execution_count": 18,
   "metadata": {},
   "outputs": [
    {
     "data": {
      "text/html": [
       "<div>\n",
       "<style scoped>\n",
       "    .dataframe tbody tr th:only-of-type {\n",
       "        vertical-align: middle;\n",
       "    }\n",
       "\n",
       "    .dataframe tbody tr th {\n",
       "        vertical-align: top;\n",
       "    }\n",
       "\n",
       "    .dataframe thead th {\n",
       "        text-align: right;\n",
       "    }\n",
       "</style>\n",
       "<table border=\"1\" class=\"dataframe\">\n",
       "  <thead>\n",
       "    <tr style=\"text-align: right;\">\n",
       "      <th></th>\n",
       "      <th>subtitulo</th>\n",
       "      <th>tokens</th>\n",
       "      <th>tokensSinStopwords</th>\n",
       "    </tr>\n",
       "  </thead>\n",
       "  <tbody>\n",
       "    <tr>\n",
       "      <th>180</th>\n",
       "      <td>Hi, my son is really allergic to the material in the blankets.</td>\n",
       "      <td>[hi, my, son, is, really, allergic, to, the, material, in, the, blankets]</td>\n",
       "      <td>[hi, son, allergic, material, blankets]</td>\n",
       "    </tr>\n",
       "    <tr>\n",
       "      <th>1610</th>\n",
       "      <td>Huh?</td>\n",
       "      <td>[huh]</td>\n",
       "      <td>[huh]</td>\n",
       "    </tr>\n",
       "    <tr>\n",
       "      <th>1428</th>\n",
       "      <td>...surviving, splendid black man.</td>\n",
       "      <td>[surviving, splendid, black, man]</td>\n",
       "      <td>[surviving, splendid, black, man]</td>\n",
       "    </tr>\n",
       "    <tr>\n",
       "      <th>614</th>\n",
       "      <td>That's wonderful. Next time you lecture me...</td>\n",
       "      <td>[that, is, wonderful, next, time, you, lecture, me]</td>\n",
       "      <td>[wonderful, time, lecture]</td>\n",
       "    </tr>\n",
       "    <tr>\n",
       "      <th>542</th>\n",
       "      <td>Congratulations, you're still my agent.</td>\n",
       "      <td>[congratulations, you, are, still, my, agent]</td>\n",
       "      <td>[congratulations, agent]</td>\n",
       "    </tr>\n",
       "  </tbody>\n",
       "</table>\n",
       "</div>"
      ],
      "text/plain": [
       "                                                           subtitulo  \\\n",
       "180   Hi, my son is really allergic to the material in the blankets.   \n",
       "1610                                                            Huh?   \n",
       "1428                               ...surviving, splendid black man.   \n",
       "614                    That's wonderful. Next time you lecture me...   \n",
       "542                          Congratulations, you're still my agent.   \n",
       "\n",
       "                                                                         tokens  \\\n",
       "180   [hi, my, son, is, really, allergic, to, the, material, in, the, blankets]   \n",
       "1610                                                                      [huh]   \n",
       "1428                                          [surviving, splendid, black, man]   \n",
       "614                         [that, is, wonderful, next, time, you, lecture, me]   \n",
       "542                               [congratulations, you, are, still, my, agent]   \n",
       "\n",
       "                           tokensSinStopwords  \n",
       "180   [hi, son, allergic, material, blankets]  \n",
       "1610                                    [huh]  \n",
       "1428        [surviving, splendid, black, man]  \n",
       "614                [wonderful, time, lecture]  \n",
       "542                  [congratulations, agent]  "
      ]
     },
     "execution_count": 18,
     "metadata": {},
     "output_type": "execute_result"
    }
   ],
   "source": [
    "df[[\"subtitulo\", \"tokens\",\"tokensSinStopwords\"]].sample(5)"
   ]
  },
  {
   "cell_type": "markdown",
   "metadata": {},
   "source": [
    "### Lematización"
   ]
  },
  {
   "cell_type": "markdown",
   "metadata": {},
   "source": [
    "Aplico lematización para generar una nueva columna: tokensLematizados"
   ]
  },
  {
   "cell_type": "code",
   "execution_count": 19,
   "metadata": {},
   "outputs": [],
   "source": [
    "# Lematizar los tokens sin stopwords\n",
    "df[\"tokensLematizados\"] = df[\"tokensSinStopwords\"].apply(lambda tokens: [nlp(token)[0].lemma_ for token in tokens])"
   ]
  },
  {
   "cell_type": "code",
   "execution_count": 20,
   "metadata": {},
   "outputs": [
    {
     "data": {
      "text/html": [
       "<div>\n",
       "<style scoped>\n",
       "    .dataframe tbody tr th:only-of-type {\n",
       "        vertical-align: middle;\n",
       "    }\n",
       "\n",
       "    .dataframe tbody tr th {\n",
       "        vertical-align: top;\n",
       "    }\n",
       "\n",
       "    .dataframe thead th {\n",
       "        text-align: right;\n",
       "    }\n",
       "</style>\n",
       "<table border=\"1\" class=\"dataframe\">\n",
       "  <thead>\n",
       "    <tr style=\"text-align: right;\">\n",
       "      <th></th>\n",
       "      <th>subtitulo</th>\n",
       "      <th>tokens</th>\n",
       "      <th>tokensSinStopwords</th>\n",
       "      <th>tokensLematizados</th>\n",
       "    </tr>\n",
       "  </thead>\n",
       "  <tbody>\n",
       "    <tr>\n",
       "      <th>81</th>\n",
       "      <td>Wait.</td>\n",
       "      <td>[wait]</td>\n",
       "      <td>[wait]</td>\n",
       "      <td>[wait]</td>\n",
       "    </tr>\n",
       "    <tr>\n",
       "      <th>26</th>\n",
       "      <td>JERRY: I'm the guy you don't usually see.</td>\n",
       "      <td>[jerry, i, am, the, guy, you, do, not, usually, see]</td>\n",
       "      <td>[jerry, guy, usually]</td>\n",
       "      <td>[jerry, guy, usually]</td>\n",
       "    </tr>\n",
       "    <tr>\n",
       "      <th>607</th>\n",
       "      <td>-What about medical? -Of course medical.</td>\n",
       "      <td>[what, about, medical, of, course, medical]</td>\n",
       "      <td>[medical, course, medical]</td>\n",
       "      <td>[medical, course, medical]</td>\n",
       "    </tr>\n",
       "    <tr>\n",
       "      <th>1614</th>\n",
       "      <td>She was loyal.</td>\n",
       "      <td>[she, was, loyal]</td>\n",
       "      <td>[loyal]</td>\n",
       "      <td>[loyal]</td>\n",
       "    </tr>\n",
       "    <tr>\n",
       "      <th>844</th>\n",
       "      <td>We signed an hour ago.</td>\n",
       "      <td>[we, signed, an, hour, ago]</td>\n",
       "      <td>[signed, hour, ago]</td>\n",
       "      <td>[sign, hour, ago]</td>\n",
       "    </tr>\n",
       "  </tbody>\n",
       "</table>\n",
       "</div>"
      ],
      "text/plain": [
       "                                      subtitulo  \\\n",
       "81                                        Wait.   \n",
       "26    JERRY: I'm the guy you don't usually see.   \n",
       "607    -What about medical? -Of course medical.   \n",
       "1614                             She was loyal.   \n",
       "844                      We signed an hour ago.   \n",
       "\n",
       "                                                    tokens  \\\n",
       "81                                                  [wait]   \n",
       "26    [jerry, i, am, the, guy, you, do, not, usually, see]   \n",
       "607            [what, about, medical, of, course, medical]   \n",
       "1614                                     [she, was, loyal]   \n",
       "844                            [we, signed, an, hour, ago]   \n",
       "\n",
       "              tokensSinStopwords           tokensLematizados  \n",
       "81                        [wait]                      [wait]  \n",
       "26         [jerry, guy, usually]       [jerry, guy, usually]  \n",
       "607   [medical, course, medical]  [medical, course, medical]  \n",
       "1614                     [loyal]                     [loyal]  \n",
       "844          [signed, hour, ago]           [sign, hour, ago]  "
      ]
     },
     "execution_count": 20,
     "metadata": {},
     "output_type": "execute_result"
    }
   ],
   "source": [
    "df[[\"subtitulo\", \"tokens\",\"tokensSinStopwords\",\"tokensLematizados\"]].sample(5)"
   ]
  },
  {
   "cell_type": "markdown",
   "metadata": {},
   "source": [
    "## Análisis de Sentimiento"
   ]
  },
  {
   "cell_type": "markdown",
   "metadata": {},
   "source": [
    "Genero campo 'subtitulo_es' para mejor interpretación de algunos resultados."
   ]
  },
  {
   "cell_type": "code",
   "execution_count": 24,
   "metadata": {},
   "outputs": [],
   "source": [
    "from google.cloud import translate_v2 as translate\n",
    "import os\n",
    "\n",
    "# Configura la clave del servicio\n",
    "os.environ['GOOGLE_APPLICATION_CREDENTIALS'] = 'traductor-448217-8995a2d825d7.json'\n",
    "\n",
    "# Inicializar cliente de traducción\n",
    "translate_client = translate.Client()\n",
    "\n",
    "# Función para traducir texto\n",
    "def traducir_texto_google(text):\n",
    "    try:\n",
    "        if text:  # Verificar que el texto no sea vacío o None\n",
    "            result = translate_client.translate(text, target_language='es')\n",
    "            return result['translatedText']\n",
    "        return None\n",
    "    except Exception as e:\n",
    "        print(f\"Error al traducir: {text}. Detalle: {e}\")\n",
    "        return None\n"
   ]
  },
  {
   "cell_type": "code",
   "execution_count": 25,
   "metadata": {},
   "outputs": [],
   "source": [
    "# Aplicar la traducción a los subtítulos\n",
    "df['subtitulo_es'] = df['subtituloLimpio2'].apply(traducir_texto_google)"
   ]
  },
  {
   "cell_type": "code",
   "execution_count": 148,
   "metadata": {},
   "outputs": [
    {
     "data": {
      "text/html": [
       "<div>\n",
       "<style scoped>\n",
       "    .dataframe tbody tr th:only-of-type {\n",
       "        vertical-align: middle;\n",
       "    }\n",
       "\n",
       "    .dataframe tbody tr th {\n",
       "        vertical-align: top;\n",
       "    }\n",
       "\n",
       "    .dataframe thead th {\n",
       "        text-align: right;\n",
       "    }\n",
       "</style>\n",
       "<table border=\"1\" class=\"dataframe\">\n",
       "  <thead>\n",
       "    <tr style=\"text-align: right;\">\n",
       "      <th></th>\n",
       "      <th>subtitulo</th>\n",
       "      <th>subtitulo_es</th>\n",
       "    </tr>\n",
       "  </thead>\n",
       "  <tbody>\n",
       "    <tr>\n",
       "      <th>106</th>\n",
       "      <td>JERRY: I couldn't escape one simple thought:</td>\n",
       "      <td>JERRY: No pude escapar de un simple pensamiento:</td>\n",
       "    </tr>\n",
       "    <tr>\n",
       "      <th>1992</th>\n",
       "      <td>Did you see?</td>\n",
       "      <td>¿Has visto?</td>\n",
       "    </tr>\n",
       "    <tr>\n",
       "      <th>1347</th>\n",
       "      <td>-Just tell me one thing. -No.</td>\n",
       "      <td>-Sólo dime una cosa. -No.</td>\n",
       "    </tr>\n",
       "    <tr>\n",
       "      <th>736</th>\n",
       "      <td>-Let's do it. JERRY: Hi, Mel. How are you?</td>\n",
       "      <td>-Hagámoslo. JERRY: Hola, Mel. ¿Cómo estás?</td>\n",
       "    </tr>\n",
       "    <tr>\n",
       "      <th>1200</th>\n",
       "      <td>Exactly.</td>\n",
       "      <td>Exactamente.</td>\n",
       "    </tr>\n",
       "  </tbody>\n",
       "</table>\n",
       "</div>"
      ],
      "text/plain": [
       "                                         subtitulo  \\\n",
       "106   JERRY: I couldn't escape one simple thought:   \n",
       "1992                                  Did you see?   \n",
       "1347                 -Just tell me one thing. -No.   \n",
       "736     -Let's do it. JERRY: Hi, Mel. How are you?   \n",
       "1200                                      Exactly.   \n",
       "\n",
       "                                          subtitulo_es  \n",
       "106   JERRY: No pude escapar de un simple pensamiento:  \n",
       "1992                                       ¿Has visto?  \n",
       "1347                         -Sólo dime una cosa. -No.  \n",
       "736         -Hagámoslo. JERRY: Hola, Mel. ¿Cómo estás?  \n",
       "1200                                      Exactamente.  "
      ]
     },
     "execution_count": 148,
     "metadata": {},
     "output_type": "execute_result"
    }
   ],
   "source": [
    "df[['subtitulo','subtitulo_es']].sample(5)"
   ]
  },
  {
   "cell_type": "markdown",
   "metadata": {},
   "source": [
    "### TextBlob"
   ]
  },
  {
   "cell_type": "code",
   "execution_count": 27,
   "metadata": {},
   "outputs": [],
   "source": [
    "from textblob import TextBlob\n",
    "\n",
    "# Función para obtener la polaridad del sentimiento\n",
    "def sentimientoTextblob(text):\n",
    "    blob = TextBlob(text)\n",
    "    return blob.sentiment.polarity  # Devuelve el puntaje de polaridad (-1 a 1)"
   ]
  },
  {
   "cell_type": "code",
   "execution_count": 28,
   "metadata": {},
   "outputs": [],
   "source": [
    "# Aplicar el análisis de sentimiento a los subtítulos originales\n",
    "df['sentimiento'] = df['subtituloLimpio2'].apply(sentimientoTextblob)"
   ]
  },
  {
   "cell_type": "code",
   "execution_count": 147,
   "metadata": {},
   "outputs": [
    {
     "data": {
      "text/html": [
       "<div>\n",
       "<style scoped>\n",
       "    .dataframe tbody tr th:only-of-type {\n",
       "        vertical-align: middle;\n",
       "    }\n",
       "\n",
       "    .dataframe tbody tr th {\n",
       "        vertical-align: top;\n",
       "    }\n",
       "\n",
       "    .dataframe thead th {\n",
       "        text-align: right;\n",
       "    }\n",
       "</style>\n",
       "<table border=\"1\" class=\"dataframe\">\n",
       "  <thead>\n",
       "    <tr style=\"text-align: right;\">\n",
       "      <th></th>\n",
       "      <th>subtitulo</th>\n",
       "      <th>subtituloLimpio2</th>\n",
       "      <th>sentimiento</th>\n",
       "      <th>subtitulo_es</th>\n",
       "    </tr>\n",
       "  </thead>\n",
       "  <tbody>\n",
       "    <tr>\n",
       "      <th>156</th>\n",
       "      <td>-They've all gone out. -Oh, they did?</td>\n",
       "      <td>theyve all gone out oh they did?</td>\n",
       "      <td>0.000000</td>\n",
       "      <td>-Todos se fueron. -¿Oh, lo hicieron?</td>\n",
       "    </tr>\n",
       "    <tr>\n",
       "      <th>144</th>\n",
       "      <td>That's how you become great, man.</td>\n",
       "      <td>thats how you become great man</td>\n",
       "      <td>0.800000</td>\n",
       "      <td>Así es como te vuelves grande, hombre.</td>\n",
       "    </tr>\n",
       "    <tr>\n",
       "      <th>1207</th>\n",
       "      <td>The guy's a loser so I broke up with him, and then he started stalking me.</td>\n",
       "      <td>the guys a loser so i broke up with him and then he started stalking me</td>\n",
       "      <td>0.000000</td>\n",
       "      <td>El tipo es un perdedor, así que rompí con él y luego comenzó a acosarme.</td>\n",
       "    </tr>\n",
       "    <tr>\n",
       "      <th>1932</th>\n",
       "      <td>And now, I just...</td>\n",
       "      <td>and now i just</td>\n",
       "      <td>0.000000</td>\n",
       "      <td>Y ahora, yo solo...</td>\n",
       "    </tr>\n",
       "    <tr>\n",
       "      <th>1494</th>\n",
       "      <td>All right. Goodbye.</td>\n",
       "      <td>all right goodbye</td>\n",
       "      <td>0.285714</td>\n",
       "      <td>Está bien. Adiós.</td>\n",
       "    </tr>\n",
       "  </tbody>\n",
       "</table>\n",
       "</div>"
      ],
      "text/plain": [
       "                                                                       subtitulo  \\\n",
       "156                                        -They've all gone out. -Oh, they did?   \n",
       "144                                            That's how you become great, man.   \n",
       "1207  The guy's a loser so I broke up with him, and then he started stalking me.   \n",
       "1932                                                          And now, I just...   \n",
       "1494                                                         All right. Goodbye.   \n",
       "\n",
       "                                                             subtituloLimpio2  \\\n",
       "156                                          theyve all gone out oh they did?   \n",
       "144                                            thats how you become great man   \n",
       "1207  the guys a loser so i broke up with him and then he started stalking me   \n",
       "1932                                                           and now i just   \n",
       "1494                                                        all right goodbye   \n",
       "\n",
       "      sentimiento  \\\n",
       "156      0.000000   \n",
       "144      0.800000   \n",
       "1207     0.000000   \n",
       "1932     0.000000   \n",
       "1494     0.285714   \n",
       "\n",
       "                                                                  subtitulo_es  \n",
       "156                                       -Todos se fueron. -¿Oh, lo hicieron?  \n",
       "144                                     Así es como te vuelves grande, hombre.  \n",
       "1207  El tipo es un perdedor, así que rompí con él y luego comenzó a acosarme.  \n",
       "1932                                                       Y ahora, yo solo...  \n",
       "1494                                                         Está bien. Adiós.  "
      ]
     },
     "execution_count": 147,
     "metadata": {},
     "output_type": "execute_result"
    }
   ],
   "source": [
    "df[[\"subtitulo\",\"subtituloLimpio2\", \"sentimiento\", \"subtitulo_es\"]].sample(5)"
   ]
  },
  {
   "cell_type": "code",
   "execution_count": 32,
   "metadata": {},
   "outputs": [
    {
     "data": {
      "text/html": [
       "<div>\n",
       "<style scoped>\n",
       "    .dataframe tbody tr th:only-of-type {\n",
       "        vertical-align: middle;\n",
       "    }\n",
       "\n",
       "    .dataframe tbody tr th {\n",
       "        vertical-align: top;\n",
       "    }\n",
       "\n",
       "    .dataframe thead th {\n",
       "        text-align: right;\n",
       "    }\n",
       "</style>\n",
       "<table border=\"1\" class=\"dataframe\">\n",
       "  <thead>\n",
       "    <tr style=\"text-align: right;\">\n",
       "      <th></th>\n",
       "      <th>sentimiento</th>\n",
       "    </tr>\n",
       "  </thead>\n",
       "  <tbody>\n",
       "    <tr>\n",
       "      <th>count</th>\n",
       "      <td>1995.000000</td>\n",
       "    </tr>\n",
       "    <tr>\n",
       "      <th>mean</th>\n",
       "      <td>0.068777</td>\n",
       "    </tr>\n",
       "    <tr>\n",
       "      <th>std</th>\n",
       "      <td>0.262137</td>\n",
       "    </tr>\n",
       "    <tr>\n",
       "      <th>min</th>\n",
       "      <td>-1.000000</td>\n",
       "    </tr>\n",
       "    <tr>\n",
       "      <th>25%</th>\n",
       "      <td>0.000000</td>\n",
       "    </tr>\n",
       "    <tr>\n",
       "      <th>50%</th>\n",
       "      <td>0.000000</td>\n",
       "    </tr>\n",
       "    <tr>\n",
       "      <th>75%</th>\n",
       "      <td>0.096875</td>\n",
       "    </tr>\n",
       "    <tr>\n",
       "      <th>max</th>\n",
       "      <td>1.000000</td>\n",
       "    </tr>\n",
       "  </tbody>\n",
       "</table>\n",
       "</div>"
      ],
      "text/plain": [
       "       sentimiento\n",
       "count  1995.000000\n",
       "mean      0.068777\n",
       "std       0.262137\n",
       "min      -1.000000\n",
       "25%       0.000000\n",
       "50%       0.000000\n",
       "75%       0.096875\n",
       "max       1.000000"
      ]
     },
     "execution_count": 32,
     "metadata": {},
     "output_type": "execute_result"
    }
   ],
   "source": [
    "df[[\"sentimiento\"]].describe()"
   ]
  },
  {
   "cell_type": "markdown",
   "metadata": {},
   "source": [
    "**Vemos que los sentimientos recorren todo el espectro disponible. También podemos considerar que el guión de la película es medianamente más positivo que neutro observando la media del análisis.**"
   ]
  },
  {
   "cell_type": "markdown",
   "metadata": {},
   "source": [
    "### Análisis de Sentimiento con VADER"
   ]
  },
  {
   "cell_type": "markdown",
   "metadata": {},
   "source": [
    "Buscando otro método que quizás me realice una mejor clasificación de sentimientos es que voy a probar VADER."
   ]
  },
  {
   "cell_type": "code",
   "execution_count": 33,
   "metadata": {},
   "outputs": [
    {
     "name": "stderr",
     "output_type": "stream",
     "text": [
      "[nltk_data] Downloading package vader_lexicon to\n",
      "[nltk_data]     C:\\Users\\jorge\\AppData\\Roaming\\nltk_data...\n",
      "[nltk_data]   Package vader_lexicon is already up-to-date!\n"
     ]
    },
    {
     "data": {
      "text/plain": [
       "True"
      ]
     },
     "execution_count": 33,
     "metadata": {},
     "output_type": "execute_result"
    }
   ],
   "source": [
    "from nltk.sentiment import SentimentIntensityAnalyzer\n",
    "import nltk\n",
    "\n",
    "# Asegúrate de que los datos necesarios estén descargados\n",
    "nltk.download('vader_lexicon')"
   ]
  },
  {
   "cell_type": "code",
   "execution_count": 34,
   "metadata": {},
   "outputs": [],
   "source": [
    "sia = SentimentIntensityAnalyzer()\n",
    "\n",
    "def sentimiento_vader(text):\n",
    "    scores = sia.polarity_scores(text)\n",
    "    return scores['compound']  # Devuelve el puntaje general de sentimiento\n",
    "\n",
    "df['sentimientoVader'] = df['subtituloLimpio2'].apply(sentimiento_vader)"
   ]
  },
  {
   "cell_type": "code",
   "execution_count": 38,
   "metadata": {},
   "outputs": [
    {
     "data": {
      "text/html": [
       "<div>\n",
       "<style scoped>\n",
       "    .dataframe tbody tr th:only-of-type {\n",
       "        vertical-align: middle;\n",
       "    }\n",
       "\n",
       "    .dataframe tbody tr th {\n",
       "        vertical-align: top;\n",
       "    }\n",
       "\n",
       "    .dataframe thead th {\n",
       "        text-align: right;\n",
       "    }\n",
       "</style>\n",
       "<table border=\"1\" class=\"dataframe\">\n",
       "  <thead>\n",
       "    <tr style=\"text-align: right;\">\n",
       "      <th></th>\n",
       "      <th>subtitulo</th>\n",
       "      <th>subtituloLimpio2</th>\n",
       "      <th>sentimientoVader</th>\n",
       "      <th>subtitulo_es</th>\n",
       "    </tr>\n",
       "  </thead>\n",
       "  <tbody>\n",
       "    <tr>\n",
       "      <th>314</th>\n",
       "      <td>-Got you! Ha, ha! -Good to see you, buddy.</td>\n",
       "      <td>got you! ha ha! good to see you buddy</td>\n",
       "      <td>0.8065</td>\n",
       "      <td>-¡Te tengo! ¡Ja, ja! -Me alegro de verte, amigo.</td>\n",
       "    </tr>\n",
       "    <tr>\n",
       "      <th>1536</th>\n",
       "      <td>MAN: Get down, Ray!</td>\n",
       "      <td>man get down ray!</td>\n",
       "      <td>0.0000</td>\n",
       "      <td>HOMBRE: ¡Abajo, Ray!</td>\n",
       "    </tr>\n",
       "    <tr>\n",
       "      <th>1025</th>\n",
       "      <td>ROD: Seventy-two percent of new buyers are African-American.</td>\n",
       "      <td>rod seventytwo percent of new buyers are africanamerican</td>\n",
       "      <td>0.0000</td>\n",
       "      <td>ROD: El setenta y dos por ciento de los nuevos compradores son afroamericanos.</td>\n",
       "    </tr>\n",
       "    <tr>\n",
       "      <th>1509</th>\n",
       "      <td>Look, if this weekend should turn into next month...</td>\n",
       "      <td>look if this weekend should turn into next month</td>\n",
       "      <td>0.0000</td>\n",
       "      <td>Mira, si este fin de semana se convirtiera en el próximo mes...</td>\n",
       "    </tr>\n",
       "    <tr>\n",
       "      <th>38</th>\n",
       "      <td>You and I both know there's a number you can afford.</td>\n",
       "      <td>you and i both know theres a number you can afford</td>\n",
       "      <td>0.0772</td>\n",
       "      <td>Tú y yo sabemos que hay una cantidad que puedes permitirte.</td>\n",
       "    </tr>\n",
       "  </tbody>\n",
       "</table>\n",
       "</div>"
      ],
      "text/plain": [
       "                                                         subtitulo  \\\n",
       "314                     -Got you! Ha, ha! -Good to see you, buddy.   \n",
       "1536                                           MAN: Get down, Ray!   \n",
       "1025  ROD: Seventy-two percent of new buyers are African-American.   \n",
       "1509          Look, if this weekend should turn into next month...   \n",
       "38            You and I both know there's a number you can afford.   \n",
       "\n",
       "                                              subtituloLimpio2  \\\n",
       "314                      got you! ha ha! good to see you buddy   \n",
       "1536                                         man get down ray!   \n",
       "1025  rod seventytwo percent of new buyers are africanamerican   \n",
       "1509          look if this weekend should turn into next month   \n",
       "38          you and i both know theres a number you can afford   \n",
       "\n",
       "      sentimientoVader  \\\n",
       "314             0.8065   \n",
       "1536            0.0000   \n",
       "1025            0.0000   \n",
       "1509            0.0000   \n",
       "38              0.0772   \n",
       "\n",
       "                                                                        subtitulo_es  \n",
       "314                                 -¡Te tengo! ¡Ja, ja! -Me alegro de verte, amigo.  \n",
       "1536                                                            HOMBRE: ¡Abajo, Ray!  \n",
       "1025  ROD: El setenta y dos por ciento de los nuevos compradores son afroamericanos.  \n",
       "1509                 Mira, si este fin de semana se convirtiera en el próximo mes...  \n",
       "38                       Tú y yo sabemos que hay una cantidad que puedes permitirte.  "
      ]
     },
     "execution_count": 38,
     "metadata": {},
     "output_type": "execute_result"
    }
   ],
   "source": [
    "df[[ \"subtitulo\",'subtituloLimpio2','sentimientoVader', \"subtitulo_es\"]].sample(5)"
   ]
  },
  {
   "cell_type": "code",
   "execution_count": 39,
   "metadata": {},
   "outputs": [
    {
     "data": {
      "text/plain": [
       "count    1995.000000\n",
       "mean        0.092346\n",
       "std         0.342935\n",
       "min        -0.900100\n",
       "25%         0.000000\n",
       "50%         0.000000\n",
       "75%         0.340000\n",
       "max         0.931200\n",
       "Name: sentimientoVader, dtype: float64"
      ]
     },
     "execution_count": 39,
     "metadata": {},
     "output_type": "execute_result"
    }
   ],
   "source": [
    "df['sentimientoVader'].describe()"
   ]
  },
  {
   "cell_type": "markdown",
   "metadata": {},
   "source": [
    "**Parece capturar de buena manera el sentimiento dentro de los subtítulos con VADER.**\n",
    "La media indica que es un texto levemente positivo en general."
   ]
  },
  {
   "cell_type": "markdown",
   "metadata": {},
   "source": [
    "#### Top de Positivos y Negativos"
   ]
  },
  {
   "cell_type": "code",
   "execution_count": 161,
   "metadata": {},
   "outputs": [],
   "source": [
    "# Obtener los 10 subtítulos más positivos\n",
    "top_positivos = df.nlargest(10, 'sentimientoVader')[['sentimientoVader', 'subtitulo', 'subtitulo_es']]\n",
    "\n",
    "# Obtener los 10 subtítulos más negativos\n",
    "top_negativos = df.nsmallest(10, 'sentimientoVader')[['sentimientoVader', 'subtitulo', 'subtitulo_es']]"
   ]
  },
  {
   "cell_type": "code",
   "execution_count": 162,
   "metadata": {},
   "outputs": [
    {
     "name": "stdout",
     "output_type": "stream",
     "text": [
      "Subtítulos más positivos:\n"
     ]
    },
    {
     "data": {
      "text/html": [
       "<div>\n",
       "<style scoped>\n",
       "    .dataframe tbody tr th:only-of-type {\n",
       "        vertical-align: middle;\n",
       "    }\n",
       "\n",
       "    .dataframe tbody tr th {\n",
       "        vertical-align: top;\n",
       "    }\n",
       "\n",
       "    .dataframe thead th {\n",
       "        text-align: right;\n",
       "    }\n",
       "</style>\n",
       "<table border=\"1\" class=\"dataframe\">\n",
       "  <thead>\n",
       "    <tr style=\"text-align: right;\">\n",
       "      <th></th>\n",
       "      <th>sentimientoVader</th>\n",
       "      <th>subtitulo</th>\n",
       "      <th>subtitulo_es</th>\n",
       "    </tr>\n",
       "  </thead>\n",
       "  <tbody>\n",
       "    <tr>\n",
       "      <th>834</th>\n",
       "      <td>0.9312</td>\n",
       "      <td>-I love my son. -I love your son. I love your son!</td>\n",
       "      <td>-Amo a mi hijo. -Amo a tu hijo. ¡Amo a tu hijo!</td>\n",
       "    </tr>\n",
       "    <tr>\n",
       "      <th>2003</th>\n",
       "      <td>0.9274</td>\n",
       "      <td>But I love my wife, I love my life...</td>\n",
       "      <td>Pero amo a mi esposa, amo mi vida...</td>\n",
       "    </tr>\n",
       "    <tr>\n",
       "      <th>1183</th>\n",
       "      <td>0.9246</td>\n",
       "      <td>-He said you'd be happy-- Glad. -Did he say happy or glad?</td>\n",
       "      <td>-Dijo que estarías feliz-- Contento. -¿Dijo feliz o contento?</td>\n",
       "    </tr>\n",
       "    <tr>\n",
       "      <th>1996</th>\n",
       "      <td>0.9209</td>\n",
       "      <td>...but if he's got natural talent, pure joy for the game....</td>\n",
       "      <td>...pero si tiene talento natural, pura alegría por el juego....</td>\n",
       "    </tr>\n",
       "    <tr>\n",
       "      <th>1185</th>\n",
       "      <td>0.9186</td>\n",
       "      <td>-Glad is good. Glad is good. -Yeah.</td>\n",
       "      <td>-Me alegro es bueno. Me alegro es bueno. -Sí.</td>\n",
       "    </tr>\n",
       "    <tr>\n",
       "      <th>1578</th>\n",
       "      <td>0.9169</td>\n",
       "      <td>I've got a great team behind me and I'm loving it. I'm loving life.</td>\n",
       "      <td>Tengo un gran equipo detrás de mí y me encanta. Me encanta la vida.</td>\n",
       "    </tr>\n",
       "    <tr>\n",
       "      <th>1568</th>\n",
       "      <td>0.9149</td>\n",
       "      <td>RAY: Yay! Yay! -We're gonna have a great season!</td>\n",
       "      <td>RAY: ¡Sí! ¡Sí! ¡Vamos a tener una gran temporada!</td>\n",
       "    </tr>\n",
       "    <tr>\n",
       "      <th>1968</th>\n",
       "      <td>0.8827</td>\n",
       "      <td>I love everybody. I love my wife! Whoo! Marcee!</td>\n",
       "      <td>Amo a todos. Amo a mi esposa. ¡Guau! ¡Marcee!</td>\n",
       "    </tr>\n",
       "    <tr>\n",
       "      <th>508</th>\n",
       "      <td>0.8765</td>\n",
       "      <td>But I like you. Yes, I like you.</td>\n",
       "      <td>Pero me gustas. Sí, me gustas.</td>\n",
       "    </tr>\n",
       "    <tr>\n",
       "      <th>308</th>\n",
       "      <td>0.8720</td>\n",
       "      <td>Calm down, relax, act surprised, and have an amazing time.</td>\n",
       "      <td>Cálmate, relájate, actúa sorprendido y pasatelo increíble.</td>\n",
       "    </tr>\n",
       "  </tbody>\n",
       "</table>\n",
       "</div>"
      ],
      "text/plain": [
       "      sentimientoVader  \\\n",
       "834             0.9312   \n",
       "2003            0.9274   \n",
       "1183            0.9246   \n",
       "1996            0.9209   \n",
       "1185            0.9186   \n",
       "1578            0.9169   \n",
       "1568            0.9149   \n",
       "1968            0.8827   \n",
       "508             0.8765   \n",
       "308             0.8720   \n",
       "\n",
       "                                                                subtitulo  \\\n",
       "834                    -I love my son. -I love your son. I love your son!   \n",
       "2003                                But I love my wife, I love my life...   \n",
       "1183           -He said you'd be happy-- Glad. -Did he say happy or glad?   \n",
       "1996         ...but if he's got natural talent, pure joy for the game....   \n",
       "1185                                  -Glad is good. Glad is good. -Yeah.   \n",
       "1578  I've got a great team behind me and I'm loving it. I'm loving life.   \n",
       "1568                     RAY: Yay! Yay! -We're gonna have a great season!   \n",
       "1968                      I love everybody. I love my wife! Whoo! Marcee!   \n",
       "508                                      But I like you. Yes, I like you.   \n",
       "308            Calm down, relax, act surprised, and have an amazing time.   \n",
       "\n",
       "                                                             subtitulo_es  \n",
       "834                       -Amo a mi hijo. -Amo a tu hijo. ¡Amo a tu hijo!  \n",
       "2003                                 Pero amo a mi esposa, amo mi vida...  \n",
       "1183        -Dijo que estarías feliz-- Contento. -¿Dijo feliz o contento?  \n",
       "1996      ...pero si tiene talento natural, pura alegría por el juego....  \n",
       "1185                        -Me alegro es bueno. Me alegro es bueno. -Sí.  \n",
       "1578  Tengo un gran equipo detrás de mí y me encanta. Me encanta la vida.  \n",
       "1568                    RAY: ¡Sí! ¡Sí! ¡Vamos a tener una gran temporada!  \n",
       "1968                        Amo a todos. Amo a mi esposa. ¡Guau! ¡Marcee!  \n",
       "508                                        Pero me gustas. Sí, me gustas.  \n",
       "308            Cálmate, relájate, actúa sorprendido y pasatelo increíble.  "
      ]
     },
     "execution_count": 162,
     "metadata": {},
     "output_type": "execute_result"
    }
   ],
   "source": [
    "# Mostrar resultados\n",
    "print(\"Subtítulos más positivos:\")\n",
    "top_positivos"
   ]
  },
  {
   "cell_type": "code",
   "execution_count": 163,
   "metadata": {},
   "outputs": [
    {
     "name": "stdout",
     "output_type": "stream",
     "text": [
      "\n",
      "Subtítulos más negativos:\n"
     ]
    },
    {
     "data": {
      "text/html": [
       "<div>\n",
       "<style scoped>\n",
       "    .dataframe tbody tr th:only-of-type {\n",
       "        vertical-align: middle;\n",
       "    }\n",
       "\n",
       "    .dataframe tbody tr th {\n",
       "        vertical-align: top;\n",
       "    }\n",
       "\n",
       "    .dataframe thead th {\n",
       "        text-align: right;\n",
       "    }\n",
       "</style>\n",
       "<table border=\"1\" class=\"dataframe\">\n",
       "  <thead>\n",
       "    <tr style=\"text-align: right;\">\n",
       "      <th></th>\n",
       "      <th>sentimientoVader</th>\n",
       "      <th>subtitulo</th>\n",
       "      <th>subtitulo_es</th>\n",
       "    </tr>\n",
       "  </thead>\n",
       "  <tbody>\n",
       "    <tr>\n",
       "      <th>1549</th>\n",
       "      <td>-0.9001</td>\n",
       "      <td>You fuck this up, I'll kill you.</td>\n",
       "      <td>Si la cagas, te mato.</td>\n",
       "    </tr>\n",
       "    <tr>\n",
       "      <th>540</th>\n",
       "      <td>-0.8883</td>\n",
       "      <td>-Who's your motherfucker? -You're my motherfucker!</td>\n",
       "      <td>-¿Quién es tu hijo de puta? -¡Eres mi hijo de puta!</td>\n",
       "    </tr>\n",
       "    <tr>\n",
       "      <th>1412</th>\n",
       "      <td>-0.8883</td>\n",
       "      <td>Broke! Broke, broke, broke.</td>\n",
       "      <td>¡Se rompió! Se rompió, se rompió, se rompió.</td>\n",
       "    </tr>\n",
       "    <tr>\n",
       "      <th>483</th>\n",
       "      <td>-0.8860</td>\n",
       "      <td>I will kill for you, maim for you. I will rape and pillage for you.</td>\n",
       "      <td>Mataré por ti, mutilaré por ti, violaré y saquearé por ti.</td>\n",
       "    </tr>\n",
       "    <tr>\n",
       "      <th>340</th>\n",
       "      <td>-0.8807</td>\n",
       "      <td>Lies, lies, lies. He's an agent. He lies.</td>\n",
       "      <td>Mentiras, mentiras, mentiras. Es un agente. Miente.</td>\n",
       "    </tr>\n",
       "    <tr>\n",
       "      <th>1831</th>\n",
       "      <td>-0.8289</td>\n",
       "      <td>Can't you be loyal to your brother? Get the hell out of my house! Get out!</td>\n",
       "      <td>¿No puedes ser leal a tu hermano? ¡Sal de mi casa! ¡Fuera!</td>\n",
       "    </tr>\n",
       "    <tr>\n",
       "      <th>149</th>\n",
       "      <td>-0.8236</td>\n",
       "      <td>They don't want peace and they're not capable of love.</td>\n",
       "      <td>No quieren la paz y no son capaces de amar.</td>\n",
       "    </tr>\n",
       "    <tr>\n",
       "      <th>1957</th>\n",
       "      <td>-0.8126</td>\n",
       "      <td>Your brother loses a leg in a tragic bass-fishing accident.</td>\n",
       "      <td>Tu hermano pierde una pierna en un trágico accidente de pesca de lubina.</td>\n",
       "    </tr>\n",
       "    <tr>\n",
       "      <th>919</th>\n",
       "      <td>-0.8086</td>\n",
       "      <td>I don't want to hear your \"Nah, nah, nah. Oh, I lost Cush and Avery\" and shit.</td>\n",
       "      <td>No quiero oír tus No, no, no. Perdí a Cush y Avery y esas cosas.</td>\n",
       "    </tr>\n",
       "    <tr>\n",
       "      <th>1647</th>\n",
       "      <td>-0.8019</td>\n",
       "      <td>But he keeps a brother-- I ain't get no respect. This is bullshit.</td>\n",
       "      <td>Pero él tiene un hermano... No me respetan. Esto es una tontería.</td>\n",
       "    </tr>\n",
       "  </tbody>\n",
       "</table>\n",
       "</div>"
      ],
      "text/plain": [
       "      sentimientoVader  \\\n",
       "1549           -0.9001   \n",
       "540            -0.8883   \n",
       "1412           -0.8883   \n",
       "483            -0.8860   \n",
       "340            -0.8807   \n",
       "1831           -0.8289   \n",
       "149            -0.8236   \n",
       "1957           -0.8126   \n",
       "919            -0.8086   \n",
       "1647           -0.8019   \n",
       "\n",
       "                                                                           subtitulo  \\\n",
       "1549                                                You fuck this up, I'll kill you.   \n",
       "540                               -Who's your motherfucker? -You're my motherfucker!   \n",
       "1412                                                     Broke! Broke, broke, broke.   \n",
       "483              I will kill for you, maim for you. I will rape and pillage for you.   \n",
       "340                                        Lies, lies, lies. He's an agent. He lies.   \n",
       "1831      Can't you be loyal to your brother? Get the hell out of my house! Get out!   \n",
       "149                           They don't want peace and they're not capable of love.   \n",
       "1957                     Your brother loses a leg in a tragic bass-fishing accident.   \n",
       "919   I don't want to hear your \"Nah, nah, nah. Oh, I lost Cush and Avery\" and shit.   \n",
       "1647              But he keeps a brother-- I ain't get no respect. This is bullshit.   \n",
       "\n",
       "                                                                  subtitulo_es  \n",
       "1549                                                     Si la cagas, te mato.  \n",
       "540                        -¿Quién es tu hijo de puta? -¡Eres mi hijo de puta!  \n",
       "1412                              ¡Se rompió! Se rompió, se rompió, se rompió.  \n",
       "483                 Mataré por ti, mutilaré por ti, violaré y saquearé por ti.  \n",
       "340                        Mentiras, mentiras, mentiras. Es un agente. Miente.  \n",
       "1831                ¿No puedes ser leal a tu hermano? ¡Sal de mi casa! ¡Fuera!  \n",
       "149                                No quieren la paz y no son capaces de amar.  \n",
       "1957  Tu hermano pierde una pierna en un trágico accidente de pesca de lubina.  \n",
       "919           No quiero oír tus No, no, no. Perdí a Cush y Avery y esas cosas.  \n",
       "1647         Pero él tiene un hermano... No me respetan. Esto es una tontería.  "
      ]
     },
     "execution_count": 163,
     "metadata": {},
     "output_type": "execute_result"
    }
   ],
   "source": [
    "print(\"\\nSubtítulos más negativos:\")\n",
    "top_negativos"
   ]
  },
  {
   "cell_type": "markdown",
   "metadata": {},
   "source": [
    "### Análisis con TF-IDF vectorizer"
   ]
  },
  {
   "cell_type": "code",
   "execution_count": 164,
   "metadata": {},
   "outputs": [
    {
     "name": "stderr",
     "output_type": "stream",
     "text": [
      "[nltk_data] Downloading package stopwords to\n",
      "[nltk_data]     C:\\Users\\jorge\\AppData\\Roaming\\nltk_data...\n",
      "[nltk_data]   Package stopwords is already up-to-date!\n"
     ]
    }
   ],
   "source": [
    "import nltk\n",
    "nltk.download('stopwords')\n",
    "from nltk.corpus import stopwords\n",
    "\n",
    "# Obtener stopwords en inglés\n",
    "stop_words_en = stopwords.words('english')\n",
    "stop_words = set(stop_words_en)"
   ]
  },
  {
   "cell_type": "markdown",
   "metadata": {},
   "source": [
    "Defino funciones de limpieza específicas para asegurar la ejecución de las tareas que siguen a continuación."
   ]
  },
  {
   "cell_type": "code",
   "execution_count": 167,
   "metadata": {},
   "outputs": [],
   "source": [
    "def limpiar_texto3(text):\n",
    "    # Convertir a minúsculas\n",
    "    text = text.lower()\n",
    "    # Eliminar signos de puntuación (sin dejar ninguno)\n",
    "    text = re.sub(r'[^\\w\\s]', '', text)\n",
    "    return text\n",
    "\n",
    "def eliminar_stopwords(text):\n",
    "    # Tokenizar usando spaCy\n",
    "    tokens = nlp(text)\n",
    "    # Filtrar stopwords\n",
    "    filtered_tokens = [token.text for token in tokens if token.text not in stop_words]\n",
    "    return \" \".join(filtered_tokens)\n",
    "\n",
    "def lematizar_texto1(text):\n",
    "    # Tokenizar y lematizar usando spaCy\n",
    "    tokens = nlp(text)\n",
    "    lematizado = [token.lemma_ for token in tokens]\n",
    "    return \" \".join(lematizado)\n",
    "\n",
    "def lematizar_texto(text):\n",
    "    # Tokenizar y lematizar usando el modelo spaCy en español\n",
    "    doc = nlp(text)\n",
    "    # Devolver lemas uniendo las palabras\n",
    "    return \" \".join([token.lemma_ for token in doc if not token.is_punct])"
   ]
  },
  {
   "cell_type": "code",
   "execution_count": 168,
   "metadata": {},
   "outputs": [],
   "source": [
    "# Crear la columna subtitulolimpio3\n",
    "df['subtitulolimpio3'] = df['subtitulo'].apply(limpiar_texto3)"
   ]
  },
  {
   "cell_type": "code",
   "execution_count": 169,
   "metadata": {},
   "outputs": [
    {
     "data": {
      "text/html": [
       "<div>\n",
       "<style scoped>\n",
       "    .dataframe tbody tr th:only-of-type {\n",
       "        vertical-align: middle;\n",
       "    }\n",
       "\n",
       "    .dataframe tbody tr th {\n",
       "        vertical-align: top;\n",
       "    }\n",
       "\n",
       "    .dataframe thead th {\n",
       "        text-align: right;\n",
       "    }\n",
       "</style>\n",
       "<table border=\"1\" class=\"dataframe\">\n",
       "  <thead>\n",
       "    <tr style=\"text-align: right;\">\n",
       "      <th></th>\n",
       "      <th>subtitulo</th>\n",
       "      <th>subtitulolimpio3</th>\n",
       "    </tr>\n",
       "  </thead>\n",
       "  <tbody>\n",
       "    <tr>\n",
       "      <th>1788</th>\n",
       "      <td>Split to the right. Swenson looks that way.</td>\n",
       "      <td>split to the right swenson looks that way</td>\n",
       "    </tr>\n",
       "    <tr>\n",
       "      <th>840</th>\n",
       "      <td>You didn't sign anything with Sugar, right?</td>\n",
       "      <td>you didnt sign anything with sugar right</td>\n",
       "    </tr>\n",
       "    <tr>\n",
       "      <th>1070</th>\n",
       "      <td>...drunk.</td>\n",
       "      <td>drunk</td>\n",
       "    </tr>\n",
       "    <tr>\n",
       "      <th>123</th>\n",
       "      <td>The way a stadium sounds...</td>\n",
       "      <td>the way a stadium sounds</td>\n",
       "    </tr>\n",
       "    <tr>\n",
       "      <th>272</th>\n",
       "      <td>To drive us all the way out to Manhattan Beach.</td>\n",
       "      <td>to drive us all the way out to manhattan beach</td>\n",
       "    </tr>\n",
       "  </tbody>\n",
       "</table>\n",
       "</div>"
      ],
      "text/plain": [
       "                                            subtitulo  \\\n",
       "1788      Split to the right. Swenson looks that way.   \n",
       "840       You didn't sign anything with Sugar, right?   \n",
       "1070                                        ...drunk.   \n",
       "123                       The way a stadium sounds...   \n",
       "272   To drive us all the way out to Manhattan Beach.   \n",
       "\n",
       "                                    subtitulolimpio3  \n",
       "1788       split to the right swenson looks that way  \n",
       "840         you didnt sign anything with sugar right  \n",
       "1070                                           drunk  \n",
       "123                         the way a stadium sounds  \n",
       "272   to drive us all the way out to manhattan beach  "
      ]
     },
     "execution_count": 169,
     "metadata": {},
     "output_type": "execute_result"
    }
   ],
   "source": [
    "df[['subtitulo', 'subtitulolimpio3']].sample(5)"
   ]
  },
  {
   "cell_type": "markdown",
   "metadata": {},
   "source": [
    "Con las funciones anteriores creo el campo 'subtituloSinStopwords1' apropiado para TF-IDF"
   ]
  },
  {
   "cell_type": "code",
   "execution_count": 170,
   "metadata": {},
   "outputs": [],
   "source": [
    "# Eliminar stopwords\n",
    "df['subtituloSinStopwords1'] = df['subtitulolimpio3'].apply(eliminar_stopwords)"
   ]
  },
  {
   "cell_type": "code",
   "execution_count": 171,
   "metadata": {},
   "outputs": [
    {
     "data": {
      "text/html": [
       "<div>\n",
       "<style scoped>\n",
       "    .dataframe tbody tr th:only-of-type {\n",
       "        vertical-align: middle;\n",
       "    }\n",
       "\n",
       "    .dataframe tbody tr th {\n",
       "        vertical-align: top;\n",
       "    }\n",
       "\n",
       "    .dataframe thead th {\n",
       "        text-align: right;\n",
       "    }\n",
       "</style>\n",
       "<table border=\"1\" class=\"dataframe\">\n",
       "  <thead>\n",
       "    <tr style=\"text-align: right;\">\n",
       "      <th></th>\n",
       "      <th>subtitulo</th>\n",
       "      <th>subtitulolimpio3</th>\n",
       "      <th>subtituloSinStopwords1</th>\n",
       "    </tr>\n",
       "  </thead>\n",
       "  <tbody>\n",
       "    <tr>\n",
       "      <th>1926</th>\n",
       "      <td>Okay, okay.</td>\n",
       "      <td>okay okay</td>\n",
       "      <td>okay okay</td>\n",
       "    </tr>\n",
       "    <tr>\n",
       "      <th>782</th>\n",
       "      <td>...makes me love you, baby. You know?</td>\n",
       "      <td>makes me love you baby you know</td>\n",
       "      <td>makes love baby know</td>\n",
       "    </tr>\n",
       "    <tr>\n",
       "      <th>801</th>\n",
       "      <td>They've been calling all night long.</td>\n",
       "      <td>theyve been calling all night long</td>\n",
       "      <td>calling night long</td>\n",
       "    </tr>\n",
       "    <tr>\n",
       "      <th>1619</th>\n",
       "      <td>It's not sexy. Shit! But that's an answer.</td>\n",
       "      <td>its not sexy shit but thats an answer</td>\n",
       "      <td>sexy shit answer</td>\n",
       "    </tr>\n",
       "    <tr>\n",
       "      <th>390</th>\n",
       "      <td>You said fewer clients, you put it all down on paper. Jesus Christ.</td>\n",
       "      <td>you said fewer clients you put it all down on paper jesus christ</td>\n",
       "      <td>said fewer clients put paper jesus christ</td>\n",
       "    </tr>\n",
       "    <tr>\n",
       "      <th>319</th>\n",
       "      <td>Everybody loves you.</td>\n",
       "      <td>everybody loves you</td>\n",
       "      <td>everybody loves</td>\n",
       "    </tr>\n",
       "    <tr>\n",
       "      <th>561</th>\n",
       "      <td>...real and fun and inspiring...</td>\n",
       "      <td>real and fun and inspiring</td>\n",
       "      <td>real fun inspiring</td>\n",
       "    </tr>\n",
       "    <tr>\n",
       "      <th>1578</th>\n",
       "      <td>I've got a great team behind me and I'm loving it. I'm loving life.</td>\n",
       "      <td>ive got a great team behind me and im loving it im loving life</td>\n",
       "      <td>got great team behind loving loving life</td>\n",
       "    </tr>\n",
       "    <tr>\n",
       "      <th>1805</th>\n",
       "      <td>ALL: Break!</td>\n",
       "      <td>all break</td>\n",
       "      <td>break</td>\n",
       "    </tr>\n",
       "    <tr>\n",
       "      <th>697</th>\n",
       "      <td>[BOTH LAUGHING]</td>\n",
       "      <td>both laughing</td>\n",
       "      <td>laughing</td>\n",
       "    </tr>\n",
       "  </tbody>\n",
       "</table>\n",
       "</div>"
      ],
      "text/plain": [
       "                                                                subtitulo  \\\n",
       "1926                                                          Okay, okay.   \n",
       "782                                 ...makes me love you, baby. You know?   \n",
       "801                                  They've been calling all night long.   \n",
       "1619                           It's not sexy. Shit! But that's an answer.   \n",
       "390   You said fewer clients, you put it all down on paper. Jesus Christ.   \n",
       "319                                                  Everybody loves you.   \n",
       "561                                      ...real and fun and inspiring...   \n",
       "1578  I've got a great team behind me and I'm loving it. I'm loving life.   \n",
       "1805                                                          ALL: Break!   \n",
       "697                                                       [BOTH LAUGHING]   \n",
       "\n",
       "                                                      subtitulolimpio3  \\\n",
       "1926                                                         okay okay   \n",
       "782                                    makes me love you baby you know   \n",
       "801                                 theyve been calling all night long   \n",
       "1619                             its not sexy shit but thats an answer   \n",
       "390   you said fewer clients you put it all down on paper jesus christ   \n",
       "319                                                everybody loves you   \n",
       "561                                         real and fun and inspiring   \n",
       "1578    ive got a great team behind me and im loving it im loving life   \n",
       "1805                                                         all break   \n",
       "697                                                      both laughing   \n",
       "\n",
       "                         subtituloSinStopwords1  \n",
       "1926                                  okay okay  \n",
       "782                        makes love baby know  \n",
       "801                          calling night long  \n",
       "1619                           sexy shit answer  \n",
       "390   said fewer clients put paper jesus christ  \n",
       "319                             everybody loves  \n",
       "561                          real fun inspiring  \n",
       "1578   got great team behind loving loving life  \n",
       "1805                                      break  \n",
       "697                                    laughing  "
      ]
     },
     "execution_count": 171,
     "metadata": {},
     "output_type": "execute_result"
    }
   ],
   "source": [
    "df[['subtitulo', 'subtitulolimpio3','subtituloSinStopwords1']].sample(10)"
   ]
  },
  {
   "cell_type": "markdown",
   "metadata": {},
   "source": [
    "Creo el campo 'subtituloSinSWLematizado1' apropiado para TF-IDF."
   ]
  },
  {
   "cell_type": "code",
   "execution_count": 172,
   "metadata": {},
   "outputs": [],
   "source": [
    "# Lematizar\n",
    "df['subtituloSinSWLematizado1'] = df['subtituloSinStopwords1'].apply(lematizar_texto)"
   ]
  },
  {
   "cell_type": "code",
   "execution_count": 173,
   "metadata": {},
   "outputs": [
    {
     "data": {
      "text/html": [
       "<div>\n",
       "<style scoped>\n",
       "    .dataframe tbody tr th:only-of-type {\n",
       "        vertical-align: middle;\n",
       "    }\n",
       "\n",
       "    .dataframe tbody tr th {\n",
       "        vertical-align: top;\n",
       "    }\n",
       "\n",
       "    .dataframe thead th {\n",
       "        text-align: right;\n",
       "    }\n",
       "</style>\n",
       "<table border=\"1\" class=\"dataframe\">\n",
       "  <thead>\n",
       "    <tr style=\"text-align: right;\">\n",
       "      <th></th>\n",
       "      <th>subtitulo</th>\n",
       "      <th>subtitulolimpio3</th>\n",
       "      <th>subtituloSinStopwords1</th>\n",
       "      <th>subtituloSinSWLematizado1</th>\n",
       "    </tr>\n",
       "  </thead>\n",
       "  <tbody>\n",
       "    <tr>\n",
       "      <th>665</th>\n",
       "      <td>I'm free fallin'</td>\n",
       "      <td>im free fallin</td>\n",
       "      <td>free fallin</td>\n",
       "      <td>free fallin</td>\n",
       "    </tr>\n",
       "    <tr>\n",
       "      <th>1767</th>\n",
       "      <td>Going for a second consecutive Super Bowl.</td>\n",
       "      <td>going for a second consecutive super bowl</td>\n",
       "      <td>going second consecutive super bowl</td>\n",
       "      <td>go second consecutive super bowl</td>\n",
       "    </tr>\n",
       "    <tr>\n",
       "      <th>1110</th>\n",
       "      <td>[WHISTLE BLOWS]</td>\n",
       "      <td>whistle blows</td>\n",
       "      <td>whistle blows</td>\n",
       "      <td>whistle blow</td>\n",
       "    </tr>\n",
       "    <tr>\n",
       "      <th>457</th>\n",
       "      <td>you know I'd go with you.</td>\n",
       "      <td>you know id go with you</td>\n",
       "      <td>know go</td>\n",
       "      <td>know go</td>\n",
       "    </tr>\n",
       "    <tr>\n",
       "      <th>1832</th>\n",
       "      <td>Hello? Hold on. It's Jerry Maguire.</td>\n",
       "      <td>hello hold on its jerry maguire</td>\n",
       "      <td>hello hold jerry maguire</td>\n",
       "      <td>hello hold jerry maguire</td>\n",
       "    </tr>\n",
       "    <tr>\n",
       "      <th>1615</th>\n",
       "      <td>I mean, you know, everything grew from there.</td>\n",
       "      <td>i mean you know everything grew from there</td>\n",
       "      <td>mean know everything grew</td>\n",
       "      <td>mean know everything grow</td>\n",
       "    </tr>\n",
       "    <tr>\n",
       "      <th>920</th>\n",
       "      <td>Could I have another drink, please? Could I--?</td>\n",
       "      <td>could i have another drink please could i</td>\n",
       "      <td>could another drink please could</td>\n",
       "      <td>could another drink please could</td>\n",
       "    </tr>\n",
       "    <tr>\n",
       "      <th>923</th>\n",
       "      <td>And if I got to ride your ass like Zorro, you gonna show me the money.</td>\n",
       "      <td>and if i got to ride your ass like zorro you gonna show me the money</td>\n",
       "      <td>got ride ass like zorro gon na show money</td>\n",
       "      <td>get ride ass like zorro go to show money</td>\n",
       "    </tr>\n",
       "    <tr>\n",
       "      <th>1571</th>\n",
       "      <td>[WHISTLE BLOWS]</td>\n",
       "      <td>whistle blows</td>\n",
       "      <td>whistle blows</td>\n",
       "      <td>whistle blow</td>\n",
       "    </tr>\n",
       "    <tr>\n",
       "      <th>1711</th>\n",
       "      <td>And at least I can do something about it now.</td>\n",
       "      <td>and at least i can do something about it now</td>\n",
       "      <td>least something</td>\n",
       "      <td>least something</td>\n",
       "    </tr>\n",
       "  </tbody>\n",
       "</table>\n",
       "</div>"
      ],
      "text/plain": [
       "                                                                   subtitulo  \\\n",
       "665                                                        I'm free fallin'    \n",
       "1767                              Going for a second consecutive Super Bowl.   \n",
       "1110                                                         [WHISTLE BLOWS]   \n",
       "457                                                you know I'd go with you.   \n",
       "1832                                     Hello? Hold on. It's Jerry Maguire.   \n",
       "1615                           I mean, you know, everything grew from there.   \n",
       "920                           Could I have another drink, please? Could I--?   \n",
       "923   And if I got to ride your ass like Zorro, you gonna show me the money.   \n",
       "1571                                                         [WHISTLE BLOWS]   \n",
       "1711                           And at least I can do something about it now.   \n",
       "\n",
       "                                                          subtitulolimpio3  \\\n",
       "665                                                        im free fallin    \n",
       "1767                             going for a second consecutive super bowl   \n",
       "1110                                                         whistle blows   \n",
       "457                                                you know id go with you   \n",
       "1832                                       hello hold on its jerry maguire   \n",
       "1615                            i mean you know everything grew from there   \n",
       "920                              could i have another drink please could i   \n",
       "923   and if i got to ride your ass like zorro you gonna show me the money   \n",
       "1571                                                         whistle blows   \n",
       "1711                          and at least i can do something about it now   \n",
       "\n",
       "                         subtituloSinStopwords1  \\\n",
       "665                                 free fallin   \n",
       "1767        going second consecutive super bowl   \n",
       "1110                              whistle blows   \n",
       "457                                     know go   \n",
       "1832                   hello hold jerry maguire   \n",
       "1615                  mean know everything grew   \n",
       "920            could another drink please could   \n",
       "923   got ride ass like zorro gon na show money   \n",
       "1571                              whistle blows   \n",
       "1711                            least something   \n",
       "\n",
       "                     subtituloSinSWLematizado1  \n",
       "665                                free fallin  \n",
       "1767          go second consecutive super bowl  \n",
       "1110                              whistle blow  \n",
       "457                                    know go  \n",
       "1832                  hello hold jerry maguire  \n",
       "1615                 mean know everything grow  \n",
       "920           could another drink please could  \n",
       "923   get ride ass like zorro go to show money  \n",
       "1571                              whistle blow  \n",
       "1711                           least something  "
      ]
     },
     "execution_count": 173,
     "metadata": {},
     "output_type": "execute_result"
    }
   ],
   "source": [
    "df[['subtitulo', 'subtitulolimpio3','subtituloSinStopwords1','subtituloSinSWLematizado1']].sample(10)"
   ]
  },
  {
   "cell_type": "code",
   "execution_count": 174,
   "metadata": {},
   "outputs": [],
   "source": [
    "from sklearn.feature_extraction.text import TfidfVectorizer\n",
    "import pandas as pd\n",
    "\n",
    "# Inicializar el vectorizador TF-IDF\n",
    "tfidf = TfidfVectorizer(stop_words=stop_words_en, max_features=500)\n",
    "\n",
    "# Generar la matriz TF-IDF\n",
    "tfidf_matrix = tfidf.fit_transform(df['subtitulolimpio3'])"
   ]
  },
  {
   "cell_type": "code",
   "execution_count": 175,
   "metadata": {},
   "outputs": [],
   "source": [
    "# Convertir la matriz en un DataFrame para inspección\n",
    "tfidf_df = pd.DataFrame(tfidf_matrix.toarray(), columns=tfidf.get_feature_names_out())"
   ]
  },
  {
   "cell_type": "code",
   "execution_count": 176,
   "metadata": {},
   "outputs": [
    {
     "data": {
      "text/html": [
       "<div>\n",
       "<style scoped>\n",
       "    .dataframe tbody tr th:only-of-type {\n",
       "        vertical-align: middle;\n",
       "    }\n",
       "\n",
       "    .dataframe tbody tr th {\n",
       "        vertical-align: top;\n",
       "    }\n",
       "\n",
       "    .dataframe thead th {\n",
       "        text-align: right;\n",
       "    }\n",
       "</style>\n",
       "<table border=\"1\" class=\"dataframe\">\n",
       "  <thead>\n",
       "    <tr style=\"text-align: right;\">\n",
       "      <th></th>\n",
       "      <th>10</th>\n",
       "      <th>across</th>\n",
       "      <th>act</th>\n",
       "      <th>actually</th>\n",
       "      <th>afford</th>\n",
       "      <th>agent</th>\n",
       "      <th>agents</th>\n",
       "      <th>ago</th>\n",
       "      <th>aint</th>\n",
       "      <th>almost</th>\n",
       "      <th>...</th>\n",
       "      <th>wrote</th>\n",
       "      <th>yeah</th>\n",
       "      <th>year</th>\n",
       "      <th>years</th>\n",
       "      <th>yes</th>\n",
       "      <th>yet</th>\n",
       "      <th>youll</th>\n",
       "      <th>youre</th>\n",
       "      <th>youve</th>\n",
       "      <th>zoo</th>\n",
       "    </tr>\n",
       "  </thead>\n",
       "  <tbody>\n",
       "    <tr>\n",
       "      <th>1542</th>\n",
       "      <td>0.0</td>\n",
       "      <td>0.0</td>\n",
       "      <td>0.0</td>\n",
       "      <td>0.0</td>\n",
       "      <td>0.0</td>\n",
       "      <td>0.0</td>\n",
       "      <td>0.0</td>\n",
       "      <td>0.0</td>\n",
       "      <td>0.0</td>\n",
       "      <td>0.0</td>\n",
       "      <td>...</td>\n",
       "      <td>0.0</td>\n",
       "      <td>0.0</td>\n",
       "      <td>0.0</td>\n",
       "      <td>0.0</td>\n",
       "      <td>0.0</td>\n",
       "      <td>0.0</td>\n",
       "      <td>0.0</td>\n",
       "      <td>0.0</td>\n",
       "      <td>0.0</td>\n",
       "      <td>0.0</td>\n",
       "    </tr>\n",
       "    <tr>\n",
       "      <th>725</th>\n",
       "      <td>0.0</td>\n",
       "      <td>0.0</td>\n",
       "      <td>0.0</td>\n",
       "      <td>0.0</td>\n",
       "      <td>0.0</td>\n",
       "      <td>0.0</td>\n",
       "      <td>0.0</td>\n",
       "      <td>0.0</td>\n",
       "      <td>0.0</td>\n",
       "      <td>0.0</td>\n",
       "      <td>...</td>\n",
       "      <td>0.0</td>\n",
       "      <td>0.0</td>\n",
       "      <td>0.0</td>\n",
       "      <td>0.0</td>\n",
       "      <td>0.0</td>\n",
       "      <td>0.0</td>\n",
       "      <td>0.0</td>\n",
       "      <td>0.0</td>\n",
       "      <td>0.0</td>\n",
       "      <td>0.0</td>\n",
       "    </tr>\n",
       "    <tr>\n",
       "      <th>1454</th>\n",
       "      <td>0.0</td>\n",
       "      <td>0.0</td>\n",
       "      <td>0.0</td>\n",
       "      <td>0.0</td>\n",
       "      <td>0.0</td>\n",
       "      <td>0.0</td>\n",
       "      <td>0.0</td>\n",
       "      <td>0.0</td>\n",
       "      <td>0.0</td>\n",
       "      <td>0.0</td>\n",
       "      <td>...</td>\n",
       "      <td>0.0</td>\n",
       "      <td>0.0</td>\n",
       "      <td>0.0</td>\n",
       "      <td>0.0</td>\n",
       "      <td>0.0</td>\n",
       "      <td>0.0</td>\n",
       "      <td>0.0</td>\n",
       "      <td>0.0</td>\n",
       "      <td>0.0</td>\n",
       "      <td>0.0</td>\n",
       "    </tr>\n",
       "    <tr>\n",
       "      <th>1470</th>\n",
       "      <td>0.0</td>\n",
       "      <td>0.0</td>\n",
       "      <td>0.0</td>\n",
       "      <td>0.0</td>\n",
       "      <td>0.0</td>\n",
       "      <td>0.0</td>\n",
       "      <td>0.0</td>\n",
       "      <td>0.0</td>\n",
       "      <td>0.0</td>\n",
       "      <td>0.0</td>\n",
       "      <td>...</td>\n",
       "      <td>0.0</td>\n",
       "      <td>0.0</td>\n",
       "      <td>0.0</td>\n",
       "      <td>0.0</td>\n",
       "      <td>0.0</td>\n",
       "      <td>0.0</td>\n",
       "      <td>0.0</td>\n",
       "      <td>0.0</td>\n",
       "      <td>0.0</td>\n",
       "      <td>0.0</td>\n",
       "    </tr>\n",
       "    <tr>\n",
       "      <th>607</th>\n",
       "      <td>0.0</td>\n",
       "      <td>0.0</td>\n",
       "      <td>0.0</td>\n",
       "      <td>0.0</td>\n",
       "      <td>0.0</td>\n",
       "      <td>0.0</td>\n",
       "      <td>0.0</td>\n",
       "      <td>0.0</td>\n",
       "      <td>0.0</td>\n",
       "      <td>0.0</td>\n",
       "      <td>...</td>\n",
       "      <td>0.0</td>\n",
       "      <td>0.0</td>\n",
       "      <td>0.0</td>\n",
       "      <td>0.0</td>\n",
       "      <td>0.0</td>\n",
       "      <td>0.0</td>\n",
       "      <td>0.0</td>\n",
       "      <td>0.0</td>\n",
       "      <td>0.0</td>\n",
       "      <td>0.0</td>\n",
       "    </tr>\n",
       "  </tbody>\n",
       "</table>\n",
       "<p>5 rows × 500 columns</p>\n",
       "</div>"
      ],
      "text/plain": [
       "       10  across  act  actually  afford  agent  agents  ago  aint  almost  \\\n",
       "1542  0.0     0.0  0.0       0.0     0.0    0.0     0.0  0.0   0.0     0.0   \n",
       "725   0.0     0.0  0.0       0.0     0.0    0.0     0.0  0.0   0.0     0.0   \n",
       "1454  0.0     0.0  0.0       0.0     0.0    0.0     0.0  0.0   0.0     0.0   \n",
       "1470  0.0     0.0  0.0       0.0     0.0    0.0     0.0  0.0   0.0     0.0   \n",
       "607   0.0     0.0  0.0       0.0     0.0    0.0     0.0  0.0   0.0     0.0   \n",
       "\n",
       "      ...  wrote  yeah  year  years  yes  yet  youll  youre  youve  zoo  \n",
       "1542  ...    0.0   0.0   0.0    0.0  0.0  0.0    0.0    0.0    0.0  0.0  \n",
       "725   ...    0.0   0.0   0.0    0.0  0.0  0.0    0.0    0.0    0.0  0.0  \n",
       "1454  ...    0.0   0.0   0.0    0.0  0.0  0.0    0.0    0.0    0.0  0.0  \n",
       "1470  ...    0.0   0.0   0.0    0.0  0.0  0.0    0.0    0.0    0.0  0.0  \n",
       "607   ...    0.0   0.0   0.0    0.0  0.0  0.0    0.0    0.0    0.0  0.0  \n",
       "\n",
       "[5 rows x 500 columns]"
      ]
     },
     "execution_count": 176,
     "metadata": {},
     "output_type": "execute_result"
    }
   ],
   "source": [
    "# Mostrar las primeras filas del DataFrame resultante\n",
    "tfidf_df.sample(5)"
   ]
  },
  {
   "cell_type": "code",
   "execution_count": 177,
   "metadata": {},
   "outputs": [
    {
     "name": "stdout",
     "output_type": "stream",
     "text": [
      "Palabras más relevantes:\n",
      "jerry    0.030698\n",
      "im       0.028223\n",
      "know     0.025141\n",
      "dont     0.019416\n",
      "oh       0.018792\n",
      "rod      0.016891\n",
      "right    0.016742\n",
      "love     0.016336\n",
      "man      0.016078\n",
      "okay     0.015326\n",
      "dtype: float64\n"
     ]
    }
   ],
   "source": [
    "# Calcular los puntajes promedio de cada palabra en todas las filas\n",
    "tfidf_scores = tfidf_df.mean().sort_values(ascending=False)\n",
    "\n",
    "# Mostrar las 10 palabras más relevantes según TF-IDF\n",
    "print(\"Palabras más relevantes:\")\n",
    "print(tfidf_scores.head(10))"
   ]
  },
  {
   "cell_type": "code",
   "execution_count": 179,
   "metadata": {},
   "outputs": [],
   "source": [
    "# Agregar la suma de TF-IDF de cada subtítulo como una métrica adicional\n",
    "df['tfidf_sum'] = tfidf_df.sum(axis=1)"
   ]
  },
  {
   "cell_type": "code",
   "execution_count": 180,
   "metadata": {},
   "outputs": [
    {
     "data": {
      "text/html": [
       "<div>\n",
       "<style scoped>\n",
       "    .dataframe tbody tr th:only-of-type {\n",
       "        vertical-align: middle;\n",
       "    }\n",
       "\n",
       "    .dataframe tbody tr th {\n",
       "        vertical-align: top;\n",
       "    }\n",
       "\n",
       "    .dataframe thead th {\n",
       "        text-align: right;\n",
       "    }\n",
       "</style>\n",
       "<table border=\"1\" class=\"dataframe\">\n",
       "  <thead>\n",
       "    <tr style=\"text-align: right;\">\n",
       "      <th></th>\n",
       "      <th>subtitulo</th>\n",
       "      <th>subtitulo_es</th>\n",
       "      <th>sentimientoVader</th>\n",
       "      <th>tfidf_sum</th>\n",
       "    </tr>\n",
       "  </thead>\n",
       "  <tbody>\n",
       "    <tr>\n",
       "      <th>834</th>\n",
       "      <td>-I love my son. -I love your son. I love your son!</td>\n",
       "      <td>-Amo a mi hijo. -Amo a tu hijo. ¡Amo a tu hijo!</td>\n",
       "      <td>0.9312</td>\n",
       "      <td>0.000000</td>\n",
       "    </tr>\n",
       "    <tr>\n",
       "      <th>2003</th>\n",
       "      <td>But I love my wife, I love my life...</td>\n",
       "      <td>Pero amo a mi esposa, amo mi vida...</td>\n",
       "      <td>0.9274</td>\n",
       "      <td>NaN</td>\n",
       "    </tr>\n",
       "    <tr>\n",
       "      <th>1183</th>\n",
       "      <td>-He said you'd be happy-- Glad. -Did he say happy or glad?</td>\n",
       "      <td>-Dijo que estarías feliz-- Contento. -¿Dijo feliz o contento?</td>\n",
       "      <td>0.9246</td>\n",
       "      <td>1.385197</td>\n",
       "    </tr>\n",
       "    <tr>\n",
       "      <th>1996</th>\n",
       "      <td>...but if he's got natural talent, pure joy for the game....</td>\n",
       "      <td>...pero si tiene talento natural, pura alegría por el juego....</td>\n",
       "      <td>0.9209</td>\n",
       "      <td>NaN</td>\n",
       "    </tr>\n",
       "    <tr>\n",
       "      <th>1185</th>\n",
       "      <td>-Glad is good. Glad is good. -Yeah.</td>\n",
       "      <td>-Me alegro es bueno. Me alegro es bueno. -Sí.</td>\n",
       "      <td>0.9186</td>\n",
       "      <td>1.000000</td>\n",
       "    </tr>\n",
       "    <tr>\n",
       "      <th>1578</th>\n",
       "      <td>I've got a great team behind me and I'm loving it. I'm loving life.</td>\n",
       "      <td>Tengo un gran equipo detrás de mí y me encanta. Me encanta la vida.</td>\n",
       "      <td>0.9169</td>\n",
       "      <td>2.806916</td>\n",
       "    </tr>\n",
       "    <tr>\n",
       "      <th>1568</th>\n",
       "      <td>RAY: Yay! Yay! -We're gonna have a great season!</td>\n",
       "      <td>RAY: ¡Sí! ¡Sí! ¡Vamos a tener una gran temporada!</td>\n",
       "      <td>0.9149</td>\n",
       "      <td>1.401470</td>\n",
       "    </tr>\n",
       "    <tr>\n",
       "      <th>1968</th>\n",
       "      <td>I love everybody. I love my wife! Whoo! Marcee!</td>\n",
       "      <td>Amo a todos. Amo a mi esposa. ¡Guau! ¡Marcee!</td>\n",
       "      <td>0.8827</td>\n",
       "      <td>2.426084</td>\n",
       "    </tr>\n",
       "    <tr>\n",
       "      <th>508</th>\n",
       "      <td>But I like you. Yes, I like you.</td>\n",
       "      <td>Pero me gustas. Sí, me gustas.</td>\n",
       "      <td>0.8765</td>\n",
       "      <td>1.414214</td>\n",
       "    </tr>\n",
       "    <tr>\n",
       "      <th>850</th>\n",
       "      <td>\"Soothe me, save me, love me.\"</td>\n",
       "      <td>Tranquilízame, sálvame, ámame.</td>\n",
       "      <td>0.8720</td>\n",
       "      <td>1.408841</td>\n",
       "    </tr>\n",
       "  </tbody>\n",
       "</table>\n",
       "</div>"
      ],
      "text/plain": [
       "                                                                subtitulo  \\\n",
       "834                    -I love my son. -I love your son. I love your son!   \n",
       "2003                                But I love my wife, I love my life...   \n",
       "1183           -He said you'd be happy-- Glad. -Did he say happy or glad?   \n",
       "1996         ...but if he's got natural talent, pure joy for the game....   \n",
       "1185                                  -Glad is good. Glad is good. -Yeah.   \n",
       "1578  I've got a great team behind me and I'm loving it. I'm loving life.   \n",
       "1568                     RAY: Yay! Yay! -We're gonna have a great season!   \n",
       "1968                      I love everybody. I love my wife! Whoo! Marcee!   \n",
       "508                                      But I like you. Yes, I like you.   \n",
       "850                                        \"Soothe me, save me, love me.\"   \n",
       "\n",
       "                                                             subtitulo_es  \\\n",
       "834                       -Amo a mi hijo. -Amo a tu hijo. ¡Amo a tu hijo!   \n",
       "2003                                 Pero amo a mi esposa, amo mi vida...   \n",
       "1183        -Dijo que estarías feliz-- Contento. -¿Dijo feliz o contento?   \n",
       "1996      ...pero si tiene talento natural, pura alegría por el juego....   \n",
       "1185                        -Me alegro es bueno. Me alegro es bueno. -Sí.   \n",
       "1578  Tengo un gran equipo detrás de mí y me encanta. Me encanta la vida.   \n",
       "1568                    RAY: ¡Sí! ¡Sí! ¡Vamos a tener una gran temporada!   \n",
       "1968                        Amo a todos. Amo a mi esposa. ¡Guau! ¡Marcee!   \n",
       "508                                        Pero me gustas. Sí, me gustas.   \n",
       "850                                        Tranquilízame, sálvame, ámame.   \n",
       "\n",
       "      sentimientoVader  tfidf_sum  \n",
       "834             0.9312   0.000000  \n",
       "2003            0.9274        NaN  \n",
       "1183            0.9246   1.385197  \n",
       "1996            0.9209        NaN  \n",
       "1185            0.9186   1.000000  \n",
       "1578            0.9169   2.806916  \n",
       "1568            0.9149   1.401470  \n",
       "1968            0.8827   2.426084  \n",
       "508             0.8765   1.414214  \n",
       "850             0.8720   1.408841  "
      ]
     },
     "execution_count": 180,
     "metadata": {},
     "output_type": "execute_result"
    }
   ],
   "source": [
    "# Combinar con sentimiento\n",
    "df[['subtitulo', 'subtitulo_es','sentimientoVader', 'tfidf_sum']].sort_values('sentimientoVader', ascending=False).head(10)"
   ]
  },
  {
   "cell_type": "markdown",
   "metadata": {},
   "source": [
    "Veamos la frecuencia con que aparecen los subtítulos según su 'tfidf_sum', que es la suma de TF-IDF para el subtítulo evaluado."
   ]
  },
  {
   "cell_type": "code",
   "execution_count": 181,
   "metadata": {},
   "outputs": [
    {
     "data": {
      "image/png": "[encoded data removed]",
      "text/plain": [
       "<Figure size 640x480 with 1 Axes>"
      ]
     },
     "metadata": {},
     "output_type": "display_data"
    }
   ],
   "source": [
    "import matplotlib.pyplot as plt\n",
    "\n",
    "plt.hist(df['tfidf_sum'], bins=20, color='blue', alpha=0.7)\n",
    "plt.title('Distribución de la suma de TF-IDF por subtítulo')\n",
    "plt.xlabel('Suma de TF-IDF')\n",
    "plt.ylabel('Frecuencia')\n",
    "\n",
    "plt.show()"
   ]
  },
  {
   "cell_type": "markdown",
   "metadata": {},
   "source": [
    "Podemos separar subtítulos en rangos de TF-IDF y observar algunos para entender como se plasma esa diferencia en el índice."
   ]
  },
  {
   "cell_type": "code",
   "execution_count": 182,
   "metadata": {},
   "outputs": [],
   "source": [
    "threshold=1.5\n",
    "subtitulos_altos = df[df['tfidf_sum'] > threshold]\n",
    "subtitulos_bajos = df[df['tfidf_sum'] < threshold]"
   ]
  },
  {
   "cell_type": "code",
   "execution_count": 184,
   "metadata": {},
   "outputs": [
    {
     "name": "stdout",
     "output_type": "stream",
     "text": [
      "subtitulos_altos:\n"
     ]
    },
    {
     "data": {
      "text/html": [
       "<div>\n",
       "<style scoped>\n",
       "    .dataframe tbody tr th:only-of-type {\n",
       "        vertical-align: middle;\n",
       "    }\n",
       "\n",
       "    .dataframe tbody tr th {\n",
       "        vertical-align: top;\n",
       "    }\n",
       "\n",
       "    .dataframe thead th {\n",
       "        text-align: right;\n",
       "    }\n",
       "</style>\n",
       "<table border=\"1\" class=\"dataframe\">\n",
       "  <thead>\n",
       "    <tr style=\"text-align: right;\">\n",
       "      <th></th>\n",
       "      <th>subtitulo</th>\n",
       "      <th>subtitulo_es</th>\n",
       "      <th>tfidf_sum</th>\n",
       "    </tr>\n",
       "  </thead>\n",
       "  <tbody>\n",
       "    <tr>\n",
       "      <th>1363</th>\n",
       "      <td>Well, I don't know if you're interested in this one little detail.</td>\n",
       "      <td>Bueno, no sé si te interesa este pequeño detalle.</td>\n",
       "      <td>2.432761</td>\n",
       "    </tr>\n",
       "    <tr>\n",
       "      <th>32</th>\n",
       "      <td>-Well. thanks. -You're welcome, Johnny.</td>\n",
       "      <td>-Bueno, gracias. -De nada, Johnny.</td>\n",
       "      <td>2.329976</td>\n",
       "    </tr>\n",
       "    <tr>\n",
       "      <th>1024</th>\n",
       "      <td>Yeah? Thanks.</td>\n",
       "      <td>¿Si? Gracias.</td>\n",
       "      <td>1.529795</td>\n",
       "    </tr>\n",
       "    <tr>\n",
       "      <th>502</th>\n",
       "      <td>And I'm supposed to be a superstar, man!</td>\n",
       "      <td>¡Y se supone que soy una superestrella, hombre!</td>\n",
       "      <td>2.201807</td>\n",
       "    </tr>\n",
       "    <tr>\n",
       "      <th>1025</th>\n",
       "      <td>ROD: Seventy-two percent of new buyers are African-American.</td>\n",
       "      <td>ROD: El setenta y dos por ciento de los nuevos compradores son afroamericanos.</td>\n",
       "      <td>2.442440</td>\n",
       "    </tr>\n",
       "  </tbody>\n",
       "</table>\n",
       "</div>"
      ],
      "text/plain": [
       "                                                               subtitulo  \\\n",
       "1363  Well, I don't know if you're interested in this one little detail.   \n",
       "32                               -Well. thanks. -You're welcome, Johnny.   \n",
       "1024                                                       Yeah? Thanks.   \n",
       "502                             And I'm supposed to be a superstar, man!   \n",
       "1025        ROD: Seventy-two percent of new buyers are African-American.   \n",
       "\n",
       "                                                                        subtitulo_es  \\\n",
       "1363                               Bueno, no sé si te interesa este pequeño detalle.   \n",
       "32                                                -Bueno, gracias. -De nada, Johnny.   \n",
       "1024                                                                   ¿Si? Gracias.   \n",
       "502                                  ¡Y se supone que soy una superestrella, hombre!   \n",
       "1025  ROD: El setenta y dos por ciento de los nuevos compradores son afroamericanos.   \n",
       "\n",
       "      tfidf_sum  \n",
       "1363   2.432761  \n",
       "32     2.329976  \n",
       "1024   1.529795  \n",
       "502    2.201807  \n",
       "1025   2.442440  "
      ]
     },
     "execution_count": 184,
     "metadata": {},
     "output_type": "execute_result"
    }
   ],
   "source": [
    "print('subtitulos_altos:')\n",
    "subtitulos_altos[['subtitulo','subtitulo_es','tfidf_sum']].sample(5)"
   ]
  },
  {
   "cell_type": "markdown",
   "metadata": {},
   "source": [
    "Mi interpretación es que un alto TF-IDF resulta para subtítulos con gran valor de contenido impactante. Son como fraces que podemos recordar y asociar a la película."
   ]
  },
  {
   "cell_type": "code",
   "execution_count": 185,
   "metadata": {},
   "outputs": [
    {
     "name": "stdout",
     "output_type": "stream",
     "text": [
      "subtitulos_bajos:\n"
     ]
    },
    {
     "data": {
      "text/html": [
       "<div>\n",
       "<style scoped>\n",
       "    .dataframe tbody tr th:only-of-type {\n",
       "        vertical-align: middle;\n",
       "    }\n",
       "\n",
       "    .dataframe tbody tr th {\n",
       "        vertical-align: top;\n",
       "    }\n",
       "\n",
       "    .dataframe thead th {\n",
       "        text-align: right;\n",
       "    }\n",
       "</style>\n",
       "<table border=\"1\" class=\"dataframe\">\n",
       "  <thead>\n",
       "    <tr style=\"text-align: right;\">\n",
       "      <th></th>\n",
       "      <th>subtitulo</th>\n",
       "      <th>subtitulo_es</th>\n",
       "      <th>tfidf_sum</th>\n",
       "    </tr>\n",
       "  </thead>\n",
       "  <tbody>\n",
       "    <tr>\n",
       "      <th>713</th>\n",
       "      <td>Man, my hand's getting tired.</td>\n",
       "      <td>Hombre, se me está cansando la mano.</td>\n",
       "      <td>0.0</td>\n",
       "    </tr>\n",
       "    <tr>\n",
       "      <th>1207</th>\n",
       "      <td>The guy's a loser so I broke up with him, and then he started stalking me.</td>\n",
       "      <td>El tipo es un perdedor, así que rompí con él y luego comenzó a acosarme.</td>\n",
       "      <td>1.0</td>\n",
       "    </tr>\n",
       "    <tr>\n",
       "      <th>1113</th>\n",
       "      <td>I know you wouldn't do that to a friend.</td>\n",
       "      <td>Sé que no le harías eso a un amigo.</td>\n",
       "      <td>1.0</td>\n",
       "    </tr>\n",
       "    <tr>\n",
       "      <th>1413</th>\n",
       "      <td>-I'm not as good at the insults as she is. -No. That was pretty good.</td>\n",
       "      <td>-No soy tan buena con los insultos como ella. -No. Eso estuvo bastante bien.</td>\n",
       "      <td>1.0</td>\n",
       "    </tr>\n",
       "    <tr>\n",
       "      <th>1125</th>\n",
       "      <td>I introduced you to your wife. We've spent Christmases together.</td>\n",
       "      <td>Te presenté a tu esposa. Hemos pasado las Navidades juntos.</td>\n",
       "      <td>1.0</td>\n",
       "    </tr>\n",
       "  </tbody>\n",
       "</table>\n",
       "</div>"
      ],
      "text/plain": [
       "                                                                       subtitulo  \\\n",
       "713                                                Man, my hand's getting tired.   \n",
       "1207  The guy's a loser so I broke up with him, and then he started stalking me.   \n",
       "1113                                    I know you wouldn't do that to a friend.   \n",
       "1413       -I'm not as good at the insults as she is. -No. That was pretty good.   \n",
       "1125            I introduced you to your wife. We've spent Christmases together.   \n",
       "\n",
       "                                                                      subtitulo_es  \\\n",
       "713                                           Hombre, se me está cansando la mano.   \n",
       "1207      El tipo es un perdedor, así que rompí con él y luego comenzó a acosarme.   \n",
       "1113                                           Sé que no le harías eso a un amigo.   \n",
       "1413  -No soy tan buena con los insultos como ella. -No. Eso estuvo bastante bien.   \n",
       "1125                   Te presenté a tu esposa. Hemos pasado las Navidades juntos.   \n",
       "\n",
       "      tfidf_sum  \n",
       "713         0.0  \n",
       "1207        1.0  \n",
       "1113        1.0  \n",
       "1413        1.0  \n",
       "1125        1.0  "
      ]
     },
     "execution_count": 185,
     "metadata": {},
     "output_type": "execute_result"
    }
   ],
   "source": [
    "print('subtitulos_bajos:')\n",
    "subtitulos_bajos[['subtitulo','subtitulo_es','tfidf_sum']].sample(5)"
   ]
  },
  {
   "cell_type": "markdown",
   "metadata": {},
   "source": [
    "Para un bajo TF-IDF es todo lo contrario, en general son fraces menos impactantes."
   ]
  },
  {
   "cell_type": "markdown",
   "metadata": {},
   "source": [
    "En el siguiente gráfico se representa el eje x coincidente con el gráfico anterior pero en el se plasma la evaluación de sentimientos resultante.\n",
    "De ésta manera se puede tener una visión general de como se distribuye el sentimiento en toda la película."
   ]
  },
  {
   "cell_type": "code",
   "execution_count": 186,
   "metadata": {},
   "outputs": [
    {
     "data": {
      "image/png": "[encoded data removed]",
      "text/plain": [
       "<Figure size 640x480 with 1 Axes>"
      ]
     },
     "metadata": {},
     "output_type": "display_data"
    }
   ],
   "source": [
    "plt.scatter(df['tfidf_sum'], df['sentimientoVader'], alpha=0.5)\n",
    "plt.title('TF-IDF vs Sentimiento')\n",
    "plt.xlabel('Suma de TF-IDF')\n",
    "plt.ylabel('Sentimiento (VADER)')\n",
    "plt.show()"
   ]
  },
  {
   "cell_type": "markdown",
   "metadata": {},
   "source": [
    "### Nube de Palabras"
   ]
  },
  {
   "cell_type": "code",
   "execution_count": 187,
   "metadata": {},
   "outputs": [],
   "source": [
    "X = tfidf.fit_transform(df['subtituloLimpio1'])"
   ]
  },
  {
   "cell_type": "code",
   "execution_count": 188,
   "metadata": {},
   "outputs": [
    {
     "data": {
      "image/png": "[encoded data removed]",
      "text/plain": [
       "<Figure size 1000x500 with 1 Axes>"
      ]
     },
     "metadata": {},
     "output_type": "display_data"
    }
   ],
   "source": [
    "from wordcloud import WordCloud\n",
    "import matplotlib.pyplot as plt\n",
    "\n",
    "# Obtener las palabras y sus puntuaciones TF-IDF\n",
    "# Aquí estamos utilizando el atributo `get_feature_names_out()` que te da las palabras,\n",
    "# y el atributo `toarray()` para obtener las puntuaciones de TF-IDF\n",
    "words = tfidf.get_feature_names_out()\n",
    "tfidf_scores = X.sum(axis=0).A1  # Sumar las puntuaciones de cada palabra\n",
    "\n",
    "# Crear un diccionario de palabras con sus correspondientes puntuaciones\n",
    "word_dict = dict(zip(words, tfidf_scores))\n",
    "\n",
    "# Generar la nube de palabras con las palabras y puntuaciones obtenidas\n",
    "#wordcloud = WordCloud(width=800, height=400, background_color='white').generate_from_frequencies(word_dict)\n",
    "# Generar la nube de palabras con algunas opciones de personalización\n",
    "wordcloud = WordCloud(width=800, height=400, background_color='white', max_words=100, colormap='viridis').generate_from_frequencies(word_dict)\n",
    "\n",
    "# Visualizar la nube de palabras\n",
    "plt.figure(figsize=(10, 5))\n",
    "plt.imshow(wordcloud, interpolation='bilinear')\n",
    "plt.axis('off')  # Ocultar los ejes\n",
    "plt.show()"
   ]
  }
 ],
 "metadata": {
  "kernelspec": {
   "display_name": "deep02",
   "language": "python",
   "name": "python3"
  },
  "language_info": {
   "codemirror_mode": {
    "name": "ipython",
    "version": 3
   },
   "file_extension": ".py",
   "mimetype": "text/x-python",
   "name": "python",
   "nbconvert_exporter": "python",
   "pygments_lexer": "ipython3",
   "version": "3.10.16"
  }
 },
 "nbformat": 4,
 "nbformat_minor": 2
}
