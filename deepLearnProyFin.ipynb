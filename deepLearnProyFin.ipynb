{
 "cells": [
  {
   "cell_type": "markdown",
   "metadata": {},
   "source": [
    "# Deep Learning aplicado a un guión de película"
   ]
  },
  {
   "cell_type": "code",
   "execution_count": 1,
   "metadata": {},
   "outputs": [],
   "source": [
    "import pandas as pd"
   ]
  },
  {
   "cell_type": "markdown",
   "metadata": {},
   "source": [
    "## Importación del guión a Df"
   ]
  },
  {
   "cell_type": "code",
   "execution_count": 2,
   "metadata": {},
   "outputs": [],
   "source": [
    "# Leer el archivo CSV\n",
    "df = pd.read_csv(\"subtitulos.csv\", encoding=\"utf-8\")"
   ]
  },
  {
   "cell_type": "code",
   "execution_count": 3,
   "metadata": {},
   "outputs": [
    {
     "data": {
      "text/html": [
       "<div>\n",
       "<style scoped>\n",
       "    .dataframe tbody tr th:only-of-type {\n",
       "        vertical-align: middle;\n",
       "    }\n",
       "\n",
       "    .dataframe tbody tr th {\n",
       "        vertical-align: top;\n",
       "    }\n",
       "\n",
       "    .dataframe thead th {\n",
       "        text-align: right;\n",
       "    }\n",
       "</style>\n",
       "<table border=\"1\" class=\"dataframe\">\n",
       "  <thead>\n",
       "    <tr style=\"text-align: right;\">\n",
       "      <th></th>\n",
       "      <th>inicio</th>\n",
       "      <th>fin</th>\n",
       "      <th>subtitulo</th>\n",
       "    </tr>\n",
       "  </thead>\n",
       "  <tbody>\n",
       "    <tr>\n",
       "      <th>1189</th>\n",
       "      <td>01:44:10,803</td>\n",
       "      <td>01:44:15,349</td>\n",
       "      <td>\"Dile lo que ha ganado, Bob\", \"¡Un matrimonio!\"</td>\n",
       "    </tr>\n",
       "    <tr>\n",
       "      <th>795</th>\n",
       "      <td>01:04:39,856</td>\n",
       "      <td>01:04:42,191</td>\n",
       "      <td>No te preocupes.</td>\n",
       "    </tr>\n",
       "    <tr>\n",
       "      <th>1072</th>\n",
       "      <td>01:32:20,181</td>\n",
       "      <td>01:32:22,058</td>\n",
       "      <td>Exacto. Larguémonos.</td>\n",
       "    </tr>\n",
       "    <tr>\n",
       "      <th>1398</th>\n",
       "      <td>02:04:39,425</td>\n",
       "      <td>02:04:41,094</td>\n",
       "      <td>Fuiste tú.</td>\n",
       "    </tr>\n",
       "    <tr>\n",
       "      <th>503</th>\n",
       "      <td>00:40:40,345</td>\n",
       "      <td>00:40:43,181</td>\n",
       "      <td>Ray, deséame suerte.</td>\n",
       "    </tr>\n",
       "  </tbody>\n",
       "</table>\n",
       "</div>"
      ],
      "text/plain": [
       "            inicio           fin  \\\n",
       "1189  01:44:10,803  01:44:15,349   \n",
       "795   01:04:39,856  01:04:42,191   \n",
       "1072  01:32:20,181  01:32:22,058   \n",
       "1398  02:04:39,425  02:04:41,094   \n",
       "503   00:40:40,345  00:40:43,181   \n",
       "\n",
       "                                            subtitulo  \n",
       "1189  \"Dile lo que ha ganado, Bob\", \"¡Un matrimonio!\"  \n",
       "795                                  No te preocupes.  \n",
       "1072                             Exacto. Larguémonos.  \n",
       "1398                                       Fuiste tú.  \n",
       "503                              Ray, deséame suerte.  "
      ]
     },
     "execution_count": 3,
     "metadata": {},
     "output_type": "execute_result"
    }
   ],
   "source": [
    "# Mostrar todo el contenido en varias filas para cada columna\n",
    "pd.set_option('display.max_colwidth', None)\n",
    "df.sample(5)"
   ]
  },
  {
   "cell_type": "code",
   "execution_count": 4,
   "metadata": {},
   "outputs": [
    {
     "data": {
      "text/plain": [
       "(1486, 3)"
      ]
     },
     "execution_count": 4,
     "metadata": {},
     "output_type": "execute_result"
    }
   ],
   "source": [
    "df.shape"
   ]
  },
  {
   "cell_type": "markdown",
   "metadata": {},
   "source": [
    "## NLP"
   ]
  },
  {
   "cell_type": "code",
   "execution_count": 5,
   "metadata": {},
   "outputs": [],
   "source": [
    "import spacy\n",
    "from spacy.lang.es.stop_words import STOP_WORDS\n",
    "import string"
   ]
  },
  {
   "cell_type": "code",
   "execution_count": 6,
   "metadata": {},
   "outputs": [],
   "source": [
    "# Cargar modelo de español\n",
    "# ver otros como: es_core_news_sm, es_core_news_md, es_core_news_lg\n",
    "nlp = spacy.load(\"es_core_news_sm\")"
   ]
  },
  {
   "cell_type": "markdown",
   "metadata": {},
   "source": [
    "### Limpieza"
   ]
  },
  {
   "cell_type": "markdown",
   "metadata": {},
   "source": [
    "Genero columna 'subtituloLimpio' en minúsculas y sin puntuación"
   ]
  },
  {
   "cell_type": "code",
   "execution_count": 7,
   "metadata": {},
   "outputs": [],
   "source": [
    "# Función para limpiar el texto: convertir a minúsculas y eliminar puntuación\n",
    "def limpiar_texto1(text):\n",
    "    # Convertir a minúsculas\n",
    "    text = text.lower()\n",
    "    # Eliminar signos de puntuación\n",
    "    text = ''.join([char for char in text if char not in string.punctuation])\n",
    "    return text"
   ]
  },
  {
   "cell_type": "code",
   "execution_count": 8,
   "metadata": {},
   "outputs": [],
   "source": [
    "import re\n",
    "\n",
    "def limpiar_texto2(texto):\n",
    "    # Convertir a minúsculas\n",
    "    texto = texto.lower()\n",
    "    # Eliminar caracteres no deseados pero mantener `?`, `%`\n",
    "    texto = re.sub(r'[^\\w\\s?%¿!¡]', '', texto)\n",
    "    # Eliminar espacios redundantes\n",
    "    texto = re.sub(r'\\s+', ' ', texto).strip()\n",
    "    return texto"
   ]
  },
  {
   "cell_type": "code",
   "execution_count": 9,
   "metadata": {},
   "outputs": [],
   "source": [
    "# Aplicar limpieza al subtítulo\n",
    "df['subtituloLimpio2'] = df['subtitulo'].apply(limpiar_texto2)"
   ]
  },
  {
   "cell_type": "markdown",
   "metadata": {},
   "source": [
    "### Tokenización"
   ]
  },
  {
   "cell_type": "markdown",
   "metadata": {},
   "source": [
    "Tokenizo los subtítulos en una nueva columna 'tokens'."
   ]
  },
  {
   "cell_type": "code",
   "execution_count": 10,
   "metadata": {},
   "outputs": [],
   "source": [
    "# Tokenizar cada subtítulo usando SpaCy\n",
    "df[\"tokens\"] = df[\"subtituloLimpio2\"].apply(lambda text: [token.text for token in nlp(text)])"
   ]
  },
  {
   "cell_type": "code",
   "execution_count": 11,
   "metadata": {},
   "outputs": [],
   "source": [
    "# Limpieza de tokens en blanco\n",
    "df['tokens'] = df['tokens'].apply(lambda x: [token for token in x if token.strip() != \"\"])"
   ]
  },
  {
   "cell_type": "markdown",
   "metadata": {},
   "source": [
    "Comparativa"
   ]
  },
  {
   "cell_type": "code",
   "execution_count": 12,
   "metadata": {},
   "outputs": [
    {
     "data": {
      "text/html": [
       "<div>\n",
       "<style scoped>\n",
       "    .dataframe tbody tr th:only-of-type {\n",
       "        vertical-align: middle;\n",
       "    }\n",
       "\n",
       "    .dataframe tbody tr th {\n",
       "        vertical-align: top;\n",
       "    }\n",
       "\n",
       "    .dataframe thead th {\n",
       "        text-align: right;\n",
       "    }\n",
       "</style>\n",
       "<table border=\"1\" class=\"dataframe\">\n",
       "  <thead>\n",
       "    <tr style=\"text-align: right;\">\n",
       "      <th></th>\n",
       "      <th>subtitulo</th>\n",
       "      <th>subtituloLimpio2</th>\n",
       "      <th>tokens</th>\n",
       "    </tr>\n",
       "  </thead>\n",
       "  <tbody>\n",
       "    <tr>\n",
       "      <th>106</th>\n",
       "      <td>Así es como uno se hace grande.</td>\n",
       "      <td>así es como uno se hace grande</td>\n",
       "      <td>[así, es, como, uno, se, hace, grande]</td>\n",
       "    </tr>\n",
       "    <tr>\n",
       "      <th>1298</th>\n",
       "      <td>Es una buena oportunidad para ti. Utilízala bien.</td>\n",
       "      <td>es una buena oportunidad para ti utilízala bien</td>\n",
       "      <td>[es, una, buena, oportunidad, para, ti, utilízala, bien]</td>\n",
       "    </tr>\n",
       "    <tr>\n",
       "      <th>1166</th>\n",
       "      <td>- ¿Cómo está tu cabeza? - Fatal.</td>\n",
       "      <td>¿cómo está tu cabeza? fatal</td>\n",
       "      <td>[¿, cómo, está, tu, cabeza, ?, fatal]</td>\n",
       "    </tr>\n",
       "    <tr>\n",
       "      <th>222</th>\n",
       "      <td>Jerry.</td>\n",
       "      <td>jerry</td>\n",
       "      <td>[jerry]</td>\n",
       "    </tr>\n",
       "    <tr>\n",
       "      <th>1146</th>\n",
       "      <td>Señoras y señores: El señor y la señora Maguire.</td>\n",
       "      <td>señoras y señores el señor y la señora maguire</td>\n",
       "      <td>[señoras, y, señores, el, señor, y, la, señora, maguire]</td>\n",
       "    </tr>\n",
       "  </tbody>\n",
       "</table>\n",
       "</div>"
      ],
      "text/plain": [
       "                                              subtitulo  \\\n",
       "106                     Así es como uno se hace grande.   \n",
       "1298  Es una buena oportunidad para ti. Utilízala bien.   \n",
       "1166                   - ¿Cómo está tu cabeza? - Fatal.   \n",
       "222                                              Jerry.   \n",
       "1146   Señoras y señores: El señor y la señora Maguire.   \n",
       "\n",
       "                                     subtituloLimpio2  \\\n",
       "106                    así es como uno se hace grande   \n",
       "1298  es una buena oportunidad para ti utilízala bien   \n",
       "1166                      ¿cómo está tu cabeza? fatal   \n",
       "222                                             jerry   \n",
       "1146   señoras y señores el señor y la señora maguire   \n",
       "\n",
       "                                                        tokens  \n",
       "106                     [así, es, como, uno, se, hace, grande]  \n",
       "1298  [es, una, buena, oportunidad, para, ti, utilízala, bien]  \n",
       "1166                     [¿, cómo, está, tu, cabeza, ?, fatal]  \n",
       "222                                                    [jerry]  \n",
       "1146  [señoras, y, señores, el, señor, y, la, señora, maguire]  "
      ]
     },
     "execution_count": 12,
     "metadata": {},
     "output_type": "execute_result"
    }
   ],
   "source": [
    "df[[\"subtitulo\",\"subtituloLimpio2\", \"tokens\"]].sample(5)"
   ]
  },
  {
   "cell_type": "markdown",
   "metadata": {},
   "source": [
    "### Sin Stopwords"
   ]
  },
  {
   "cell_type": "markdown",
   "metadata": {},
   "source": [
    "Genero columna 'tokensSinStopwords'"
   ]
  },
  {
   "cell_type": "code",
   "execution_count": 13,
   "metadata": {},
   "outputs": [],
   "source": [
    "# Eliminar stopwords de los tokens\n",
    "df[\"tokensSinStopwords\"] = df[\"tokens\"].apply(lambda tokens: [token for token in tokens if not nlp.vocab[token].is_stop])\n",
    "# df['tokensSinStopwords'] = df['tokens'].apply(lambda tokens: [token for token in tokens if token not in STOP_WORDS])"
   ]
  },
  {
   "cell_type": "code",
   "execution_count": 14,
   "metadata": {},
   "outputs": [
    {
     "data": {
      "text/html": [
       "<div>\n",
       "<style scoped>\n",
       "    .dataframe tbody tr th:only-of-type {\n",
       "        vertical-align: middle;\n",
       "    }\n",
       "\n",
       "    .dataframe tbody tr th {\n",
       "        vertical-align: top;\n",
       "    }\n",
       "\n",
       "    .dataframe thead th {\n",
       "        text-align: right;\n",
       "    }\n",
       "</style>\n",
       "<table border=\"1\" class=\"dataframe\">\n",
       "  <thead>\n",
       "    <tr style=\"text-align: right;\">\n",
       "      <th></th>\n",
       "      <th>subtitulo</th>\n",
       "      <th>tokens</th>\n",
       "      <th>tokensSinStopwords</th>\n",
       "    </tr>\n",
       "  </thead>\n",
       "  <tbody>\n",
       "    <tr>\n",
       "      <th>1039</th>\n",
       "      <td>Os voy a enseñar una cosa.</td>\n",
       "      <td>[os, voy, a, enseñar, una, cosa]</td>\n",
       "      <td>[enseñar, cosa]</td>\n",
       "    </tr>\n",
       "    <tr>\n",
       "      <th>717</th>\n",
       "      <td>¿Un futbolista? Soy un maestro de cole que te dará una paliza.</td>\n",
       "      <td>[¿, un, futbolista, ?, soy, un, maestro, de, cole, que, te, dará, una, paliza]</td>\n",
       "      <td>[¿, futbolista, ?, maestro, cole, dará, paliza]</td>\n",
       "    </tr>\n",
       "    <tr>\n",
       "      <th>665</th>\n",
       "      <td>Los dos juntos. ¿Te enteras?</td>\n",
       "      <td>[los, dos, juntos, ¿, te, enteras, ?]</td>\n",
       "      <td>[juntos, ¿, enteras, ?]</td>\n",
       "    </tr>\n",
       "    <tr>\n",
       "      <th>850</th>\n",
       "      <td>Dios, ayúdame.</td>\n",
       "      <td>[dios, ayúdame]</td>\n",
       "      <td>[dios, ayúdame]</td>\n",
       "    </tr>\n",
       "    <tr>\n",
       "      <th>1449</th>\n",
       "      <td>Tu padre se fue el día de Noche Buena y dejó a la familia.</td>\n",
       "      <td>[tu, padre, se, fue, el, día, de, noche, buena, y, dejó, a, la, familia]</td>\n",
       "      <td>[padre, noche, familia]</td>\n",
       "    </tr>\n",
       "  </tbody>\n",
       "</table>\n",
       "</div>"
      ],
      "text/plain": [
       "                                                           subtitulo  \\\n",
       "1039                                      Os voy a enseñar una cosa.   \n",
       "717   ¿Un futbolista? Soy un maestro de cole que te dará una paliza.   \n",
       "665                                     Los dos juntos. ¿Te enteras?   \n",
       "850                                                   Dios, ayúdame.   \n",
       "1449      Tu padre se fue el día de Noche Buena y dejó a la familia.   \n",
       "\n",
       "                                                                              tokens  \\\n",
       "1039                                                [os, voy, a, enseñar, una, cosa]   \n",
       "717   [¿, un, futbolista, ?, soy, un, maestro, de, cole, que, te, dará, una, paliza]   \n",
       "665                                            [los, dos, juntos, ¿, te, enteras, ?]   \n",
       "850                                                                  [dios, ayúdame]   \n",
       "1449        [tu, padre, se, fue, el, día, de, noche, buena, y, dejó, a, la, familia]   \n",
       "\n",
       "                                   tokensSinStopwords  \n",
       "1039                                  [enseñar, cosa]  \n",
       "717   [¿, futbolista, ?, maestro, cole, dará, paliza]  \n",
       "665                           [juntos, ¿, enteras, ?]  \n",
       "850                                   [dios, ayúdame]  \n",
       "1449                          [padre, noche, familia]  "
      ]
     },
     "execution_count": 14,
     "metadata": {},
     "output_type": "execute_result"
    }
   ],
   "source": [
    "df[[\"subtitulo\", \"tokens\",\"tokensSinStopwords\"]].sample(5)"
   ]
  },
  {
   "cell_type": "markdown",
   "metadata": {},
   "source": [
    "### Lematización"
   ]
  },
  {
   "cell_type": "markdown",
   "metadata": {},
   "source": [
    "Aplico lematización para generar una nueva columna: tokensLematizados"
   ]
  },
  {
   "cell_type": "code",
   "execution_count": 15,
   "metadata": {},
   "outputs": [],
   "source": [
    "# Lematizar los tokens sin stopwords\n",
    "df[\"tokensLematizados\"] = df[\"tokensSinStopwords\"].apply(lambda tokens: [nlp(token)[0].lemma_ for token in tokens])"
   ]
  },
  {
   "cell_type": "code",
   "execution_count": 16,
   "metadata": {},
   "outputs": [
    {
     "data": {
      "text/html": [
       "<div>\n",
       "<style scoped>\n",
       "    .dataframe tbody tr th:only-of-type {\n",
       "        vertical-align: middle;\n",
       "    }\n",
       "\n",
       "    .dataframe tbody tr th {\n",
       "        vertical-align: top;\n",
       "    }\n",
       "\n",
       "    .dataframe thead th {\n",
       "        text-align: right;\n",
       "    }\n",
       "</style>\n",
       "<table border=\"1\" class=\"dataframe\">\n",
       "  <thead>\n",
       "    <tr style=\"text-align: right;\">\n",
       "      <th></th>\n",
       "      <th>subtitulo</th>\n",
       "      <th>tokens</th>\n",
       "      <th>tokensSinStopwords</th>\n",
       "      <th>tokensLematizados</th>\n",
       "    </tr>\n",
       "  </thead>\n",
       "  <tbody>\n",
       "    <tr>\n",
       "      <th>1383</th>\n",
       "      <td>Intenta levantarse.</td>\n",
       "      <td>[intenta, levantarse]</td>\n",
       "      <td>[intenta, levantarse]</td>\n",
       "      <td>[intentar, levantar él]</td>\n",
       "    </tr>\n",
       "    <tr>\n",
       "      <th>1252</th>\n",
       "      <td>Ven aquí.</td>\n",
       "      <td>[ven, aquí]</td>\n",
       "      <td>[ven]</td>\n",
       "      <td>[ver]</td>\n",
       "    </tr>\n",
       "    <tr>\n",
       "      <th>1453</th>\n",
       "      <td>- No voy a llorar, Roy. - Bueno, tengo buenas noticias.</td>\n",
       "      <td>[no, voy, a, llorar, roy, bueno, tengo, buenas, noticias]</td>\n",
       "      <td>[llorar, roy, noticias]</td>\n",
       "      <td>[llorar, roy, noticia]</td>\n",
       "    </tr>\n",
       "    <tr>\n",
       "      <th>831</th>\n",
       "      <td>Demuéstrales que disfrutas el juego.</td>\n",
       "      <td>[demuéstrales, que, disfrutas, el, juego]</td>\n",
       "      <td>[demuéstrales, disfrutas, juego]</td>\n",
       "      <td>[demuéstral, disfruta, juego]</td>\n",
       "    </tr>\n",
       "    <tr>\n",
       "      <th>935</th>\n",
       "      <td>No es que mi matrimonio con Roger fuera bueno. Incluso antes.</td>\n",
       "      <td>[no, es, que, mi, matrimonio, con, roger, fuera, bueno, incluso, antes]</td>\n",
       "      <td>[matrimonio, roger]</td>\n",
       "      <td>[matrimonio, roger]</td>\n",
       "    </tr>\n",
       "  </tbody>\n",
       "</table>\n",
       "</div>"
      ],
      "text/plain": [
       "                                                          subtitulo  \\\n",
       "1383                                            Intenta levantarse.   \n",
       "1252                                                      Ven aquí.   \n",
       "1453        - No voy a llorar, Roy. - Bueno, tengo buenas noticias.   \n",
       "831                            Demuéstrales que disfrutas el juego.   \n",
       "935   No es que mi matrimonio con Roger fuera bueno. Incluso antes.   \n",
       "\n",
       "                                                                       tokens  \\\n",
       "1383                                                    [intenta, levantarse]   \n",
       "1252                                                              [ven, aquí]   \n",
       "1453                [no, voy, a, llorar, roy, bueno, tengo, buenas, noticias]   \n",
       "831                                 [demuéstrales, que, disfrutas, el, juego]   \n",
       "935   [no, es, que, mi, matrimonio, con, roger, fuera, bueno, incluso, antes]   \n",
       "\n",
       "                    tokensSinStopwords              tokensLematizados  \n",
       "1383             [intenta, levantarse]        [intentar, levantar él]  \n",
       "1252                             [ven]                          [ver]  \n",
       "1453           [llorar, roy, noticias]         [llorar, roy, noticia]  \n",
       "831   [demuéstrales, disfrutas, juego]  [demuéstral, disfruta, juego]  \n",
       "935                [matrimonio, roger]            [matrimonio, roger]  "
      ]
     },
     "execution_count": 16,
     "metadata": {},
     "output_type": "execute_result"
    }
   ],
   "source": [
    "df[[\"subtitulo\", \"tokens\",\"tokensSinStopwords\",\"tokensLematizados\"]].sample(5)"
   ]
  },
  {
   "cell_type": "markdown",
   "metadata": {},
   "source": [
    "Se observa un problema con los sustantivos propios como los nombres de ciudades: 'Dallas' termina lematizado como 'dalla' y se debe considerar en algún analisis posterior."
   ]
  },
  {
   "cell_type": "markdown",
   "metadata": {},
   "source": [
    "## Análisis de Sentimiento"
   ]
  },
  {
   "cell_type": "markdown",
   "metadata": {},
   "source": [
    "### TextBlob"
   ]
  },
  {
   "cell_type": "code",
   "execution_count": 17,
   "metadata": {},
   "outputs": [],
   "source": [
    "from textblob import TextBlob\n",
    "\n",
    "# Función para obtener la polaridad del sentimiento\n",
    "def sentimientoTextblob(text):\n",
    "    blob = TextBlob(text)\n",
    "    return blob.sentiment.polarity  # Devuelve el puntaje de polaridad (-1 a 1)"
   ]
  },
  {
   "cell_type": "code",
   "execution_count": 18,
   "metadata": {},
   "outputs": [],
   "source": [
    "# Aplicar el análisis de sentimiento a los subtítulos originales\n",
    "df['sentimiento'] = df['subtitulo'].apply(sentimientoTextblob)"
   ]
  },
  {
   "cell_type": "code",
   "execution_count": 19,
   "metadata": {},
   "outputs": [
    {
     "data": {
      "text/html": [
       "<div>\n",
       "<style scoped>\n",
       "    .dataframe tbody tr th:only-of-type {\n",
       "        vertical-align: middle;\n",
       "    }\n",
       "\n",
       "    .dataframe tbody tr th {\n",
       "        vertical-align: top;\n",
       "    }\n",
       "\n",
       "    .dataframe thead th {\n",
       "        text-align: right;\n",
       "    }\n",
       "</style>\n",
       "<table border=\"1\" class=\"dataframe\">\n",
       "  <thead>\n",
       "    <tr style=\"text-align: right;\">\n",
       "      <th></th>\n",
       "      <th>subtitulo</th>\n",
       "      <th>sentimiento</th>\n",
       "    </tr>\n",
       "  </thead>\n",
       "  <tbody>\n",
       "    <tr>\n",
       "      <th>309</th>\n",
       "      <td>He de ser sincero, esto me duele profundamente.</td>\n",
       "      <td>0.0</td>\n",
       "    </tr>\n",
       "    <tr>\n",
       "      <th>608</th>\n",
       "      <td>- Preferiría lealtad. - ¿Qué dijimos cuando nos conocimos?</td>\n",
       "      <td>0.0</td>\n",
       "    </tr>\n",
       "    <tr>\n",
       "      <th>1145</th>\n",
       "      <td>Hola, Dorothy, ven aquí.</td>\n",
       "      <td>0.0</td>\n",
       "    </tr>\n",
       "    <tr>\n",
       "      <th>1459</th>\n",
       "      <td>Quiero a mis hijos. Tyson y mi nuevo bebé.</td>\n",
       "      <td>0.0</td>\n",
       "    </tr>\n",
       "    <tr>\n",
       "      <th>528</th>\n",
       "      <td>Quiero presentaros a Rod Tidwell, 110 recepciones, 1.550 yardas.</td>\n",
       "      <td>0.0</td>\n",
       "    </tr>\n",
       "  </tbody>\n",
       "</table>\n",
       "</div>"
      ],
      "text/plain": [
       "                                                             subtitulo  \\\n",
       "309                    He de ser sincero, esto me duele profundamente.   \n",
       "608         - Preferiría lealtad. - ¿Qué dijimos cuando nos conocimos?   \n",
       "1145                                          Hola, Dorothy, ven aquí.   \n",
       "1459                        Quiero a mis hijos. Tyson y mi nuevo bebé.   \n",
       "528   Quiero presentaros a Rod Tidwell, 110 recepciones, 1.550 yardas.   \n",
       "\n",
       "      sentimiento  \n",
       "309           0.0  \n",
       "608           0.0  \n",
       "1145          0.0  \n",
       "1459          0.0  \n",
       "528           0.0  "
      ]
     },
     "execution_count": 19,
     "metadata": {},
     "output_type": "execute_result"
    }
   ],
   "source": [
    "df[[\"subtitulo\", \"sentimiento\"]].sample(5)"
   ]
  },
  {
   "cell_type": "code",
   "execution_count": 20,
   "metadata": {},
   "outputs": [
    {
     "data": {
      "text/html": [
       "<div>\n",
       "<style scoped>\n",
       "    .dataframe tbody tr th:only-of-type {\n",
       "        vertical-align: middle;\n",
       "    }\n",
       "\n",
       "    .dataframe tbody tr th {\n",
       "        vertical-align: top;\n",
       "    }\n",
       "\n",
       "    .dataframe thead th {\n",
       "        text-align: right;\n",
       "    }\n",
       "</style>\n",
       "<table border=\"1\" class=\"dataframe\">\n",
       "  <thead>\n",
       "    <tr style=\"text-align: right;\">\n",
       "      <th></th>\n",
       "      <th>sentimiento</th>\n",
       "    </tr>\n",
       "  </thead>\n",
       "  <tbody>\n",
       "    <tr>\n",
       "      <th>count</th>\n",
       "      <td>1486.000000</td>\n",
       "    </tr>\n",
       "    <tr>\n",
       "      <th>mean</th>\n",
       "      <td>-0.000585</td>\n",
       "    </tr>\n",
       "    <tr>\n",
       "      <th>std</th>\n",
       "      <td>0.055696</td>\n",
       "    </tr>\n",
       "    <tr>\n",
       "      <th>min</th>\n",
       "      <td>-1.000000</td>\n",
       "    </tr>\n",
       "    <tr>\n",
       "      <th>25%</th>\n",
       "      <td>0.000000</td>\n",
       "    </tr>\n",
       "    <tr>\n",
       "      <th>50%</th>\n",
       "      <td>0.000000</td>\n",
       "    </tr>\n",
       "    <tr>\n",
       "      <th>75%</th>\n",
       "      <td>0.000000</td>\n",
       "    </tr>\n",
       "    <tr>\n",
       "      <th>max</th>\n",
       "      <td>0.600000</td>\n",
       "    </tr>\n",
       "  </tbody>\n",
       "</table>\n",
       "</div>"
      ],
      "text/plain": [
       "       sentimiento\n",
       "count  1486.000000\n",
       "mean     -0.000585\n",
       "std       0.055696\n",
       "min      -1.000000\n",
       "25%       0.000000\n",
       "50%       0.000000\n",
       "75%       0.000000\n",
       "max       0.600000"
      ]
     },
     "execution_count": 20,
     "metadata": {},
     "output_type": "execute_result"
    }
   ],
   "source": [
    "df[[\"sentimiento\"]].describe()"
   ]
  },
  {
   "cell_type": "markdown",
   "metadata": {},
   "source": [
    "Me parece demasiado neutral el análisis de sentimiento."
   ]
  },
  {
   "cell_type": "markdown",
   "metadata": {},
   "source": [
    "### Sentimiento TextBlob por Sentence"
   ]
  },
  {
   "cell_type": "code",
   "execution_count": 21,
   "metadata": {},
   "outputs": [
    {
     "name": "stderr",
     "output_type": "stream",
     "text": [
      "[nltk_data] Downloading package punkt_tab to\n",
      "[nltk_data]     C:\\Users\\jorge\\AppData\\Roaming\\nltk_data...\n",
      "[nltk_data]   Package punkt_tab is already up-to-date!\n"
     ]
    },
    {
     "data": {
      "text/plain": [
       "True"
      ]
     },
     "execution_count": 21,
     "metadata": {},
     "output_type": "execute_result"
    }
   ],
   "source": [
    "import nltk\n",
    "nltk.download('punkt_tab')"
   ]
  },
  {
   "cell_type": "markdown",
   "metadata": {},
   "source": [
    "Genero columna 'sentimientoSentence' de cada subtítulo como promedio de la evaluación de cada Oración."
   ]
  },
  {
   "cell_type": "code",
   "execution_count": 22,
   "metadata": {},
   "outputs": [],
   "source": [
    "from textblob import TextBlob\n",
    "\n",
    "def sentimiento_frases(text):\n",
    "    sentences = TextBlob(text).sentences\n",
    "    return sum(sentence.sentiment.polarity for sentence in sentences) / len(sentences)\n",
    "\n",
    "df['sentimientoSentence'] = df['subtitulo'].apply(sentimiento_frases)"
   ]
  },
  {
   "cell_type": "code",
   "execution_count": 23,
   "metadata": {},
   "outputs": [
    {
     "data": {
      "text/html": [
       "<div>\n",
       "<style scoped>\n",
       "    .dataframe tbody tr th:only-of-type {\n",
       "        vertical-align: middle;\n",
       "    }\n",
       "\n",
       "    .dataframe tbody tr th {\n",
       "        vertical-align: top;\n",
       "    }\n",
       "\n",
       "    .dataframe thead th {\n",
       "        text-align: right;\n",
       "    }\n",
       "</style>\n",
       "<table border=\"1\" class=\"dataframe\">\n",
       "  <thead>\n",
       "    <tr style=\"text-align: right;\">\n",
       "      <th></th>\n",
       "      <th>sentimientoSentence</th>\n",
       "      <th>subtitulo</th>\n",
       "    </tr>\n",
       "  </thead>\n",
       "  <tbody>\n",
       "    <tr>\n",
       "      <th>727</th>\n",
       "      <td>0.0</td>\n",
       "      <td>Todos ellos a mucha distancia de un buen libro y un baño caliente.</td>\n",
       "    </tr>\n",
       "    <tr>\n",
       "      <th>1290</th>\n",
       "      <td>0.0</td>\n",
       "      <td>Sólo fue una declaración de objetivos.</td>\n",
       "    </tr>\n",
       "    <tr>\n",
       "      <th>958</th>\n",
       "      <td>0.0</td>\n",
       "      <td>Por favor, sí.</td>\n",
       "    </tr>\n",
       "    <tr>\n",
       "      <th>1064</th>\n",
       "      <td>0.0</td>\n",
       "      <td>Seguiremos a flote. No te vayas.</td>\n",
       "    </tr>\n",
       "    <tr>\n",
       "      <th>734</th>\n",
       "      <td>0.0</td>\n",
       "      <td>- Te haré un bocadillo de jamón. - Quiero decirte algo.</td>\n",
       "    </tr>\n",
       "  </tbody>\n",
       "</table>\n",
       "</div>"
      ],
      "text/plain": [
       "      sentimientoSentence  \\\n",
       "727                   0.0   \n",
       "1290                  0.0   \n",
       "958                   0.0   \n",
       "1064                  0.0   \n",
       "734                   0.0   \n",
       "\n",
       "                                                               subtitulo  \n",
       "727   Todos ellos a mucha distancia de un buen libro y un baño caliente.  \n",
       "1290                              Sólo fue una declaración de objetivos.  \n",
       "958                                                       Por favor, sí.  \n",
       "1064                                    Seguiremos a flote. No te vayas.  \n",
       "734              - Te haré un bocadillo de jamón. - Quiero decirte algo.  "
      ]
     },
     "execution_count": 23,
     "metadata": {},
     "output_type": "execute_result"
    }
   ],
   "source": [
    "pd.set_option('display.max_colwidth', None)\n",
    "\n",
    "df[['sentimientoSentence','subtitulo']].sample(5)"
   ]
  },
  {
   "cell_type": "code",
   "execution_count": 24,
   "metadata": {},
   "outputs": [
    {
     "data": {
      "text/plain": [
       "count    1486.000000\n",
       "mean        0.000177\n",
       "std         0.041927\n",
       "min        -0.700000\n",
       "25%         0.000000\n",
       "50%         0.000000\n",
       "75%         0.000000\n",
       "max         0.600000\n",
       "Name: sentimientoSentence, dtype: float64"
      ]
     },
     "execution_count": 24,
     "metadata": {},
     "output_type": "execute_result"
    }
   ],
   "source": [
    "df['sentimientoSentence'].describe()"
   ]
  },
  {
   "cell_type": "markdown",
   "metadata": {},
   "source": [
    "Sigue teniendo peso el sentimiento neutral."
   ]
  },
  {
   "cell_type": "markdown",
   "metadata": {},
   "source": [
    "### Análisis de Sentimiento con VADER"
   ]
  },
  {
   "cell_type": "markdown",
   "metadata": {},
   "source": [
    "Buscando otro método que quizás me realice una mejor clasificación de sentimientos es que voy a probar VADER."
   ]
  },
  {
   "cell_type": "code",
   "execution_count": 25,
   "metadata": {},
   "outputs": [
    {
     "name": "stderr",
     "output_type": "stream",
     "text": [
      "[nltk_data] Downloading package vader_lexicon to\n",
      "[nltk_data]     C:\\Users\\jorge\\AppData\\Roaming\\nltk_data...\n",
      "[nltk_data]   Package vader_lexicon is already up-to-date!\n"
     ]
    },
    {
     "data": {
      "text/plain": [
       "True"
      ]
     },
     "execution_count": 25,
     "metadata": {},
     "output_type": "execute_result"
    }
   ],
   "source": [
    "from nltk.sentiment import SentimentIntensityAnalyzer\n",
    "import nltk\n",
    "\n",
    "# Asegúrate de que los datos necesarios estén descargados\n",
    "nltk.download('vader_lexicon')"
   ]
  },
  {
   "cell_type": "code",
   "execution_count": 26,
   "metadata": {},
   "outputs": [],
   "source": [
    "sia = SentimentIntensityAnalyzer()\n",
    "\n",
    "def sentimiento_vader(text):\n",
    "    scores = sia.polarity_scores(text)\n",
    "    return scores['compound']  # Devuelve el puntaje general de sentimiento\n",
    "\n",
    "df['sentimientoVader'] = df['subtitulo'].apply(sentimiento_vader)"
   ]
  },
  {
   "cell_type": "code",
   "execution_count": 27,
   "metadata": {},
   "outputs": [
    {
     "data": {
      "text/html": [
       "<div>\n",
       "<style scoped>\n",
       "    .dataframe tbody tr th:only-of-type {\n",
       "        vertical-align: middle;\n",
       "    }\n",
       "\n",
       "    .dataframe tbody tr th {\n",
       "        vertical-align: top;\n",
       "    }\n",
       "\n",
       "    .dataframe thead th {\n",
       "        text-align: right;\n",
       "    }\n",
       "</style>\n",
       "<table border=\"1\" class=\"dataframe\">\n",
       "  <thead>\n",
       "    <tr style=\"text-align: right;\">\n",
       "      <th></th>\n",
       "      <th>sentimientoVader</th>\n",
       "      <th>subtitulo</th>\n",
       "    </tr>\n",
       "  </thead>\n",
       "  <tbody>\n",
       "    <tr>\n",
       "      <th>1456</th>\n",
       "      <td>0.000</td>\n",
       "      <td>11,2 millones y jugarás en tu propio estado.</td>\n",
       "    </tr>\n",
       "    <tr>\n",
       "      <th>1024</th>\n",
       "      <td>0.000</td>\n",
       "      <td>Perdona, es que estoy embarazada.</td>\n",
       "    </tr>\n",
       "    <tr>\n",
       "      <th>544</th>\n",
       "      <td>0.000</td>\n",
       "      <td>Te has abierto a la gente.</td>\n",
       "    </tr>\n",
       "    <tr>\n",
       "      <th>1031</th>\n",
       "      <td>0.000</td>\n",
       "      <td>¿Qué te propones exactamente?</td>\n",
       "    </tr>\n",
       "    <tr>\n",
       "      <th>974</th>\n",
       "      <td>-0.802</td>\n",
       "      <td>- Sin barreras, sin fronteras. - Vale Chad, ya lo entiendo.</td>\n",
       "    </tr>\n",
       "  </tbody>\n",
       "</table>\n",
       "</div>"
      ],
      "text/plain": [
       "      sentimientoVader  \\\n",
       "1456             0.000   \n",
       "1024             0.000   \n",
       "544              0.000   \n",
       "1031             0.000   \n",
       "974             -0.802   \n",
       "\n",
       "                                                        subtitulo  \n",
       "1456                 11,2 millones y jugarás en tu propio estado.  \n",
       "1024                            Perdona, es que estoy embarazada.  \n",
       "544                                    Te has abierto a la gente.  \n",
       "1031                                ¿Qué te propones exactamente?  \n",
       "974   - Sin barreras, sin fronteras. - Vale Chad, ya lo entiendo.  "
      ]
     },
     "execution_count": 27,
     "metadata": {},
     "output_type": "execute_result"
    }
   ],
   "source": [
    "df[['sentimientoVader', 'subtitulo']].sample(5)"
   ]
  },
  {
   "cell_type": "code",
   "execution_count": 28,
   "metadata": {},
   "outputs": [
    {
     "data": {
      "text/plain": [
       "count    1486.000000\n",
       "mean       -0.036641\n",
       "std         0.159777\n",
       "min        -0.802000\n",
       "25%         0.000000\n",
       "50%         0.000000\n",
       "75%         0.000000\n",
       "max         0.636900\n",
       "Name: sentimientoVader, dtype: float64"
      ]
     },
     "execution_count": 28,
     "metadata": {},
     "output_type": "execute_result"
    }
   ],
   "source": [
    "df['sentimientoVader'].describe()"
   ]
  },
  {
   "cell_type": "markdown",
   "metadata": {},
   "source": [
    "Parece capturar mejor el sentimiento dentro de los subtítulos con VADER."
   ]
  },
  {
   "cell_type": "markdown",
   "metadata": {},
   "source": [
    "#### Top de Positivos y Negativos"
   ]
  },
  {
   "cell_type": "code",
   "execution_count": 29,
   "metadata": {},
   "outputs": [],
   "source": [
    "# Obtener los 10 subtítulos más positivos\n",
    "top_positivos = df.nlargest(10, 'sentimientoVader')[['sentimientoVader', 'subtitulo']]\n",
    "\n",
    "# Obtener los 10 subtítulos más negativos\n",
    "top_negativos = df.nsmallest(10, 'sentimientoVader')[['sentimientoVader', 'subtitulo']]"
   ]
  },
  {
   "cell_type": "code",
   "execution_count": 30,
   "metadata": {},
   "outputs": [
    {
     "name": "stdout",
     "output_type": "stream",
     "text": [
      "Subtítulos más positivos:\n"
     ]
    },
    {
     "data": {
      "text/html": [
       "<div>\n",
       "<style scoped>\n",
       "    .dataframe tbody tr th:only-of-type {\n",
       "        vertical-align: middle;\n",
       "    }\n",
       "\n",
       "    .dataframe tbody tr th {\n",
       "        vertical-align: top;\n",
       "    }\n",
       "\n",
       "    .dataframe thead th {\n",
       "        text-align: right;\n",
       "    }\n",
       "</style>\n",
       "<table border=\"1\" class=\"dataframe\">\n",
       "  <thead>\n",
       "    <tr style=\"text-align: right;\">\n",
       "      <th></th>\n",
       "      <th>sentimientoVader</th>\n",
       "      <th>subtitulo</th>\n",
       "    </tr>\n",
       "  </thead>\n",
       "  <tbody>\n",
       "    <tr>\n",
       "      <th>1473</th>\n",
       "      <td>0.6369</td>\n",
       "      <td>- ¿Te gustó el zoo, chaval? - Ha sido genial.</td>\n",
       "    </tr>\n",
       "    <tr>\n",
       "      <th>823</th>\n",
       "      <td>0.6124</td>\n",
       "      <td>Es amor, respeto, clase y dinero. El paquete completo.</td>\n",
       "    </tr>\n",
       "    <tr>\n",
       "      <th>1463</th>\n",
       "      <td>0.6124</td>\n",
       "      <td>- Sólo tenemos media hora. - Con amor a mi línea ofensiva.</td>\n",
       "    </tr>\n",
       "    <tr>\n",
       "      <th>25</th>\n",
       "      <td>0.5994</td>\n",
       "      <td>- Tenemos que ganar Super Bowls. - Mis respetos.</td>\n",
       "    </tr>\n",
       "    <tr>\n",
       "      <th>40</th>\n",
       "      <td>0.5994</td>\n",
       "      <td>...emitido durante la Super Bowl que estés ganando.</td>\n",
       "    </tr>\n",
       "    <tr>\n",
       "      <th>65</th>\n",
       "      <td>0.5994</td>\n",
       "      <td>...Guerreros VR Super Trooper.</td>\n",
       "    </tr>\n",
       "    <tr>\n",
       "      <th>1307</th>\n",
       "      <td>0.5994</td>\n",
       "      <td>Vamos a un Super Bowl consecutivo.</td>\n",
       "    </tr>\n",
       "    <tr>\n",
       "      <th>1465</th>\n",
       "      <td>0.5994</td>\n",
       "      <td>- ¿Recuerdas a Troy del Super Bowl? - Sí, nos conocimos en el 93.</td>\n",
       "    </tr>\n",
       "    <tr>\n",
       "      <th>1346</th>\n",
       "      <td>0.5859</td>\n",
       "      <td>- Ha podido controlar la pelota. - Se ha hecho daño.</td>\n",
       "    </tr>\n",
       "    <tr>\n",
       "      <th>217</th>\n",
       "      <td>0.4767</td>\n",
       "      <td>Sé lo de la fiesta.</td>\n",
       "    </tr>\n",
       "  </tbody>\n",
       "</table>\n",
       "</div>"
      ],
      "text/plain": [
       "      sentimientoVader  \\\n",
       "1473            0.6369   \n",
       "823             0.6124   \n",
       "1463            0.6124   \n",
       "25              0.5994   \n",
       "40              0.5994   \n",
       "65              0.5994   \n",
       "1307            0.5994   \n",
       "1465            0.5994   \n",
       "1346            0.5859   \n",
       "217             0.4767   \n",
       "\n",
       "                                                              subtitulo  \n",
       "1473                      - ¿Te gustó el zoo, chaval? - Ha sido genial.  \n",
       "823              Es amor, respeto, clase y dinero. El paquete completo.  \n",
       "1463         - Sólo tenemos media hora. - Con amor a mi línea ofensiva.  \n",
       "25                     - Tenemos que ganar Super Bowls. - Mis respetos.  \n",
       "40                  ...emitido durante la Super Bowl que estés ganando.  \n",
       "65                                       ...Guerreros VR Super Trooper.  \n",
       "1307                                 Vamos a un Super Bowl consecutivo.  \n",
       "1465  - ¿Recuerdas a Troy del Super Bowl? - Sí, nos conocimos en el 93.  \n",
       "1346               - Ha podido controlar la pelota. - Se ha hecho daño.  \n",
       "217                                                 Sé lo de la fiesta.  "
      ]
     },
     "execution_count": 30,
     "metadata": {},
     "output_type": "execute_result"
    }
   ],
   "source": [
    "# Mostrar resultados\n",
    "print(\"Subtítulos más positivos:\")\n",
    "top_positivos"
   ]
  },
  {
   "cell_type": "code",
   "execution_count": 31,
   "metadata": {},
   "outputs": [
    {
     "name": "stdout",
     "output_type": "stream",
     "text": [
      "\n",
      "Subtítulos más negativos:\n"
     ]
    },
    {
     "data": {
      "text/html": [
       "<div>\n",
       "<style scoped>\n",
       "    .dataframe tbody tr th:only-of-type {\n",
       "        vertical-align: middle;\n",
       "    }\n",
       "\n",
       "    .dataframe tbody tr th {\n",
       "        vertical-align: top;\n",
       "    }\n",
       "\n",
       "    .dataframe thead th {\n",
       "        text-align: right;\n",
       "    }\n",
       "</style>\n",
       "<table border=\"1\" class=\"dataframe\">\n",
       "  <thead>\n",
       "    <tr style=\"text-align: right;\">\n",
       "      <th></th>\n",
       "      <th>sentimientoVader</th>\n",
       "      <th>subtitulo</th>\n",
       "    </tr>\n",
       "  </thead>\n",
       "  <tbody>\n",
       "    <tr>\n",
       "      <th>974</th>\n",
       "      <td>-0.8020</td>\n",
       "      <td>- Sin barreras, sin fronteras. - Vale Chad, ya lo entiendo.</td>\n",
       "    </tr>\n",
       "    <tr>\n",
       "      <th>843</th>\n",
       "      <td>-0.7906</td>\n",
       "      <td>No bailo y no participo en pretemporadas sin contrato.</td>\n",
       "    </tr>\n",
       "    <tr>\n",
       "      <th>1219</th>\n",
       "      <td>-0.7003</td>\n",
       "      <td>No me gusta ver películas sin ti.</td>\n",
       "    </tr>\n",
       "    <tr>\n",
       "      <th>1365</th>\n",
       "      <td>-0.7003</td>\n",
       "      <td>...y no funciona sin él.</td>\n",
       "    </tr>\n",
       "    <tr>\n",
       "      <th>1040</th>\n",
       "      <td>-0.6808</td>\n",
       "      <td>- Mira. Rod, lee esto. - No, no, no.</td>\n",
       "    </tr>\n",
       "    <tr>\n",
       "      <th>609</th>\n",
       "      <td>-0.6249</td>\n",
       "      <td>Una verdad brutal. ¿Recuerdas?</td>\n",
       "    </tr>\n",
       "    <tr>\n",
       "      <th>1106</th>\n",
       "      <td>-0.6072</td>\n",
       "      <td>- ¿Puedes conducir esta cosa? - ¿Esto? Sin problemas.</td>\n",
       "    </tr>\n",
       "    <tr>\n",
       "      <th>1266</th>\n",
       "      <td>-0.5803</td>\n",
       "      <td>- ¿Por qué no? Me lo merezco. - ¿Y qué pasa si yo no soy así?</td>\n",
       "    </tr>\n",
       "    <tr>\n",
       "      <th>254</th>\n",
       "      <td>-0.5574</td>\n",
       "      <td>- Hola. - Cuánto tiempo sin verte.</td>\n",
       "    </tr>\n",
       "    <tr>\n",
       "      <th>420</th>\n",
       "      <td>-0.5574</td>\n",
       "      <td>Veremos qué tal les va sin nosotros.</td>\n",
       "    </tr>\n",
       "  </tbody>\n",
       "</table>\n",
       "</div>"
      ],
      "text/plain": [
       "      sentimientoVader  \\\n",
       "974            -0.8020   \n",
       "843            -0.7906   \n",
       "1219           -0.7003   \n",
       "1365           -0.7003   \n",
       "1040           -0.6808   \n",
       "609            -0.6249   \n",
       "1106           -0.6072   \n",
       "1266           -0.5803   \n",
       "254            -0.5574   \n",
       "420            -0.5574   \n",
       "\n",
       "                                                          subtitulo  \n",
       "974     - Sin barreras, sin fronteras. - Vale Chad, ya lo entiendo.  \n",
       "843          No bailo y no participo en pretemporadas sin contrato.  \n",
       "1219                              No me gusta ver películas sin ti.  \n",
       "1365                                       ...y no funciona sin él.  \n",
       "1040                           - Mira. Rod, lee esto. - No, no, no.  \n",
       "609                                  Una verdad brutal. ¿Recuerdas?  \n",
       "1106          - ¿Puedes conducir esta cosa? - ¿Esto? Sin problemas.  \n",
       "1266  - ¿Por qué no? Me lo merezco. - ¿Y qué pasa si yo no soy así?  \n",
       "254                              - Hola. - Cuánto tiempo sin verte.  \n",
       "420                            Veremos qué tal les va sin nosotros.  "
      ]
     },
     "execution_count": 31,
     "metadata": {},
     "output_type": "execute_result"
    }
   ],
   "source": [
    "print(\"\\nSubtítulos más negativos:\")\n",
    "top_negativos"
   ]
  },
  {
   "cell_type": "markdown",
   "metadata": {},
   "source": [
    "- Sin barreras, sin fronteras. - Vale Chad, ya lo entiendo\n",
    "  - No creo que sea algo negativo\n",
    "- No me gusta ver películas sin ti.\n",
    "  - Aquí el algoritmo se centra en 'No me gusta' en ves de considerar la frase completa.\n",
    "- Hola. - Cuánto tiempo sin verte.\n",
    "  - Realmente no es negativa"
   ]
  },
  {
   "cell_type": "markdown",
   "metadata": {},
   "source": [
    "### Análisis con TF-IDF vectorizer"
   ]
  },
  {
   "cell_type": "code",
   "execution_count": 98,
   "metadata": {},
   "outputs": [
    {
     "name": "stderr",
     "output_type": "stream",
     "text": [
      "[nltk_data] Downloading package stopwords to\n",
      "[nltk_data]     C:\\Users\\jorge\\AppData\\Roaming\\nltk_data...\n",
      "[nltk_data]   Package stopwords is already up-to-date!\n"
     ]
    }
   ],
   "source": [
    "import nltk\n",
    "nltk.download('stopwords')\n",
    "from nltk.corpus import stopwords\n",
    "\n",
    "# Obtener stopwords en español\n",
    "stop_words_es = stopwords.words('spanish')\n",
    "stop_words = set(stop_words_es)"
   ]
  },
  {
   "cell_type": "code",
   "execution_count": 99,
   "metadata": {},
   "outputs": [
    {
     "data": {
      "text/html": [
       "<div>\n",
       "<style scoped>\n",
       "    .dataframe tbody tr th:only-of-type {\n",
       "        vertical-align: middle;\n",
       "    }\n",
       "\n",
       "    .dataframe tbody tr th {\n",
       "        vertical-align: top;\n",
       "    }\n",
       "\n",
       "    .dataframe thead th {\n",
       "        text-align: right;\n",
       "    }\n",
       "</style>\n",
       "<table border=\"1\" class=\"dataframe\">\n",
       "  <thead>\n",
       "    <tr style=\"text-align: right;\">\n",
       "      <th></th>\n",
       "      <th>subtitulo</th>\n",
       "      <th>subtituloLimpio2</th>\n",
       "      <th>tokens</th>\n",
       "      <th>tokensSinStopwords</th>\n",
       "      <th>tokensLematizados</th>\n",
       "    </tr>\n",
       "  </thead>\n",
       "  <tbody>\n",
       "    <tr>\n",
       "      <th>251</th>\n",
       "      <td>- Marcee. - Lo conseguiste.</td>\n",
       "      <td>marcee lo conseguiste</td>\n",
       "      <td>[marcee, lo, conseguiste]</td>\n",
       "      <td>[marcee, conseguiste]</td>\n",
       "      <td>[marceir, conseguiste]</td>\n",
       "    </tr>\n",
       "    <tr>\n",
       "      <th>1086</th>\n",
       "      <td>Madres solteras son sagradas. Tienes que hablarlo con ella.</td>\n",
       "      <td>madres solteras son sagradas tienes que hablarlo con ella</td>\n",
       "      <td>[madres, solteras, son, sagradas, tienes, que, hablarlo, con, ella]</td>\n",
       "      <td>[madres, solteras, sagradas, tienes, hablarlo]</td>\n",
       "      <td>[madre, soltera, sagrada, tener, hablar él]</td>\n",
       "    </tr>\n",
       "    <tr>\n",
       "      <th>1234</th>\n",
       "      <td>¿Puedo venir a ver la TV?</td>\n",
       "      <td>¿puedo venir a ver la tv?</td>\n",
       "      <td>[¿, puedo, venir, a, ver, la, tv, ?]</td>\n",
       "      <td>[¿, venir, tv, ?]</td>\n",
       "      <td>[¿, venir, tv, ?]</td>\n",
       "    </tr>\n",
       "    <tr>\n",
       "      <th>1216</th>\n",
       "      <td>20 minutos anunciando películas. Todas de negros y de violencia.</td>\n",
       "      <td>20 minutos anunciando películas todas de negros y de violencia</td>\n",
       "      <td>[20, minutos, anunciando, películas, todas, de, negros, y, de, violencia]</td>\n",
       "      <td>[20, minutos, anunciando, películas, negros, violencia]</td>\n",
       "      <td>[20, minuto, anunciar, película, negro, violencia]</td>\n",
       "    </tr>\n",
       "    <tr>\n",
       "      <th>808</th>\n",
       "      <td>Dennis, te estoy pidiendo...</td>\n",
       "      <td>dennis te estoy pidiendo</td>\n",
       "      <td>[dennis, te, estoy, pidiendo]</td>\n",
       "      <td>[dennis, pidiendo]</td>\n",
       "      <td>[denni, pedir]</td>\n",
       "    </tr>\n",
       "  </tbody>\n",
       "</table>\n",
       "</div>"
      ],
      "text/plain": [
       "                                                             subtitulo  \\\n",
       "251                                        - Marcee. - Lo conseguiste.   \n",
       "1086       Madres solteras son sagradas. Tienes que hablarlo con ella.   \n",
       "1234                                         ¿Puedo venir a ver la TV?   \n",
       "1216  20 minutos anunciando películas. Todas de negros y de violencia.   \n",
       "808                                       Dennis, te estoy pidiendo...   \n",
       "\n",
       "                                                    subtituloLimpio2  \\\n",
       "251                                            marcee lo conseguiste   \n",
       "1086       madres solteras son sagradas tienes que hablarlo con ella   \n",
       "1234                                       ¿puedo venir a ver la tv?   \n",
       "1216  20 minutos anunciando películas todas de negros y de violencia   \n",
       "808                                         dennis te estoy pidiendo   \n",
       "\n",
       "                                                                         tokens  \\\n",
       "251                                                   [marcee, lo, conseguiste]   \n",
       "1086        [madres, solteras, son, sagradas, tienes, que, hablarlo, con, ella]   \n",
       "1234                                       [¿, puedo, venir, a, ver, la, tv, ?]   \n",
       "1216  [20, minutos, anunciando, películas, todas, de, negros, y, de, violencia]   \n",
       "808                                               [dennis, te, estoy, pidiendo]   \n",
       "\n",
       "                                           tokensSinStopwords  \\\n",
       "251                                     [marcee, conseguiste]   \n",
       "1086           [madres, solteras, sagradas, tienes, hablarlo]   \n",
       "1234                                        [¿, venir, tv, ?]   \n",
       "1216  [20, minutos, anunciando, películas, negros, violencia]   \n",
       "808                                        [dennis, pidiendo]   \n",
       "\n",
       "                                       tokensLematizados  \n",
       "251                               [marceir, conseguiste]  \n",
       "1086         [madre, soltera, sagrada, tener, hablar él]  \n",
       "1234                                   [¿, venir, tv, ?]  \n",
       "1216  [20, minuto, anunciar, película, negro, violencia]  \n",
       "808                                       [denni, pedir]  "
      ]
     },
     "execution_count": 99,
     "metadata": {},
     "output_type": "execute_result"
    }
   ],
   "source": [
    "df[['subtitulo','subtituloLimpio2','tokens','tokensSinStopwords','tokensLematizados']].sample(5)"
   ]
  },
  {
   "cell_type": "markdown",
   "metadata": {},
   "source": [
    "---"
   ]
  },
  {
   "cell_type": "code",
   "execution_count": 100,
   "metadata": {},
   "outputs": [],
   "source": [
    "def limpiar_texto3(text):\n",
    "    # Convertir a minúsculas\n",
    "    text = text.lower()\n",
    "    # Eliminar signos de puntuación (sin dejar ninguno)\n",
    "    text = re.sub(r'[^\\w\\s]', '', text)\n",
    "    return text\n",
    "\n",
    "def eliminar_stopwords(text):\n",
    "    # Tokenizar usando spaCy\n",
    "    tokens = nlp(text)\n",
    "    # Filtrar stopwords\n",
    "    filtered_tokens = [token.text for token in tokens if token.text not in stop_words]\n",
    "    return \" \".join(filtered_tokens)\n",
    "\n",
    "def lematizar_texto1(text):\n",
    "    # Tokenizar y lematizar usando spaCy\n",
    "    tokens = nlp(text)\n",
    "    lematizado = [token.lemma_ for token in tokens]\n",
    "    return \" \".join(lematizado)\n",
    "\n",
    "def lematizar_texto(text):\n",
    "    # Tokenizar y lematizar usando el modelo spaCy en español\n",
    "    doc = nlp(text)\n",
    "    # Devolver lemas uniendo las palabras\n",
    "    return \" \".join([token.lemma_ for token in doc if not token.is_punct])"
   ]
  },
  {
   "cell_type": "code",
   "execution_count": 101,
   "metadata": {},
   "outputs": [],
   "source": [
    "# Crear la columna subtitulolimpio1\n",
    "df['subtitulolimpio3'] = df['subtitulo'].apply(limpiar_texto3)"
   ]
  },
  {
   "cell_type": "code",
   "execution_count": 102,
   "metadata": {},
   "outputs": [
    {
     "data": {
      "text/html": [
       "<div>\n",
       "<style scoped>\n",
       "    .dataframe tbody tr th:only-of-type {\n",
       "        vertical-align: middle;\n",
       "    }\n",
       "\n",
       "    .dataframe tbody tr th {\n",
       "        vertical-align: top;\n",
       "    }\n",
       "\n",
       "    .dataframe thead th {\n",
       "        text-align: right;\n",
       "    }\n",
       "</style>\n",
       "<table border=\"1\" class=\"dataframe\">\n",
       "  <thead>\n",
       "    <tr style=\"text-align: right;\">\n",
       "      <th></th>\n",
       "      <th>subtitulo</th>\n",
       "      <th>subtitulolimpio3</th>\n",
       "    </tr>\n",
       "  </thead>\n",
       "  <tbody>\n",
       "    <tr>\n",
       "      <th>250</th>\n",
       "      <td>Llega tarde para su vuelo a Phoenix.</td>\n",
       "      <td>llega tarde para su vuelo a phoenix</td>\n",
       "    </tr>\n",
       "    <tr>\n",
       "      <th>139</th>\n",
       "      <td>- Regresamos al hotel. - Qué lástima.</td>\n",
       "      <td>regresamos al hotel  qué lástima</td>\n",
       "    </tr>\n",
       "    <tr>\n",
       "      <th>672</th>\n",
       "      <td>Y por primera vez, hago algo en lo que creo.</td>\n",
       "      <td>y por primera vez hago algo en lo que creo</td>\n",
       "    </tr>\n",
       "    <tr>\n",
       "      <th>912</th>\n",
       "      <td>Yo también quiero ir.</td>\n",
       "      <td>yo también quiero ir</td>\n",
       "    </tr>\n",
       "    <tr>\n",
       "      <th>438</th>\n",
       "      <td>- ¿Qué pasa con el seguro? - Claro.</td>\n",
       "      <td>qué pasa con el seguro  claro</td>\n",
       "    </tr>\n",
       "  </tbody>\n",
       "</table>\n",
       "</div>"
      ],
      "text/plain": [
       "                                        subtitulo  \\\n",
       "250          Llega tarde para su vuelo a Phoenix.   \n",
       "139         - Regresamos al hotel. - Qué lástima.   \n",
       "672  Y por primera vez, hago algo en lo que creo.   \n",
       "912                         Yo también quiero ir.   \n",
       "438           - ¿Qué pasa con el seguro? - Claro.   \n",
       "\n",
       "                               subtitulolimpio3  \n",
       "250         llega tarde para su vuelo a phoenix  \n",
       "139            regresamos al hotel  qué lástima  \n",
       "672  y por primera vez hago algo en lo que creo  \n",
       "912                        yo también quiero ir  \n",
       "438               qué pasa con el seguro  claro  "
      ]
     },
     "execution_count": 102,
     "metadata": {},
     "output_type": "execute_result"
    }
   ],
   "source": [
    "df[['subtitulo', 'subtitulolimpio3']].sample(5)"
   ]
  },
  {
   "cell_type": "code",
   "execution_count": 103,
   "metadata": {},
   "outputs": [],
   "source": [
    "# Eliminar stopwords y lematizar\n",
    "df['subtituloSinStopwords1'] = df['subtitulolimpio3'].apply(eliminar_stopwords)"
   ]
  },
  {
   "cell_type": "code",
   "execution_count": 104,
   "metadata": {},
   "outputs": [
    {
     "data": {
      "text/html": [
       "<div>\n",
       "<style scoped>\n",
       "    .dataframe tbody tr th:only-of-type {\n",
       "        vertical-align: middle;\n",
       "    }\n",
       "\n",
       "    .dataframe tbody tr th {\n",
       "        vertical-align: top;\n",
       "    }\n",
       "\n",
       "    .dataframe thead th {\n",
       "        text-align: right;\n",
       "    }\n",
       "</style>\n",
       "<table border=\"1\" class=\"dataframe\">\n",
       "  <thead>\n",
       "    <tr style=\"text-align: right;\">\n",
       "      <th></th>\n",
       "      <th>subtitulo</th>\n",
       "      <th>subtitulolimpio3</th>\n",
       "      <th>subtituloSinStopwords1</th>\n",
       "    </tr>\n",
       "  </thead>\n",
       "  <tbody>\n",
       "    <tr>\n",
       "      <th>318</th>\n",
       "      <td>Jerry. Ay, Dios.</td>\n",
       "      <td>jerry ay dios</td>\n",
       "      <td>jerry ay dios</td>\n",
       "    </tr>\n",
       "    <tr>\n",
       "      <th>872</th>\n",
       "      <td>Esto es una relación de trabajo.</td>\n",
       "      <td>esto es una relación de trabajo</td>\n",
       "      <td>relación trabajo</td>\n",
       "    </tr>\n",
       "    <tr>\n",
       "      <th>990</th>\n",
       "      <td>¿Soy por eso una mala persona?</td>\n",
       "      <td>soy por eso una mala persona</td>\n",
       "      <td>mala persona</td>\n",
       "    </tr>\n",
       "    <tr>\n",
       "      <th>1047</th>\n",
       "      <td>Lo que vamos a hacer es esto. Rechazar ese contrato de mierda.</td>\n",
       "      <td>lo que vamos a hacer es esto rechazar ese contrato de mierda</td>\n",
       "      <td>vamos hacer rechazar contrato mierda</td>\n",
       "    </tr>\n",
       "    <tr>\n",
       "      <th>1317</th>\n",
       "      <td>Los Cardinals se niegan a aceptar la calma chicha...</td>\n",
       "      <td>los cardinals se niegan a aceptar la calma chicha</td>\n",
       "      <td>cardinals niegan aceptar calma chicha</td>\n",
       "    </tr>\n",
       "    <tr>\n",
       "      <th>133</th>\n",
       "      <td>Me dijo...</td>\n",
       "      <td>me dijo</td>\n",
       "      <td>dijo</td>\n",
       "    </tr>\n",
       "    <tr>\n",
       "      <th>78</th>\n",
       "      <td>No, eso era.</td>\n",
       "      <td>no eso era</td>\n",
       "      <td></td>\n",
       "    </tr>\n",
       "    <tr>\n",
       "      <th>1412</th>\n",
       "      <td>...y es muy difícil cambiar a la gente.</td>\n",
       "      <td>y es muy difícil cambiar a la gente</td>\n",
       "      <td>difícil cambiar gente</td>\n",
       "    </tr>\n",
       "    <tr>\n",
       "      <th>407</th>\n",
       "      <td>Esto es vergonzoso.</td>\n",
       "      <td>esto es vergonzoso</td>\n",
       "      <td>vergonzoso</td>\n",
       "    </tr>\n",
       "    <tr>\n",
       "      <th>142</th>\n",
       "      <td>- Me encanta. - Había jugadores de fútbol mirando.</td>\n",
       "      <td>me encanta  había jugadores de fútbol mirando</td>\n",
       "      <td>encanta   jugadores fútbol mirando</td>\n",
       "    </tr>\n",
       "  </tbody>\n",
       "</table>\n",
       "</div>"
      ],
      "text/plain": [
       "                                                           subtitulo  \\\n",
       "318                                                 Jerry. Ay, Dios.   \n",
       "872                                 Esto es una relación de trabajo.   \n",
       "990                                   ¿Soy por eso una mala persona?   \n",
       "1047  Lo que vamos a hacer es esto. Rechazar ese contrato de mierda.   \n",
       "1317            Los Cardinals se niegan a aceptar la calma chicha...   \n",
       "133                                                       Me dijo...   \n",
       "78                                                      No, eso era.   \n",
       "1412                         ...y es muy difícil cambiar a la gente.   \n",
       "407                                              Esto es vergonzoso.   \n",
       "142               - Me encanta. - Había jugadores de fútbol mirando.   \n",
       "\n",
       "                                                  subtitulolimpio3  \\\n",
       "318                                                  jerry ay dios   \n",
       "872                                esto es una relación de trabajo   \n",
       "990                                   soy por eso una mala persona   \n",
       "1047  lo que vamos a hacer es esto rechazar ese contrato de mierda   \n",
       "1317             los cardinals se niegan a aceptar la calma chicha   \n",
       "133                                                        me dijo   \n",
       "78                                                      no eso era   \n",
       "1412                           y es muy difícil cambiar a la gente   \n",
       "407                                             esto es vergonzoso   \n",
       "142                  me encanta  había jugadores de fútbol mirando   \n",
       "\n",
       "                     subtituloSinStopwords1  \n",
       "318                           jerry ay dios  \n",
       "872                        relación trabajo  \n",
       "990                            mala persona  \n",
       "1047   vamos hacer rechazar contrato mierda  \n",
       "1317  cardinals niegan aceptar calma chicha  \n",
       "133                                    dijo  \n",
       "78                                           \n",
       "1412                  difícil cambiar gente  \n",
       "407                              vergonzoso  \n",
       "142      encanta   jugadores fútbol mirando  "
      ]
     },
     "execution_count": 104,
     "metadata": {},
     "output_type": "execute_result"
    }
   ],
   "source": [
    "df[['subtitulo', 'subtitulolimpio3','subtituloSinStopwords1']].sample(10)"
   ]
  },
  {
   "cell_type": "code",
   "execution_count": 105,
   "metadata": {},
   "outputs": [],
   "source": [
    "# Eliminar stopwords y lematizar\n",
    "df['subtituloSinSWLematizado1'] = df['subtituloSinStopwords1'].apply(lematizar_texto)"
   ]
  },
  {
   "cell_type": "code",
   "execution_count": 106,
   "metadata": {},
   "outputs": [
    {
     "data": {
      "text/html": [
       "<div>\n",
       "<style scoped>\n",
       "    .dataframe tbody tr th:only-of-type {\n",
       "        vertical-align: middle;\n",
       "    }\n",
       "\n",
       "    .dataframe tbody tr th {\n",
       "        vertical-align: top;\n",
       "    }\n",
       "\n",
       "    .dataframe thead th {\n",
       "        text-align: right;\n",
       "    }\n",
       "</style>\n",
       "<table border=\"1\" class=\"dataframe\">\n",
       "  <thead>\n",
       "    <tr style=\"text-align: right;\">\n",
       "      <th></th>\n",
       "      <th>subtitulo</th>\n",
       "      <th>subtitulolimpio3</th>\n",
       "      <th>subtituloSinStopwords1</th>\n",
       "      <th>subtituloSinSWLematizado1</th>\n",
       "    </tr>\n",
       "  </thead>\n",
       "  <tbody>\n",
       "    <tr>\n",
       "      <th>385</th>\n",
       "      <td>...¡volverme loco!</td>\n",
       "      <td>volverme loco</td>\n",
       "      <td>volverme loco</td>\n",
       "      <td>volver yo loco</td>\n",
       "    </tr>\n",
       "    <tr>\n",
       "      <th>1442</th>\n",
       "      <td>Tú...</td>\n",
       "      <td>tú</td>\n",
       "      <td></td>\n",
       "      <td></td>\n",
       "    </tr>\n",
       "    <tr>\n",
       "      <th>534</th>\n",
       "      <td>Chevy no me quiere, Pepsi no me quiere.</td>\n",
       "      <td>chevy no me quiere pepsi no me quiere</td>\n",
       "      <td>chevy quiere pepsi quiere</td>\n",
       "      <td>chevy querer pepsi querer</td>\n",
       "    </tr>\n",
       "    <tr>\n",
       "      <th>67</th>\n",
       "      <td>¿Cierto?</td>\n",
       "      <td>cierto</td>\n",
       "      <td>cierto</td>\n",
       "      <td>cierto</td>\n",
       "    </tr>\n",
       "    <tr>\n",
       "      <th>487</th>\n",
       "      <td>He recuperado a Cush. Ya está.</td>\n",
       "      <td>he recuperado a cush ya está</td>\n",
       "      <td>recuperado cush</td>\n",
       "      <td>recuperado cush</td>\n",
       "    </tr>\n",
       "    <tr>\n",
       "      <th>761</th>\n",
       "      <td>No te preocupes por el futuro.</td>\n",
       "      <td>no te preocupes por el futuro</td>\n",
       "      <td>preocupes futuro</td>\n",
       "      <td>preocup futuro</td>\n",
       "    </tr>\n",
       "    <tr>\n",
       "      <th>666</th>\n",
       "      <td>Dios mío.</td>\n",
       "      <td>dios mío</td>\n",
       "      <td>dios</td>\n",
       "      <td>dio</td>\n",
       "    </tr>\n",
       "    <tr>\n",
       "      <th>1118</th>\n",
       "      <td>¿Qué pasa si nos quedamos juntos? ¿Qué pasa si nos casamos?</td>\n",
       "      <td>qué pasa si nos quedamos juntos qué pasa si nos casamos</td>\n",
       "      <td>pasa si quedamos juntos pasa si casamos</td>\n",
       "      <td>pasar si quedar junto pasar si casamos</td>\n",
       "    </tr>\n",
       "    <tr>\n",
       "      <th>1246</th>\n",
       "      <td>Te llamo mañana.</td>\n",
       "      <td>te llamo mañana</td>\n",
       "      <td>llamo mañana</td>\n",
       "      <td>llamar mañana</td>\n",
       "    </tr>\n",
       "    <tr>\n",
       "      <th>958</th>\n",
       "      <td>Por favor, sí.</td>\n",
       "      <td>por favor sí</td>\n",
       "      <td>favor</td>\n",
       "      <td>favor</td>\n",
       "    </tr>\n",
       "  </tbody>\n",
       "</table>\n",
       "</div>"
      ],
      "text/plain": [
       "                                                        subtitulo  \\\n",
       "385                                            ...¡volverme loco!   \n",
       "1442                                                        Tú...   \n",
       "534                       Chevy no me quiere, Pepsi no me quiere.   \n",
       "67                                                       ¿Cierto?   \n",
       "487                                He recuperado a Cush. Ya está.   \n",
       "761                                No te preocupes por el futuro.   \n",
       "666                                                     Dios mío.   \n",
       "1118  ¿Qué pasa si nos quedamos juntos? ¿Qué pasa si nos casamos?   \n",
       "1246                                             Te llamo mañana.   \n",
       "958                                                Por favor, sí.   \n",
       "\n",
       "                                             subtitulolimpio3  \\\n",
       "385                                             volverme loco   \n",
       "1442                                                       tú   \n",
       "534                     chevy no me quiere pepsi no me quiere   \n",
       "67                                                     cierto   \n",
       "487                              he recuperado a cush ya está   \n",
       "761                             no te preocupes por el futuro   \n",
       "666                                                  dios mío   \n",
       "1118  qué pasa si nos quedamos juntos qué pasa si nos casamos   \n",
       "1246                                          te llamo mañana   \n",
       "958                                              por favor sí   \n",
       "\n",
       "                       subtituloSinStopwords1  \\\n",
       "385                             volverme loco   \n",
       "1442                                            \n",
       "534                 chevy quiere pepsi quiere   \n",
       "67                                     cierto   \n",
       "487                           recuperado cush   \n",
       "761                          preocupes futuro   \n",
       "666                                      dios   \n",
       "1118  pasa si quedamos juntos pasa si casamos   \n",
       "1246                             llamo mañana   \n",
       "958                                     favor   \n",
       "\n",
       "                   subtituloSinSWLematizado1  \n",
       "385                           volver yo loco  \n",
       "1442                                          \n",
       "534                chevy querer pepsi querer  \n",
       "67                                    cierto  \n",
       "487                          recuperado cush  \n",
       "761                           preocup futuro  \n",
       "666                                      dio  \n",
       "1118  pasar si quedar junto pasar si casamos  \n",
       "1246                           llamar mañana  \n",
       "958                                    favor  "
      ]
     },
     "execution_count": 106,
     "metadata": {},
     "output_type": "execute_result"
    }
   ],
   "source": [
    "df[['subtitulo', 'subtitulolimpio3','subtituloSinStopwords1','subtituloSinSWLematizado1']].sample(10)"
   ]
  },
  {
   "cell_type": "markdown",
   "metadata": {},
   "source": [
    "---"
   ]
  },
  {
   "cell_type": "code",
   "execution_count": 107,
   "metadata": {},
   "outputs": [],
   "source": [
    "from sklearn.feature_extraction.text import TfidfVectorizer\n",
    "import pandas as pd\n",
    "\n",
    "# Inicializar el vectorizador TF-IDF\n",
    "tfidf = TfidfVectorizer(stop_words=stop_words_es, max_features=500)\n",
    "\n",
    "# Generar la matriz TF-IDF\n",
    "tfidf_matrix = tfidf.fit_transform(df['subtitulolimpio3'])"
   ]
  },
  {
   "cell_type": "code",
   "execution_count": 108,
   "metadata": {},
   "outputs": [],
   "source": [
    "# Convertir la matriz en un DataFrame para inspección\n",
    "tfidf_df = pd.DataFrame(tfidf_matrix.toarray(), columns=tfidf.get_feature_names_out())"
   ]
  },
  {
   "cell_type": "code",
   "execution_count": 109,
   "metadata": {},
   "outputs": [
    {
     "data": {
      "text/html": [
       "<div>\n",
       "<style scoped>\n",
       "    .dataframe tbody tr th:only-of-type {\n",
       "        vertical-align: middle;\n",
       "    }\n",
       "\n",
       "    .dataframe tbody tr th {\n",
       "        vertical-align: top;\n",
       "    }\n",
       "\n",
       "    .dataframe thead th {\n",
       "        text-align: right;\n",
       "    }\n",
       "</style>\n",
       "<table border=\"1\" class=\"dataframe\">\n",
       "  <thead>\n",
       "    <tr style=\"text-align: right;\">\n",
       "      <th></th>\n",
       "      <th>100</th>\n",
       "      <th>110</th>\n",
       "      <th>14</th>\n",
       "      <th>16</th>\n",
       "      <th>17</th>\n",
       "      <th>18</th>\n",
       "      <th>20</th>\n",
       "      <th>24</th>\n",
       "      <th>26</th>\n",
       "      <th>72</th>\n",
       "      <th>...</th>\n",
       "      <th>zapatos</th>\n",
       "      <th>zoo</th>\n",
       "      <th>zumo</th>\n",
       "      <th>ésa</th>\n",
       "      <th>ésta</th>\n",
       "      <th>éste</th>\n",
       "      <th>éxito</th>\n",
       "      <th>ólo</th>\n",
       "      <th>últimamente</th>\n",
       "      <th>único</th>\n",
       "    </tr>\n",
       "  </thead>\n",
       "  <tbody>\n",
       "    <tr>\n",
       "      <th>496</th>\n",
       "      <td>0.0</td>\n",
       "      <td>0.0</td>\n",
       "      <td>0.0</td>\n",
       "      <td>0.0</td>\n",
       "      <td>0.0</td>\n",
       "      <td>0.0</td>\n",
       "      <td>0.0</td>\n",
       "      <td>0.0</td>\n",
       "      <td>0.0</td>\n",
       "      <td>0.0</td>\n",
       "      <td>...</td>\n",
       "      <td>0.0</td>\n",
       "      <td>0.0</td>\n",
       "      <td>0.0</td>\n",
       "      <td>0.0</td>\n",
       "      <td>0.0</td>\n",
       "      <td>0.0</td>\n",
       "      <td>0.0</td>\n",
       "      <td>0.0</td>\n",
       "      <td>0.0</td>\n",
       "      <td>0.0</td>\n",
       "    </tr>\n",
       "    <tr>\n",
       "      <th>1032</th>\n",
       "      <td>0.0</td>\n",
       "      <td>0.0</td>\n",
       "      <td>0.0</td>\n",
       "      <td>0.0</td>\n",
       "      <td>0.0</td>\n",
       "      <td>0.0</td>\n",
       "      <td>0.0</td>\n",
       "      <td>0.0</td>\n",
       "      <td>0.0</td>\n",
       "      <td>0.0</td>\n",
       "      <td>...</td>\n",
       "      <td>0.0</td>\n",
       "      <td>0.0</td>\n",
       "      <td>0.0</td>\n",
       "      <td>0.0</td>\n",
       "      <td>0.0</td>\n",
       "      <td>0.0</td>\n",
       "      <td>0.0</td>\n",
       "      <td>0.0</td>\n",
       "      <td>0.0</td>\n",
       "      <td>0.0</td>\n",
       "    </tr>\n",
       "    <tr>\n",
       "      <th>1210</th>\n",
       "      <td>0.0</td>\n",
       "      <td>0.0</td>\n",
       "      <td>0.0</td>\n",
       "      <td>0.0</td>\n",
       "      <td>0.0</td>\n",
       "      <td>0.0</td>\n",
       "      <td>0.0</td>\n",
       "      <td>0.0</td>\n",
       "      <td>0.0</td>\n",
       "      <td>0.0</td>\n",
       "      <td>...</td>\n",
       "      <td>0.0</td>\n",
       "      <td>0.0</td>\n",
       "      <td>0.0</td>\n",
       "      <td>0.0</td>\n",
       "      <td>0.0</td>\n",
       "      <td>0.0</td>\n",
       "      <td>0.0</td>\n",
       "      <td>0.0</td>\n",
       "      <td>0.0</td>\n",
       "      <td>0.0</td>\n",
       "    </tr>\n",
       "    <tr>\n",
       "      <th>569</th>\n",
       "      <td>0.0</td>\n",
       "      <td>0.0</td>\n",
       "      <td>0.0</td>\n",
       "      <td>0.0</td>\n",
       "      <td>0.0</td>\n",
       "      <td>0.0</td>\n",
       "      <td>0.0</td>\n",
       "      <td>0.0</td>\n",
       "      <td>0.0</td>\n",
       "      <td>0.0</td>\n",
       "      <td>...</td>\n",
       "      <td>0.0</td>\n",
       "      <td>0.0</td>\n",
       "      <td>0.0</td>\n",
       "      <td>0.0</td>\n",
       "      <td>0.0</td>\n",
       "      <td>0.0</td>\n",
       "      <td>0.0</td>\n",
       "      <td>0.0</td>\n",
       "      <td>0.0</td>\n",
       "      <td>0.0</td>\n",
       "    </tr>\n",
       "    <tr>\n",
       "      <th>1107</th>\n",
       "      <td>0.0</td>\n",
       "      <td>0.0</td>\n",
       "      <td>0.0</td>\n",
       "      <td>0.0</td>\n",
       "      <td>0.0</td>\n",
       "      <td>0.0</td>\n",
       "      <td>0.0</td>\n",
       "      <td>0.0</td>\n",
       "      <td>0.0</td>\n",
       "      <td>0.0</td>\n",
       "      <td>...</td>\n",
       "      <td>0.0</td>\n",
       "      <td>0.0</td>\n",
       "      <td>0.0</td>\n",
       "      <td>0.0</td>\n",
       "      <td>0.0</td>\n",
       "      <td>0.0</td>\n",
       "      <td>0.0</td>\n",
       "      <td>0.0</td>\n",
       "      <td>0.0</td>\n",
       "      <td>0.0</td>\n",
       "    </tr>\n",
       "  </tbody>\n",
       "</table>\n",
       "<p>5 rows × 500 columns</p>\n",
       "</div>"
      ],
      "text/plain": [
       "      100  110   14   16   17   18   20   24   26   72  ...  zapatos  zoo  \\\n",
       "496   0.0  0.0  0.0  0.0  0.0  0.0  0.0  0.0  0.0  0.0  ...      0.0  0.0   \n",
       "1032  0.0  0.0  0.0  0.0  0.0  0.0  0.0  0.0  0.0  0.0  ...      0.0  0.0   \n",
       "1210  0.0  0.0  0.0  0.0  0.0  0.0  0.0  0.0  0.0  0.0  ...      0.0  0.0   \n",
       "569   0.0  0.0  0.0  0.0  0.0  0.0  0.0  0.0  0.0  0.0  ...      0.0  0.0   \n",
       "1107  0.0  0.0  0.0  0.0  0.0  0.0  0.0  0.0  0.0  0.0  ...      0.0  0.0   \n",
       "\n",
       "      zumo  ésa  ésta  éste  éxito  ólo  últimamente  único  \n",
       "496    0.0  0.0   0.0   0.0    0.0  0.0          0.0    0.0  \n",
       "1032   0.0  0.0   0.0   0.0    0.0  0.0          0.0    0.0  \n",
       "1210   0.0  0.0   0.0   0.0    0.0  0.0          0.0    0.0  \n",
       "569    0.0  0.0   0.0   0.0    0.0  0.0          0.0    0.0  \n",
       "1107   0.0  0.0   0.0   0.0    0.0  0.0          0.0    0.0  \n",
       "\n",
       "[5 rows x 500 columns]"
      ]
     },
     "execution_count": 109,
     "metadata": {},
     "output_type": "execute_result"
    }
   ],
   "source": [
    "# Mostrar las primeras filas del DataFrame resultante\n",
    "tfidf_df.sample(5)"
   ]
  },
  {
   "cell_type": "code",
   "execution_count": 110,
   "metadata": {},
   "outputs": [
    {
     "name": "stdout",
     "output_type": "stream",
     "text": [
      "Palabras más relevantes:\n",
      "jerry      0.021226\n",
      "bien       0.019276\n",
      "quiero     0.018839\n",
      "gracias    0.014444\n",
      "hola       0.011665\n",
      "quieres    0.011499\n",
      "si         0.011457\n",
      "rod        0.011077\n",
      "vamos      0.010827\n",
      "voy        0.010753\n",
      "dtype: float64\n"
     ]
    }
   ],
   "source": [
    "# Calcular los puntajes promedio de cada palabra en todas las filas\n",
    "tfidf_scores = tfidf_df.mean().sort_values(ascending=False)\n",
    "\n",
    "# Mostrar las 10 palabras más relevantes según TF-IDF\n",
    "print(\"Palabras más relevantes:\")\n",
    "print(tfidf_scores.head(10))"
   ]
  },
  {
   "cell_type": "code",
   "execution_count": 111,
   "metadata": {},
   "outputs": [
    {
     "data": {
      "text/html": [
       "<div>\n",
       "<style scoped>\n",
       "    .dataframe tbody tr th:only-of-type {\n",
       "        vertical-align: middle;\n",
       "    }\n",
       "\n",
       "    .dataframe tbody tr th {\n",
       "        vertical-align: top;\n",
       "    }\n",
       "\n",
       "    .dataframe thead th {\n",
       "        text-align: right;\n",
       "    }\n",
       "</style>\n",
       "<table border=\"1\" class=\"dataframe\">\n",
       "  <thead>\n",
       "    <tr style=\"text-align: right;\">\n",
       "      <th></th>\n",
       "      <th>subtitulo</th>\n",
       "      <th>sentimientoVader</th>\n",
       "      <th>tfidf_sum</th>\n",
       "    </tr>\n",
       "  </thead>\n",
       "  <tbody>\n",
       "    <tr>\n",
       "      <th>1473</th>\n",
       "      <td>- ¿Te gustó el zoo, chaval? - Ha sido genial.</td>\n",
       "      <td>0.6369</td>\n",
       "      <td>1.996664</td>\n",
       "    </tr>\n",
       "    <tr>\n",
       "      <th>823</th>\n",
       "      <td>Es amor, respeto, clase y dinero. El paquete completo.</td>\n",
       "      <td>0.6124</td>\n",
       "      <td>1.723515</td>\n",
       "    </tr>\n",
       "    <tr>\n",
       "      <th>1463</th>\n",
       "      <td>- Sólo tenemos media hora. - Con amor a mi línea ofensiva.</td>\n",
       "      <td>0.6124</td>\n",
       "      <td>1.991616</td>\n",
       "    </tr>\n",
       "    <tr>\n",
       "      <th>65</th>\n",
       "      <td>...Guerreros VR Super Trooper.</td>\n",
       "      <td>0.5994</td>\n",
       "      <td>1.000000</td>\n",
       "    </tr>\n",
       "    <tr>\n",
       "      <th>1307</th>\n",
       "      <td>Vamos a un Super Bowl consecutivo.</td>\n",
       "      <td>0.5994</td>\n",
       "      <td>1.716103</td>\n",
       "    </tr>\n",
       "    <tr>\n",
       "      <th>40</th>\n",
       "      <td>...emitido durante la Super Bowl que estés ganando.</td>\n",
       "      <td>0.5994</td>\n",
       "      <td>1.413570</td>\n",
       "    </tr>\n",
       "    <tr>\n",
       "      <th>1465</th>\n",
       "      <td>- ¿Recuerdas a Troy del Super Bowl? - Sí, nos conocimos en el 93.</td>\n",
       "      <td>0.5994</td>\n",
       "      <td>1.998717</td>\n",
       "    </tr>\n",
       "    <tr>\n",
       "      <th>25</th>\n",
       "      <td>- Tenemos que ganar Super Bowls. - Mis respetos.</td>\n",
       "      <td>0.5994</td>\n",
       "      <td>1.000000</td>\n",
       "    </tr>\n",
       "    <tr>\n",
       "      <th>1346</th>\n",
       "      <td>- Ha podido controlar la pelota. - Se ha hecho daño.</td>\n",
       "      <td>0.5859</td>\n",
       "      <td>1.995310</td>\n",
       "    </tr>\n",
       "    <tr>\n",
       "      <th>217</th>\n",
       "      <td>Sé lo de la fiesta.</td>\n",
       "      <td>0.4767</td>\n",
       "      <td>1.403394</td>\n",
       "    </tr>\n",
       "  </tbody>\n",
       "</table>\n",
       "</div>"
      ],
      "text/plain": [
       "                                                              subtitulo  \\\n",
       "1473                      - ¿Te gustó el zoo, chaval? - Ha sido genial.   \n",
       "823              Es amor, respeto, clase y dinero. El paquete completo.   \n",
       "1463         - Sólo tenemos media hora. - Con amor a mi línea ofensiva.   \n",
       "65                                       ...Guerreros VR Super Trooper.   \n",
       "1307                                 Vamos a un Super Bowl consecutivo.   \n",
       "40                  ...emitido durante la Super Bowl que estés ganando.   \n",
       "1465  - ¿Recuerdas a Troy del Super Bowl? - Sí, nos conocimos en el 93.   \n",
       "25                     - Tenemos que ganar Super Bowls. - Mis respetos.   \n",
       "1346               - Ha podido controlar la pelota. - Se ha hecho daño.   \n",
       "217                                                 Sé lo de la fiesta.   \n",
       "\n",
       "      sentimientoVader  tfidf_sum  \n",
       "1473            0.6369   1.996664  \n",
       "823             0.6124   1.723515  \n",
       "1463            0.6124   1.991616  \n",
       "65              0.5994   1.000000  \n",
       "1307            0.5994   1.716103  \n",
       "40              0.5994   1.413570  \n",
       "1465            0.5994   1.998717  \n",
       "25              0.5994   1.000000  \n",
       "1346            0.5859   1.995310  \n",
       "217             0.4767   1.403394  "
      ]
     },
     "execution_count": 111,
     "metadata": {},
     "output_type": "execute_result"
    }
   ],
   "source": [
    "# Agregar la suma de TF-IDF de cada subtítulo como una métrica adicional\n",
    "df['tfidf_sum'] = tfidf_df.sum(axis=1)\n",
    "\n",
    "# Combinar con sentimiento\n",
    "df[['subtitulo', 'sentimientoVader', 'tfidf_sum']].sort_values('sentimientoVader', ascending=False).head(10)"
   ]
  },
  {
   "cell_type": "markdown",
   "metadata": {},
   "source": [
    "Veamos la frecuencia con que aparecen los subtítulos según su 'tfidf_sum', que es la suma de TF-IDF para el subtítulo evaluado."
   ]
  },
  {
   "cell_type": "code",
   "execution_count": 112,
   "metadata": {},
   "outputs": [
    {
     "data": {
      "image/png": "[encoded data removed]",
      "text/plain": [
       "<Figure size 640x480 with 1 Axes>"
      ]
     },
     "metadata": {},
     "output_type": "display_data"
    }
   ],
   "source": [
    "import matplotlib.pyplot as plt\n",
    "\n",
    "plt.hist(df['tfidf_sum'], bins=20, color='blue', alpha=0.7)\n",
    "plt.title('Distribución de la suma de TF-IDF por subtítulo')\n",
    "plt.xlabel('Suma de TF-IDF')\n",
    "plt.ylabel('Frecuencia')\n",
    "\n",
    "plt.show()"
   ]
  },
  {
   "cell_type": "markdown",
   "metadata": {},
   "source": [
    "Podemos separar subtítulos en rangos de TF-IDF y observar algunos para entender como se plasma esa diferencia en el índice."
   ]
  },
  {
   "cell_type": "code",
   "execution_count": 113,
   "metadata": {},
   "outputs": [],
   "source": [
    "threshold=1.5\n",
    "subtitulos_altos = df[df['tfidf_sum'] > threshold]\n",
    "subtitulos_bajos = df[df['tfidf_sum'] < threshold]"
   ]
  },
  {
   "cell_type": "code",
   "execution_count": 114,
   "metadata": {},
   "outputs": [
    {
     "name": "stdout",
     "output_type": "stream",
     "text": [
      "subtitulos_altos:\n"
     ]
    },
    {
     "data": {
      "text/html": [
       "<div>\n",
       "<style scoped>\n",
       "    .dataframe tbody tr th:only-of-type {\n",
       "        vertical-align: middle;\n",
       "    }\n",
       "\n",
       "    .dataframe tbody tr th {\n",
       "        vertical-align: top;\n",
       "    }\n",
       "\n",
       "    .dataframe thead th {\n",
       "        text-align: right;\n",
       "    }\n",
       "</style>\n",
       "<table border=\"1\" class=\"dataframe\">\n",
       "  <thead>\n",
       "    <tr style=\"text-align: right;\">\n",
       "      <th></th>\n",
       "      <th>subtitulo</th>\n",
       "      <th>tfidf_sum</th>\n",
       "    </tr>\n",
       "  </thead>\n",
       "  <tbody>\n",
       "    <tr>\n",
       "      <th>948</th>\n",
       "      <td>- Déjame arreglarlo. - Buena idea.</td>\n",
       "      <td>1.996037</td>\n",
       "    </tr>\n",
       "    <tr>\n",
       "      <th>482</th>\n",
       "      <td>Mi hijo está aquí con la au pair.</td>\n",
       "      <td>1.985623</td>\n",
       "    </tr>\n",
       "    <tr>\n",
       "      <th>902</th>\n",
       "      <td>Y también tengo chocolate. Energía para toda la noche.</td>\n",
       "      <td>1.724636</td>\n",
       "    </tr>\n",
       "    <tr>\n",
       "      <th>1473</th>\n",
       "      <td>- ¿Te gustó el zoo, chaval? - Ha sido genial.</td>\n",
       "      <td>1.996664</td>\n",
       "    </tr>\n",
       "    <tr>\n",
       "      <th>194</th>\n",
       "      <td>- He bebido demasiado café. - No importa.</td>\n",
       "      <td>1.730646</td>\n",
       "    </tr>\n",
       "  </tbody>\n",
       "</table>\n",
       "</div>"
      ],
      "text/plain": [
       "                                                   subtitulo  tfidf_sum\n",
       "948                       - Déjame arreglarlo. - Buena idea.   1.996037\n",
       "482                        Mi hijo está aquí con la au pair.   1.985623\n",
       "902   Y también tengo chocolate. Energía para toda la noche.   1.724636\n",
       "1473           - ¿Te gustó el zoo, chaval? - Ha sido genial.   1.996664\n",
       "194                - He bebido demasiado café. - No importa.   1.730646"
      ]
     },
     "execution_count": 114,
     "metadata": {},
     "output_type": "execute_result"
    }
   ],
   "source": [
    "print('subtitulos_altos:')\n",
    "subtitulos_altos[['subtitulo','tfidf_sum']].sample(5)"
   ]
  },
  {
   "cell_type": "markdown",
   "metadata": {},
   "source": [
    "Mi interpretación es que un alto TF-IDF resulta para subtítulos con gran valor de contenido impactante. Son como fraces que podemos recordar y asociar a la película."
   ]
  },
  {
   "cell_type": "code",
   "execution_count": 115,
   "metadata": {},
   "outputs": [
    {
     "name": "stdout",
     "output_type": "stream",
     "text": [
      "subtitulos_bajos:\n"
     ]
    },
    {
     "data": {
      "text/html": [
       "<div>\n",
       "<style scoped>\n",
       "    .dataframe tbody tr th:only-of-type {\n",
       "        vertical-align: middle;\n",
       "    }\n",
       "\n",
       "    .dataframe tbody tr th {\n",
       "        vertical-align: top;\n",
       "    }\n",
       "\n",
       "    .dataframe thead th {\n",
       "        text-align: right;\n",
       "    }\n",
       "</style>\n",
       "<table border=\"1\" class=\"dataframe\">\n",
       "  <thead>\n",
       "    <tr style=\"text-align: right;\">\n",
       "      <th></th>\n",
       "      <th>subtitulo</th>\n",
       "      <th>tfidf_sum</th>\n",
       "    </tr>\n",
       "  </thead>\n",
       "  <tbody>\n",
       "    <tr>\n",
       "      <th>362</th>\n",
       "      <td>Allá va.</td>\n",
       "      <td>1.398821</td>\n",
       "    </tr>\n",
       "    <tr>\n",
       "      <th>766</th>\n",
       "      <td>Soy un luchador.</td>\n",
       "      <td>0.000000</td>\n",
       "    </tr>\n",
       "    <tr>\n",
       "      <th>751</th>\n",
       "      <td>- He dicho... - No diré nada.</td>\n",
       "      <td>1.412532</td>\n",
       "    </tr>\n",
       "    <tr>\n",
       "      <th>846</th>\n",
       "      <td>Estoy haciendo todo por ti.</td>\n",
       "      <td>1.000000</td>\n",
       "    </tr>\n",
       "    <tr>\n",
       "      <th>838</th>\n",
       "      <td>¿Era eso?</td>\n",
       "      <td>0.000000</td>\n",
       "    </tr>\n",
       "  </tbody>\n",
       "</table>\n",
       "</div>"
      ],
      "text/plain": [
       "                         subtitulo  tfidf_sum\n",
       "362                       Allá va.   1.398821\n",
       "766               Soy un luchador.   0.000000\n",
       "751  - He dicho... - No diré nada.   1.412532\n",
       "846    Estoy haciendo todo por ti.   1.000000\n",
       "838                      ¿Era eso?   0.000000"
      ]
     },
     "execution_count": 115,
     "metadata": {},
     "output_type": "execute_result"
    }
   ],
   "source": [
    "print('subtitulos_bajos:')\n",
    "subtitulos_bajos[['subtitulo','tfidf_sum']].sample(5)"
   ]
  },
  {
   "cell_type": "markdown",
   "metadata": {},
   "source": [
    "Para un bajo TF-IDF es todo lo contrario, en general son fraces menos impactantes."
   ]
  },
  {
   "cell_type": "markdown",
   "metadata": {},
   "source": [
    "En el siguiente gráfico se representa el eje x coincidente con el gráfico anterior pero en el se plasma la evaluación de sentimientos resultante.\n",
    "De ésta manera se puede tener una visión general de como se distribuye el sentimiento en toda la película."
   ]
  },
  {
   "cell_type": "code",
   "execution_count": 116,
   "metadata": {},
   "outputs": [
    {
     "data": {
      "image/png": "[encoded data removed]",
      "text/plain": [
       "<Figure size 640x480 with 1 Axes>"
      ]
     },
     "metadata": {},
     "output_type": "display_data"
    }
   ],
   "source": [
    "plt.scatter(df['tfidf_sum'], df['sentimientoVader'], alpha=0.5)\n",
    "plt.title('TF-IDF vs Sentimiento')\n",
    "plt.xlabel('Suma de TF-IDF')\n",
    "plt.ylabel('Sentimiento (VADER)')\n",
    "plt.show()"
   ]
  },
  {
   "cell_type": "markdown",
   "metadata": {},
   "source": [
    "### Nube de Palabras"
   ]
  },
  {
   "cell_type": "code",
   "execution_count": 48,
   "metadata": {},
   "outputs": [],
   "source": [
    "X = tfidf.fit_transform(df['subtitulo'])"
   ]
  },
  {
   "cell_type": "code",
   "execution_count": 49,
   "metadata": {},
   "outputs": [
    {
     "data": {
      "image/png": "[encoded data removed]",
      "text/plain": [
       "<Figure size 1000x500 with 1 Axes>"
      ]
     },
     "metadata": {},
     "output_type": "display_data"
    }
   ],
   "source": [
    "from wordcloud import WordCloud\n",
    "import matplotlib.pyplot as plt\n",
    "\n",
    "# Obtener las palabras y sus puntuaciones TF-IDF\n",
    "# Aquí estamos utilizando el atributo `get_feature_names_out()` que te da las palabras,\n",
    "# y el atributo `toarray()` para obtener las puntuaciones de TF-IDF\n",
    "words = tfidf.get_feature_names_out()\n",
    "tfidf_scores = X.sum(axis=0).A1  # Sumar las puntuaciones de cada palabra\n",
    "\n",
    "# Crear un diccionario de palabras con sus correspondientes puntuaciones\n",
    "word_dict = dict(zip(words, tfidf_scores))\n",
    "\n",
    "# Generar la nube de palabras con las palabras y puntuaciones obtenidas\n",
    "#wordcloud = WordCloud(width=800, height=400, background_color='white').generate_from_frequencies(word_dict)\n",
    "# Generar la nube de palabras con algunas opciones de personalización\n",
    "wordcloud = WordCloud(width=800, height=400, background_color='white', max_words=100, colormap='viridis').generate_from_frequencies(word_dict)\n",
    "\n",
    "# Visualizar la nube de palabras\n",
    "plt.figure(figsize=(10, 5))\n",
    "plt.imshow(wordcloud, interpolation='bilinear')\n",
    "plt.axis('off')  # Ocultar los ejes\n",
    "plt.show()"
   ]
  }
 ],
 "metadata": {
  "kernelspec": {
   "display_name": "deep02",
   "language": "python",
   "name": "python3"
  },
  "language_info": {
   "codemirror_mode": {
    "name": "ipython",
    "version": 3
   },
   "file_extension": ".py",
   "mimetype": "text/x-python",
   "name": "python",
   "nbconvert_exporter": "python",
   "pygments_lexer": "ipython3",
   "version": "3.10.16"
  }
 },
 "nbformat": 4,
 "nbformat_minor": 2
}
