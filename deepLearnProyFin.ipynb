{
 "cells": [
  {
   "cell_type": "markdown",
   "metadata": {},
   "source": [
    "# Deep Learning aplicado a un guión de película"
   ]
  },
  {
   "cell_type": "code",
   "execution_count": 1,
   "metadata": {},
   "outputs": [],
   "source": [
    "import pandas as pd"
   ]
  },
  {
   "cell_type": "markdown",
   "metadata": {},
   "source": [
    "## Importación del guión a Df"
   ]
  },
  {
   "cell_type": "code",
   "execution_count": 2,
   "metadata": {},
   "outputs": [],
   "source": [
    "# Leer el archivo CSV\n",
    "df = pd.read_csv(\"subtitulos.csv\", encoding=\"utf-8\")"
   ]
  },
  {
   "cell_type": "code",
   "execution_count": 3,
   "metadata": {},
   "outputs": [
    {
     "data": {
      "text/html": [
       "<div>\n",
       "<style scoped>\n",
       "    .dataframe tbody tr th:only-of-type {\n",
       "        vertical-align: middle;\n",
       "    }\n",
       "\n",
       "    .dataframe tbody tr th {\n",
       "        vertical-align: top;\n",
       "    }\n",
       "\n",
       "    .dataframe thead th {\n",
       "        text-align: right;\n",
       "    }\n",
       "</style>\n",
       "<table border=\"1\" class=\"dataframe\">\n",
       "  <thead>\n",
       "    <tr style=\"text-align: right;\">\n",
       "      <th></th>\n",
       "      <th>inicio</th>\n",
       "      <th>fin</th>\n",
       "      <th>subtitulo</th>\n",
       "    </tr>\n",
       "  </thead>\n",
       "  <tbody>\n",
       "    <tr>\n",
       "      <th>543</th>\n",
       "      <td>00:44:14,486</td>\n",
       "      <td>00:44:16,154</td>\n",
       "      <td>...en tu hombro...</td>\n",
       "    </tr>\n",
       "    <tr>\n",
       "      <th>381</th>\n",
       "      <td>00:28:55,564</td>\n",
       "      <td>00:28:59,860</td>\n",
       "      <td>- ¿Qué vas a hacer Jerry? - ¡Enséñame el dinero!</td>\n",
       "    </tr>\n",
       "    <tr>\n",
       "      <th>79</th>\n",
       "      <td>00:06:09,046</td>\n",
       "      <td>00:06:12,174</td>\n",
       "      <td>Odiaba mi lugar en el mundo.</td>\n",
       "    </tr>\n",
       "    <tr>\n",
       "      <th>550</th>\n",
       "      <td>00:44:37,177</td>\n",
       "      <td>00:44:40,514</td>\n",
       "      <td>...hace que te quiera cielo, ¿sabes?</td>\n",
       "    </tr>\n",
       "    <tr>\n",
       "      <th>145</th>\n",
       "      <td>00:11:57,828</td>\n",
       "      <td>00:12:00,582</td>\n",
       "      <td>\"Diosa de la Escalada...</td>\n",
       "    </tr>\n",
       "  </tbody>\n",
       "</table>\n",
       "</div>"
      ],
      "text/plain": [
       "           inicio           fin  \\\n",
       "543  00:44:14,486  00:44:16,154   \n",
       "381  00:28:55,564  00:28:59,860   \n",
       "79   00:06:09,046  00:06:12,174   \n",
       "550  00:44:37,177  00:44:40,514   \n",
       "145  00:11:57,828  00:12:00,582   \n",
       "\n",
       "                                            subtitulo  \n",
       "543                                ...en tu hombro...  \n",
       "381  - ¿Qué vas a hacer Jerry? - ¡Enséñame el dinero!  \n",
       "79                       Odiaba mi lugar en el mundo.  \n",
       "550              ...hace que te quiera cielo, ¿sabes?  \n",
       "145                          \"Diosa de la Escalada...  "
      ]
     },
     "execution_count": 3,
     "metadata": {},
     "output_type": "execute_result"
    }
   ],
   "source": [
    "# Mostrar todo el contenido en varias filas para cada columna\n",
    "pd.set_option('display.max_colwidth', None)\n",
    "df.sample(5)"
   ]
  },
  {
   "cell_type": "code",
   "execution_count": 4,
   "metadata": {},
   "outputs": [
    {
     "data": {
      "text/plain": [
       "(1486, 3)"
      ]
     },
     "execution_count": 4,
     "metadata": {},
     "output_type": "execute_result"
    }
   ],
   "source": [
    "df.shape"
   ]
  },
  {
   "cell_type": "markdown",
   "metadata": {},
   "source": [
    "## NLP"
   ]
  },
  {
   "cell_type": "code",
   "execution_count": 5,
   "metadata": {},
   "outputs": [],
   "source": [
    "import spacy\n",
    "from spacy.lang.es.stop_words import STOP_WORDS\n",
    "import string"
   ]
  },
  {
   "cell_type": "code",
   "execution_count": 6,
   "metadata": {},
   "outputs": [],
   "source": [
    "# Cargar modelo de español\n",
    "nlp = spacy.load(\"es_core_news_sm\")"
   ]
  },
  {
   "cell_type": "markdown",
   "metadata": {},
   "source": [
    "### Limpieza"
   ]
  },
  {
   "cell_type": "markdown",
   "metadata": {},
   "source": [
    "Genero columna 'subtituloLimpio' en minúsculas y sin puntuación"
   ]
  },
  {
   "cell_type": "code",
   "execution_count": 7,
   "metadata": {},
   "outputs": [],
   "source": [
    "# Función para limpiar el texto: convertir a minúsculas y eliminar puntuación\n",
    "def limpiar_texto1(text):\n",
    "    # Convertir a minúsculas\n",
    "    text = text.lower()\n",
    "    # Eliminar signos de puntuación\n",
    "    text = ''.join([char for char in text if char not in string.punctuation])\n",
    "    return text"
   ]
  },
  {
   "cell_type": "code",
   "execution_count": 8,
   "metadata": {},
   "outputs": [],
   "source": [
    "import re\n",
    "\n",
    "def limpiar_texto2(texto):\n",
    "    # Convertir a minúsculas\n",
    "    texto = texto.lower()\n",
    "    # Eliminar caracteres no deseados pero mantener `?`, `%`\n",
    "    texto = re.sub(r'[^\\w\\s?%¿!¡]', '', texto)\n",
    "    # Eliminar espacios redundantes\n",
    "    texto = re.sub(r'\\s+', ' ', texto).strip()\n",
    "    return texto"
   ]
  },
  {
   "cell_type": "code",
   "execution_count": 9,
   "metadata": {},
   "outputs": [],
   "source": [
    "# Aplicar limpieza al subtítulo\n",
    "df['subtituloLimpio2'] = df['subtitulo'].apply(limpiar_texto2)"
   ]
  },
  {
   "cell_type": "markdown",
   "metadata": {},
   "source": [
    "### Tokenización"
   ]
  },
  {
   "cell_type": "markdown",
   "metadata": {},
   "source": [
    "Tokenizo los subtítulos en una nueva columna 'tokens'."
   ]
  },
  {
   "cell_type": "code",
   "execution_count": 10,
   "metadata": {},
   "outputs": [],
   "source": [
    "# Tokenizar cada subtítulo usando SpaCy\n",
    "df[\"tokens\"] = df[\"subtituloLimpio2\"].apply(lambda text: [token.text for token in nlp(text)])"
   ]
  },
  {
   "cell_type": "code",
   "execution_count": 11,
   "metadata": {},
   "outputs": [],
   "source": [
    "# Limpieza de tokens en blanco\n",
    "df['tokens'] = df['tokens'].apply(lambda x: [token for token in x if token.strip() != \"\"])"
   ]
  },
  {
   "cell_type": "markdown",
   "metadata": {},
   "source": [
    "Comparativa"
   ]
  },
  {
   "cell_type": "code",
   "execution_count": 12,
   "metadata": {},
   "outputs": [
    {
     "data": {
      "text/html": [
       "<div>\n",
       "<style scoped>\n",
       "    .dataframe tbody tr th:only-of-type {\n",
       "        vertical-align: middle;\n",
       "    }\n",
       "\n",
       "    .dataframe tbody tr th {\n",
       "        vertical-align: top;\n",
       "    }\n",
       "\n",
       "    .dataframe thead th {\n",
       "        text-align: right;\n",
       "    }\n",
       "</style>\n",
       "<table border=\"1\" class=\"dataframe\">\n",
       "  <thead>\n",
       "    <tr style=\"text-align: right;\">\n",
       "      <th></th>\n",
       "      <th>subtitulo</th>\n",
       "      <th>subtituloLimpio2</th>\n",
       "      <th>tokens</th>\n",
       "    </tr>\n",
       "  </thead>\n",
       "  <tbody>\n",
       "    <tr>\n",
       "      <th>914</th>\n",
       "      <td>Vámonos.</td>\n",
       "      <td>vámonos</td>\n",
       "      <td>[vámonos]</td>\n",
       "    </tr>\n",
       "    <tr>\n",
       "      <th>1125</th>\n",
       "      <td>Todavía no.</td>\n",
       "      <td>todavía no</td>\n",
       "      <td>[todavía, no]</td>\n",
       "    </tr>\n",
       "    <tr>\n",
       "      <th>1227</th>\n",
       "      <td>Pensaba: \"Espero que no se lesione\".</td>\n",
       "      <td>pensaba espero que no se lesione</td>\n",
       "      <td>[pensaba, espero, que, no, se, lesione]</td>\n",
       "    </tr>\n",
       "    <tr>\n",
       "      <th>339</th>\n",
       "      <td>- Ahora quieres dólares de Arizona. - Exactamente.</td>\n",
       "      <td>ahora quieres dólares de arizona exactamente</td>\n",
       "      <td>[ahora, quieres, dólares, de, arizona, exactamente]</td>\n",
       "    </tr>\n",
       "    <tr>\n",
       "      <th>325</th>\n",
       "      <td>Bob Sugar dice que salgo perdiendo contigo.</td>\n",
       "      <td>bob sugar dice que salgo perdiendo contigo</td>\n",
       "      <td>[bob, sugar, dice, que, salgo, perdiendo, contigo]</td>\n",
       "    </tr>\n",
       "  </tbody>\n",
       "</table>\n",
       "</div>"
      ],
      "text/plain": [
       "                                               subtitulo  \\\n",
       "914                                             Vámonos.   \n",
       "1125                                         Todavía no.   \n",
       "1227                Pensaba: \"Espero que no se lesione\".   \n",
       "339   - Ahora quieres dólares de Arizona. - Exactamente.   \n",
       "325          Bob Sugar dice que salgo perdiendo contigo.   \n",
       "\n",
       "                                  subtituloLimpio2  \\\n",
       "914                                        vámonos   \n",
       "1125                                    todavía no   \n",
       "1227              pensaba espero que no se lesione   \n",
       "339   ahora quieres dólares de arizona exactamente   \n",
       "325     bob sugar dice que salgo perdiendo contigo   \n",
       "\n",
       "                                                   tokens  \n",
       "914                                             [vámonos]  \n",
       "1125                                        [todavía, no]  \n",
       "1227              [pensaba, espero, que, no, se, lesione]  \n",
       "339   [ahora, quieres, dólares, de, arizona, exactamente]  \n",
       "325    [bob, sugar, dice, que, salgo, perdiendo, contigo]  "
      ]
     },
     "execution_count": 12,
     "metadata": {},
     "output_type": "execute_result"
    }
   ],
   "source": [
    "df[[\"subtitulo\",\"subtituloLimpio2\", \"tokens\"]].sample(5)"
   ]
  },
  {
   "cell_type": "markdown",
   "metadata": {},
   "source": [
    "### Sin Stopwords"
   ]
  },
  {
   "cell_type": "markdown",
   "metadata": {},
   "source": [
    "Genero columna 'tokensSinStopwords'"
   ]
  },
  {
   "cell_type": "code",
   "execution_count": 13,
   "metadata": {},
   "outputs": [],
   "source": [
    "# Eliminar stopwords de los tokens\n",
    "df[\"tokensSinStopwords\"] = df[\"tokens\"].apply(lambda tokens: [token for token in tokens if not nlp.vocab[token].is_stop])\n",
    "# df['tokensSinStopwords'] = df['tokens'].apply(lambda tokens: [token for token in tokens if token not in STOP_WORDS])"
   ]
  },
  {
   "cell_type": "code",
   "execution_count": 14,
   "metadata": {},
   "outputs": [
    {
     "data": {
      "text/html": [
       "<div>\n",
       "<style scoped>\n",
       "    .dataframe tbody tr th:only-of-type {\n",
       "        vertical-align: middle;\n",
       "    }\n",
       "\n",
       "    .dataframe tbody tr th {\n",
       "        vertical-align: top;\n",
       "    }\n",
       "\n",
       "    .dataframe thead th {\n",
       "        text-align: right;\n",
       "    }\n",
       "</style>\n",
       "<table border=\"1\" class=\"dataframe\">\n",
       "  <thead>\n",
       "    <tr style=\"text-align: right;\">\n",
       "      <th></th>\n",
       "      <th>subtitulo</th>\n",
       "      <th>tokens</th>\n",
       "      <th>tokensSinStopwords</th>\n",
       "    </tr>\n",
       "  </thead>\n",
       "  <tbody>\n",
       "    <tr>\n",
       "      <th>660</th>\n",
       "      <td>Cualquiera te habría abandonado ya...</td>\n",
       "      <td>[cualquiera, te, habría, abandonado, ya]</td>\n",
       "      <td>[cualquiera, habría, abandonado]</td>\n",
       "    </tr>\n",
       "    <tr>\n",
       "      <th>542</th>\n",
       "      <td>¿Sabes lo que fue fantástico allí abajo? Que descargaras ese chip...</td>\n",
       "      <td>[¿, sabes, lo, que, fue, fantástico, allí, abajo, ?, que, descargaras, ese, chip]</td>\n",
       "      <td>[¿, fantástico, abajo, ?, descargaras, chip]</td>\n",
       "    </tr>\n",
       "    <tr>\n",
       "      <th>1195</th>\n",
       "      <td>- Creo que sí. - De acuerdo.</td>\n",
       "      <td>[creo, que, sí, de, acuerdo]</td>\n",
       "      <td>[]</td>\n",
       "    </tr>\n",
       "    <tr>\n",
       "      <th>391</th>\n",
       "      <td>Estos peces tienen modales.</td>\n",
       "      <td>[estos, peces, tienen, modales]</td>\n",
       "      <td>[peces, modales]</td>\n",
       "    </tr>\n",
       "    <tr>\n",
       "      <th>820</th>\n",
       "      <td>- ¿Quan? ¿Es tu palabra? - Sí, es mi palabra.</td>\n",
       "      <td>[¿, quan, ?, ¿, es, tu, palabra, ?, sí, es, mi, palabra]</td>\n",
       "      <td>[¿, quan, ?, ¿, palabra, ?, palabra]</td>\n",
       "    </tr>\n",
       "  </tbody>\n",
       "</table>\n",
       "</div>"
      ],
      "text/plain": [
       "                                                                 subtitulo  \\\n",
       "660                                  Cualquiera te habría abandonado ya...   \n",
       "542   ¿Sabes lo que fue fantástico allí abajo? Que descargaras ese chip...   \n",
       "1195                                          - Creo que sí. - De acuerdo.   \n",
       "391                                            Estos peces tienen modales.   \n",
       "820                          - ¿Quan? ¿Es tu palabra? - Sí, es mi palabra.   \n",
       "\n",
       "                                                                                 tokens  \\\n",
       "660                                            [cualquiera, te, habría, abandonado, ya]   \n",
       "542   [¿, sabes, lo, que, fue, fantástico, allí, abajo, ?, que, descargaras, ese, chip]   \n",
       "1195                                                       [creo, que, sí, de, acuerdo]   \n",
       "391                                                     [estos, peces, tienen, modales]   \n",
       "820                            [¿, quan, ?, ¿, es, tu, palabra, ?, sí, es, mi, palabra]   \n",
       "\n",
       "                                tokensSinStopwords  \n",
       "660               [cualquiera, habría, abandonado]  \n",
       "542   [¿, fantástico, abajo, ?, descargaras, chip]  \n",
       "1195                                            []  \n",
       "391                               [peces, modales]  \n",
       "820           [¿, quan, ?, ¿, palabra, ?, palabra]  "
      ]
     },
     "execution_count": 14,
     "metadata": {},
     "output_type": "execute_result"
    }
   ],
   "source": [
    "df[[\"subtitulo\", \"tokens\",\"tokensSinStopwords\"]].sample(5)"
   ]
  },
  {
   "cell_type": "markdown",
   "metadata": {},
   "source": [
    "### Lematización"
   ]
  },
  {
   "cell_type": "markdown",
   "metadata": {},
   "source": [
    "Aplico lematización para generar una nueva columna: tokensLematizados"
   ]
  },
  {
   "cell_type": "code",
   "execution_count": 15,
   "metadata": {},
   "outputs": [],
   "source": [
    "# Lematizar los tokens sin stopwords\n",
    "df[\"tokensLematizados\"] = df[\"tokensSinStopwords\"].apply(lambda tokens: [nlp(token)[0].lemma_ for token in tokens])"
   ]
  },
  {
   "cell_type": "code",
   "execution_count": 16,
   "metadata": {},
   "outputs": [
    {
     "data": {
      "text/html": [
       "<div>\n",
       "<style scoped>\n",
       "    .dataframe tbody tr th:only-of-type {\n",
       "        vertical-align: middle;\n",
       "    }\n",
       "\n",
       "    .dataframe tbody tr th {\n",
       "        vertical-align: top;\n",
       "    }\n",
       "\n",
       "    .dataframe thead th {\n",
       "        text-align: right;\n",
       "    }\n",
       "</style>\n",
       "<table border=\"1\" class=\"dataframe\">\n",
       "  <thead>\n",
       "    <tr style=\"text-align: right;\">\n",
       "      <th></th>\n",
       "      <th>subtitulo</th>\n",
       "      <th>tokens</th>\n",
       "      <th>tokensSinStopwords</th>\n",
       "      <th>tokensLematizados</th>\n",
       "    </tr>\n",
       "  </thead>\n",
       "  <tbody>\n",
       "    <tr>\n",
       "      <th>346</th>\n",
       "      <td>Se supone que soy una estrella.</td>\n",
       "      <td>[se, supone, que, soy, una, estrella]</td>\n",
       "      <td>[supone, estrella]</td>\n",
       "      <td>[suponer, estrella]</td>\n",
       "    </tr>\n",
       "    <tr>\n",
       "      <th>834</th>\n",
       "      <td>- Me dices que les baile el son. - No.</td>\n",
       "      <td>[me, dices, que, les, baile, el, son, no]</td>\n",
       "      <td>[dices, baile]</td>\n",
       "      <td>[diz, baile]</td>\n",
       "    </tr>\n",
       "    <tr>\n",
       "      <th>1115</th>\n",
       "      <td>Eres mejor que los Bob Sugars. No olvides eso.</td>\n",
       "      <td>[eres, mejor, que, los, bob, sugars, no, olvides, eso]</td>\n",
       "      <td>[bob, sugars, olvides]</td>\n",
       "      <td>[bob, sugars, olvid]</td>\n",
       "    </tr>\n",
       "    <tr>\n",
       "      <th>1117</th>\n",
       "      <td>- Podemos ahorrarnos el seguro. - No le escuches, Dorothy.</td>\n",
       "      <td>[podemos, ahorrarnos, el, seguro, no, le, escuches, dorothy]</td>\n",
       "      <td>[ahorrarnos, seguro, escuches, dorothy]</td>\n",
       "      <td>[ahorrarno, seguro, escuch, dorothy]</td>\n",
       "    </tr>\n",
       "    <tr>\n",
       "      <th>427</th>\n",
       "      <td>Vamos a ser grandes.</td>\n",
       "      <td>[vamos, a, ser, grandes]</td>\n",
       "      <td>[]</td>\n",
       "      <td>[]</td>\n",
       "    </tr>\n",
       "  </tbody>\n",
       "</table>\n",
       "</div>"
      ],
      "text/plain": [
       "                                                       subtitulo  \\\n",
       "346                              Se supone que soy una estrella.   \n",
       "834                       - Me dices que les baile el son. - No.   \n",
       "1115              Eres mejor que los Bob Sugars. No olvides eso.   \n",
       "1117  - Podemos ahorrarnos el seguro. - No le escuches, Dorothy.   \n",
       "427                                         Vamos a ser grandes.   \n",
       "\n",
       "                                                            tokens  \\\n",
       "346                          [se, supone, que, soy, una, estrella]   \n",
       "834                      [me, dices, que, les, baile, el, son, no]   \n",
       "1115        [eres, mejor, que, los, bob, sugars, no, olvides, eso]   \n",
       "1117  [podemos, ahorrarnos, el, seguro, no, le, escuches, dorothy]   \n",
       "427                                       [vamos, a, ser, grandes]   \n",
       "\n",
       "                           tokensSinStopwords  \\\n",
       "346                        [supone, estrella]   \n",
       "834                            [dices, baile]   \n",
       "1115                   [bob, sugars, olvides]   \n",
       "1117  [ahorrarnos, seguro, escuches, dorothy]   \n",
       "427                                        []   \n",
       "\n",
       "                         tokensLematizados  \n",
       "346                    [suponer, estrella]  \n",
       "834                           [diz, baile]  \n",
       "1115                  [bob, sugars, olvid]  \n",
       "1117  [ahorrarno, seguro, escuch, dorothy]  \n",
       "427                                     []  "
      ]
     },
     "execution_count": 16,
     "metadata": {},
     "output_type": "execute_result"
    }
   ],
   "source": [
    "df[[\"subtitulo\", \"tokens\",\"tokensSinStopwords\",\"tokensLematizados\"]].sample(5)"
   ]
  },
  {
   "cell_type": "markdown",
   "metadata": {},
   "source": [
    "Se observa un problema con los sustantivos propios como los nombres de ciudades: 'Dallas' termina lematizado como 'dalla' y se debe considerar en algún analisis posterior."
   ]
  },
  {
   "cell_type": "markdown",
   "metadata": {},
   "source": [
    "## Análisis de Sentimiento"
   ]
  },
  {
   "cell_type": "markdown",
   "metadata": {},
   "source": [
    "### TextBlob"
   ]
  },
  {
   "cell_type": "code",
   "execution_count": 17,
   "metadata": {},
   "outputs": [],
   "source": [
    "from textblob import TextBlob\n",
    "\n",
    "# Función para obtener la polaridad del sentimiento\n",
    "def sentimientoTextblob(text):\n",
    "    blob = TextBlob(text)\n",
    "    return blob.sentiment.polarity  # Devuelve el puntaje de polaridad (-1 a 1)"
   ]
  },
  {
   "cell_type": "code",
   "execution_count": 18,
   "metadata": {},
   "outputs": [],
   "source": [
    "# Aplicar el análisis de sentimiento a los subtítulos originales\n",
    "df['sentimiento'] = df['subtitulo'].apply(sentimientoTextblob)"
   ]
  },
  {
   "cell_type": "code",
   "execution_count": 19,
   "metadata": {},
   "outputs": [
    {
     "data": {
      "text/html": [
       "<div>\n",
       "<style scoped>\n",
       "    .dataframe tbody tr th:only-of-type {\n",
       "        vertical-align: middle;\n",
       "    }\n",
       "\n",
       "    .dataframe tbody tr th {\n",
       "        vertical-align: top;\n",
       "    }\n",
       "\n",
       "    .dataframe thead th {\n",
       "        text-align: right;\n",
       "    }\n",
       "</style>\n",
       "<table border=\"1\" class=\"dataframe\">\n",
       "  <thead>\n",
       "    <tr style=\"text-align: right;\">\n",
       "      <th></th>\n",
       "      <th>subtitulo</th>\n",
       "      <th>sentimiento</th>\n",
       "    </tr>\n",
       "  </thead>\n",
       "  <tbody>\n",
       "    <tr>\n",
       "      <th>650</th>\n",
       "      <td>Unas pizzas malas, a dormir y me vino la conciencia.</td>\n",
       "      <td>0.0</td>\n",
       "    </tr>\n",
       "    <tr>\n",
       "      <th>1474</th>\n",
       "      <td>Uno, dos, tres.</td>\n",
       "      <td>0.0</td>\n",
       "    </tr>\n",
       "    <tr>\n",
       "      <th>1484</th>\n",
       "      <td>Pero amo a mi mujer, amo mi vida...</td>\n",
       "      <td>0.0</td>\n",
       "    </tr>\n",
       "    <tr>\n",
       "      <th>782</th>\n",
       "      <td>¿Sabes lo que siento?</td>\n",
       "      <td>0.0</td>\n",
       "    </tr>\n",
       "    <tr>\n",
       "      <th>1328</th>\n",
       "      <td>Se va a matar.</td>\n",
       "      <td>0.0</td>\n",
       "    </tr>\n",
       "  </tbody>\n",
       "</table>\n",
       "</div>"
      ],
      "text/plain": [
       "                                                 subtitulo  sentimiento\n",
       "650   Unas pizzas malas, a dormir y me vino la conciencia.          0.0\n",
       "1474                                       Uno, dos, tres.          0.0\n",
       "1484                   Pero amo a mi mujer, amo mi vida...          0.0\n",
       "782                                  ¿Sabes lo que siento?          0.0\n",
       "1328                                        Se va a matar.          0.0"
      ]
     },
     "execution_count": 19,
     "metadata": {},
     "output_type": "execute_result"
    }
   ],
   "source": [
    "df[[\"subtitulo\", \"sentimiento\"]].sample(5)"
   ]
  },
  {
   "cell_type": "code",
   "execution_count": 20,
   "metadata": {},
   "outputs": [
    {
     "data": {
      "text/html": [
       "<div>\n",
       "<style scoped>\n",
       "    .dataframe tbody tr th:only-of-type {\n",
       "        vertical-align: middle;\n",
       "    }\n",
       "\n",
       "    .dataframe tbody tr th {\n",
       "        vertical-align: top;\n",
       "    }\n",
       "\n",
       "    .dataframe thead th {\n",
       "        text-align: right;\n",
       "    }\n",
       "</style>\n",
       "<table border=\"1\" class=\"dataframe\">\n",
       "  <thead>\n",
       "    <tr style=\"text-align: right;\">\n",
       "      <th></th>\n",
       "      <th>sentimiento</th>\n",
       "    </tr>\n",
       "  </thead>\n",
       "  <tbody>\n",
       "    <tr>\n",
       "      <th>count</th>\n",
       "      <td>1486.000000</td>\n",
       "    </tr>\n",
       "    <tr>\n",
       "      <th>mean</th>\n",
       "      <td>-0.000585</td>\n",
       "    </tr>\n",
       "    <tr>\n",
       "      <th>std</th>\n",
       "      <td>0.055696</td>\n",
       "    </tr>\n",
       "    <tr>\n",
       "      <th>min</th>\n",
       "      <td>-1.000000</td>\n",
       "    </tr>\n",
       "    <tr>\n",
       "      <th>25%</th>\n",
       "      <td>0.000000</td>\n",
       "    </tr>\n",
       "    <tr>\n",
       "      <th>50%</th>\n",
       "      <td>0.000000</td>\n",
       "    </tr>\n",
       "    <tr>\n",
       "      <th>75%</th>\n",
       "      <td>0.000000</td>\n",
       "    </tr>\n",
       "    <tr>\n",
       "      <th>max</th>\n",
       "      <td>0.600000</td>\n",
       "    </tr>\n",
       "  </tbody>\n",
       "</table>\n",
       "</div>"
      ],
      "text/plain": [
       "       sentimiento\n",
       "count  1486.000000\n",
       "mean     -0.000585\n",
       "std       0.055696\n",
       "min      -1.000000\n",
       "25%       0.000000\n",
       "50%       0.000000\n",
       "75%       0.000000\n",
       "max       0.600000"
      ]
     },
     "execution_count": 20,
     "metadata": {},
     "output_type": "execute_result"
    }
   ],
   "source": [
    "df[[\"sentimiento\"]].describe()"
   ]
  },
  {
   "cell_type": "markdown",
   "metadata": {},
   "source": [
    "Me parece demasiado neutral el análisis de sentimiento."
   ]
  },
  {
   "cell_type": "markdown",
   "metadata": {},
   "source": [
    "### Sentimiento TextBlob por Sentence"
   ]
  },
  {
   "cell_type": "code",
   "execution_count": 21,
   "metadata": {},
   "outputs": [
    {
     "name": "stderr",
     "output_type": "stream",
     "text": [
      "[nltk_data] Downloading package punkt_tab to\n",
      "[nltk_data]     C:\\Users\\jorge\\AppData\\Roaming\\nltk_data...\n",
      "[nltk_data]   Package punkt_tab is already up-to-date!\n"
     ]
    },
    {
     "data": {
      "text/plain": [
       "True"
      ]
     },
     "execution_count": 21,
     "metadata": {},
     "output_type": "execute_result"
    }
   ],
   "source": [
    "import nltk\n",
    "nltk.download('punkt_tab')"
   ]
  },
  {
   "cell_type": "markdown",
   "metadata": {},
   "source": [
    "Genero columna 'sentimientoSentence' de cada subtítulo como promedio de la evaluación de cada Oración."
   ]
  },
  {
   "cell_type": "code",
   "execution_count": 22,
   "metadata": {},
   "outputs": [],
   "source": [
    "from textblob import TextBlob\n",
    "\n",
    "def sentimiento_frases(text):\n",
    "    sentences = TextBlob(text).sentences\n",
    "    return sum(sentence.sentiment.polarity for sentence in sentences) / len(sentences)\n",
    "\n",
    "df['sentimientoSentence'] = df['subtitulo'].apply(sentimiento_frases)"
   ]
  },
  {
   "cell_type": "code",
   "execution_count": 23,
   "metadata": {},
   "outputs": [
    {
     "data": {
      "text/html": [
       "<div>\n",
       "<style scoped>\n",
       "    .dataframe tbody tr th:only-of-type {\n",
       "        vertical-align: middle;\n",
       "    }\n",
       "\n",
       "    .dataframe tbody tr th {\n",
       "        vertical-align: top;\n",
       "    }\n",
       "\n",
       "    .dataframe thead th {\n",
       "        text-align: right;\n",
       "    }\n",
       "</style>\n",
       "<table border=\"1\" class=\"dataframe\">\n",
       "  <thead>\n",
       "    <tr style=\"text-align: right;\">\n",
       "      <th></th>\n",
       "      <th>sentimientoSentence</th>\n",
       "      <th>subtitulo</th>\n",
       "    </tr>\n",
       "  </thead>\n",
       "  <tbody>\n",
       "    <tr>\n",
       "      <th>735</th>\n",
       "      <td>0.0</td>\n",
       "      <td>- Me alegro de que me escuches. - Bueno, te quiero.</td>\n",
       "    </tr>\n",
       "    <tr>\n",
       "      <th>1319</th>\n",
       "      <td>0.0</td>\n",
       "      <td>Tranquilo Al. Tranquilo.</td>\n",
       "    </tr>\n",
       "    <tr>\n",
       "      <th>1055</th>\n",
       "      <td>0.0</td>\n",
       "      <td>- Si te lesionas, te hundirás. - No pasará, soy mentalmente fuerte.</td>\n",
       "    </tr>\n",
       "    <tr>\n",
       "      <th>716</th>\n",
       "      <td>0.0</td>\n",
       "      <td>- Mi representante y yo somos uno. - ¿Eres futbolista?</td>\n",
       "    </tr>\n",
       "    <tr>\n",
       "      <th>984</th>\n",
       "      <td>0.0</td>\n",
       "      <td>- Dime sólo una cosa. - No.</td>\n",
       "    </tr>\n",
       "  </tbody>\n",
       "</table>\n",
       "</div>"
      ],
      "text/plain": [
       "      sentimientoSentence  \\\n",
       "735                   0.0   \n",
       "1319                  0.0   \n",
       "1055                  0.0   \n",
       "716                   0.0   \n",
       "984                   0.0   \n",
       "\n",
       "                                                                subtitulo  \n",
       "735                   - Me alegro de que me escuches. - Bueno, te quiero.  \n",
       "1319                                             Tranquilo Al. Tranquilo.  \n",
       "1055  - Si te lesionas, te hundirás. - No pasará, soy mentalmente fuerte.  \n",
       "716                - Mi representante y yo somos uno. - ¿Eres futbolista?  \n",
       "984                                           - Dime sólo una cosa. - No.  "
      ]
     },
     "execution_count": 23,
     "metadata": {},
     "output_type": "execute_result"
    }
   ],
   "source": [
    "pd.set_option('display.max_colwidth', None)\n",
    "\n",
    "df[['sentimientoSentence','subtitulo']].sample(5)"
   ]
  },
  {
   "cell_type": "code",
   "execution_count": 24,
   "metadata": {},
   "outputs": [
    {
     "data": {
      "text/plain": [
       "count    1486.000000\n",
       "mean        0.000177\n",
       "std         0.041927\n",
       "min        -0.700000\n",
       "25%         0.000000\n",
       "50%         0.000000\n",
       "75%         0.000000\n",
       "max         0.600000\n",
       "Name: sentimientoSentence, dtype: float64"
      ]
     },
     "execution_count": 24,
     "metadata": {},
     "output_type": "execute_result"
    }
   ],
   "source": [
    "df['sentimientoSentence'].describe()"
   ]
  },
  {
   "cell_type": "markdown",
   "metadata": {},
   "source": [
    "No mejoró mucho"
   ]
  },
  {
   "cell_type": "markdown",
   "metadata": {},
   "source": [
    "### Análisis de Sentimiento con VADER"
   ]
  },
  {
   "cell_type": "markdown",
   "metadata": {},
   "source": [
    "Buscando otro método que quizás me realice una mejor clasificación de sentimientos es que voy a probar VADER."
   ]
  },
  {
   "cell_type": "code",
   "execution_count": 25,
   "metadata": {},
   "outputs": [
    {
     "name": "stderr",
     "output_type": "stream",
     "text": [
      "[nltk_data] Downloading package vader_lexicon to\n",
      "[nltk_data]     C:\\Users\\jorge\\AppData\\Roaming\\nltk_data...\n",
      "[nltk_data]   Package vader_lexicon is already up-to-date!\n"
     ]
    },
    {
     "data": {
      "text/plain": [
       "True"
      ]
     },
     "execution_count": 25,
     "metadata": {},
     "output_type": "execute_result"
    }
   ],
   "source": [
    "from nltk.sentiment import SentimentIntensityAnalyzer\n",
    "import nltk\n",
    "\n",
    "# Asegúrate de que los datos necesarios estén descargados\n",
    "nltk.download('vader_lexicon')"
   ]
  },
  {
   "cell_type": "code",
   "execution_count": 26,
   "metadata": {},
   "outputs": [],
   "source": [
    "sia = SentimentIntensityAnalyzer()\n",
    "\n",
    "def sentimiento_vader(text):\n",
    "    scores = sia.polarity_scores(text)\n",
    "    return scores['compound']  # Devuelve el puntaje general de sentimiento\n",
    "\n",
    "df['sentimientoVader'] = df['subtitulo'].apply(sentimiento_vader)"
   ]
  },
  {
   "cell_type": "code",
   "execution_count": 27,
   "metadata": {},
   "outputs": [
    {
     "data": {
      "text/html": [
       "<div>\n",
       "<style scoped>\n",
       "    .dataframe tbody tr th:only-of-type {\n",
       "        vertical-align: middle;\n",
       "    }\n",
       "\n",
       "    .dataframe tbody tr th {\n",
       "        vertical-align: top;\n",
       "    }\n",
       "\n",
       "    .dataframe thead th {\n",
       "        text-align: right;\n",
       "    }\n",
       "</style>\n",
       "<table border=\"1\" class=\"dataframe\">\n",
       "  <thead>\n",
       "    <tr style=\"text-align: right;\">\n",
       "      <th></th>\n",
       "      <th>sentimientoVader</th>\n",
       "      <th>subtitulo</th>\n",
       "    </tr>\n",
       "  </thead>\n",
       "  <tbody>\n",
       "    <tr>\n",
       "      <th>1106</th>\n",
       "      <td>-0.6072</td>\n",
       "      <td>- ¿Puedes conducir esta cosa? - ¿Esto? Sin problemas.</td>\n",
       "    </tr>\n",
       "    <tr>\n",
       "      <th>730</th>\n",
       "      <td>0.0000</td>\n",
       "      <td>¿Sí? Gracias.</td>\n",
       "    </tr>\n",
       "    <tr>\n",
       "      <th>1210</th>\n",
       "      <td>0.0000</td>\n",
       "      <td>Soy todo corazón, gilipollas.</td>\n",
       "    </tr>\n",
       "    <tr>\n",
       "      <th>1413</th>\n",
       "      <td>0.0000</td>\n",
       "      <td>Lo siento, estas tontas vacaciones me hacen sentir más divorciada.</td>\n",
       "    </tr>\n",
       "    <tr>\n",
       "      <th>1476</th>\n",
       "      <td>0.0000</td>\n",
       "      <td>Buen lanzamiento, muchacho.</td>\n",
       "    </tr>\n",
       "  </tbody>\n",
       "</table>\n",
       "</div>"
      ],
      "text/plain": [
       "      sentimientoVader  \\\n",
       "1106           -0.6072   \n",
       "730             0.0000   \n",
       "1210            0.0000   \n",
       "1413            0.0000   \n",
       "1476            0.0000   \n",
       "\n",
       "                                                               subtitulo  \n",
       "1106               - ¿Puedes conducir esta cosa? - ¿Esto? Sin problemas.  \n",
       "730                                                        ¿Sí? Gracias.  \n",
       "1210                                       Soy todo corazón, gilipollas.  \n",
       "1413  Lo siento, estas tontas vacaciones me hacen sentir más divorciada.  \n",
       "1476                                         Buen lanzamiento, muchacho.  "
      ]
     },
     "execution_count": 27,
     "metadata": {},
     "output_type": "execute_result"
    }
   ],
   "source": [
    "df[['sentimientoVader', 'subtitulo']].sample(5)"
   ]
  },
  {
   "cell_type": "code",
   "execution_count": 28,
   "metadata": {},
   "outputs": [
    {
     "data": {
      "text/plain": [
       "count    1486.000000\n",
       "mean       -0.036641\n",
       "std         0.159777\n",
       "min        -0.802000\n",
       "25%         0.000000\n",
       "50%         0.000000\n",
       "75%         0.000000\n",
       "max         0.636900\n",
       "Name: sentimientoVader, dtype: float64"
      ]
     },
     "execution_count": 28,
     "metadata": {},
     "output_type": "execute_result"
    }
   ],
   "source": [
    "df['sentimientoVader'].describe()"
   ]
  },
  {
   "cell_type": "markdown",
   "metadata": {},
   "source": [
    "Ahora me parece que tenemos un resultado mejor con VADER."
   ]
  },
  {
   "cell_type": "markdown",
   "metadata": {},
   "source": [
    "#### Top de Positivos y Negativos"
   ]
  },
  {
   "cell_type": "code",
   "execution_count": 29,
   "metadata": {},
   "outputs": [],
   "source": [
    "# Obtener los 10 subtítulos más positivos\n",
    "top_positivos = df.nlargest(10, 'sentimientoVader')[['sentimientoVader', 'subtitulo']]\n",
    "\n",
    "# Obtener los 10 subtítulos más negativos\n",
    "top_negativos = df.nsmallest(10, 'sentimientoVader')[['sentimientoVader', 'subtitulo']]"
   ]
  },
  {
   "cell_type": "code",
   "execution_count": 30,
   "metadata": {},
   "outputs": [
    {
     "name": "stdout",
     "output_type": "stream",
     "text": [
      "Subtítulos más positivos:\n"
     ]
    },
    {
     "data": {
      "text/html": [
       "<div>\n",
       "<style scoped>\n",
       "    .dataframe tbody tr th:only-of-type {\n",
       "        vertical-align: middle;\n",
       "    }\n",
       "\n",
       "    .dataframe tbody tr th {\n",
       "        vertical-align: top;\n",
       "    }\n",
       "\n",
       "    .dataframe thead th {\n",
       "        text-align: right;\n",
       "    }\n",
       "</style>\n",
       "<table border=\"1\" class=\"dataframe\">\n",
       "  <thead>\n",
       "    <tr style=\"text-align: right;\">\n",
       "      <th></th>\n",
       "      <th>sentimientoVader</th>\n",
       "      <th>subtitulo</th>\n",
       "    </tr>\n",
       "  </thead>\n",
       "  <tbody>\n",
       "    <tr>\n",
       "      <th>1473</th>\n",
       "      <td>0.6369</td>\n",
       "      <td>- ¿Te gustó el zoo, chaval? - Ha sido genial.</td>\n",
       "    </tr>\n",
       "    <tr>\n",
       "      <th>823</th>\n",
       "      <td>0.6124</td>\n",
       "      <td>Es amor, respeto, clase y dinero. El paquete completo.</td>\n",
       "    </tr>\n",
       "    <tr>\n",
       "      <th>1463</th>\n",
       "      <td>0.6124</td>\n",
       "      <td>- Sólo tenemos media hora. - Con amor a mi línea ofensiva.</td>\n",
       "    </tr>\n",
       "    <tr>\n",
       "      <th>25</th>\n",
       "      <td>0.5994</td>\n",
       "      <td>- Tenemos que ganar Super Bowls. - Mis respetos.</td>\n",
       "    </tr>\n",
       "    <tr>\n",
       "      <th>40</th>\n",
       "      <td>0.5994</td>\n",
       "      <td>...emitido durante la Super Bowl que estés ganando.</td>\n",
       "    </tr>\n",
       "    <tr>\n",
       "      <th>65</th>\n",
       "      <td>0.5994</td>\n",
       "      <td>...Guerreros VR Super Trooper.</td>\n",
       "    </tr>\n",
       "    <tr>\n",
       "      <th>1307</th>\n",
       "      <td>0.5994</td>\n",
       "      <td>Vamos a un Super Bowl consecutivo.</td>\n",
       "    </tr>\n",
       "    <tr>\n",
       "      <th>1465</th>\n",
       "      <td>0.5994</td>\n",
       "      <td>- ¿Recuerdas a Troy del Super Bowl? - Sí, nos conocimos en el 93.</td>\n",
       "    </tr>\n",
       "    <tr>\n",
       "      <th>1346</th>\n",
       "      <td>0.5859</td>\n",
       "      <td>- Ha podido controlar la pelota. - Se ha hecho daño.</td>\n",
       "    </tr>\n",
       "    <tr>\n",
       "      <th>217</th>\n",
       "      <td>0.4767</td>\n",
       "      <td>Sé lo de la fiesta.</td>\n",
       "    </tr>\n",
       "  </tbody>\n",
       "</table>\n",
       "</div>"
      ],
      "text/plain": [
       "      sentimientoVader  \\\n",
       "1473            0.6369   \n",
       "823             0.6124   \n",
       "1463            0.6124   \n",
       "25              0.5994   \n",
       "40              0.5994   \n",
       "65              0.5994   \n",
       "1307            0.5994   \n",
       "1465            0.5994   \n",
       "1346            0.5859   \n",
       "217             0.4767   \n",
       "\n",
       "                                                              subtitulo  \n",
       "1473                      - ¿Te gustó el zoo, chaval? - Ha sido genial.  \n",
       "823              Es amor, respeto, clase y dinero. El paquete completo.  \n",
       "1463         - Sólo tenemos media hora. - Con amor a mi línea ofensiva.  \n",
       "25                     - Tenemos que ganar Super Bowls. - Mis respetos.  \n",
       "40                  ...emitido durante la Super Bowl que estés ganando.  \n",
       "65                                       ...Guerreros VR Super Trooper.  \n",
       "1307                                 Vamos a un Super Bowl consecutivo.  \n",
       "1465  - ¿Recuerdas a Troy del Super Bowl? - Sí, nos conocimos en el 93.  \n",
       "1346               - Ha podido controlar la pelota. - Se ha hecho daño.  \n",
       "217                                                 Sé lo de la fiesta.  "
      ]
     },
     "execution_count": 30,
     "metadata": {},
     "output_type": "execute_result"
    }
   ],
   "source": [
    "# Mostrar resultados\n",
    "print(\"Subtítulos más positivos:\")\n",
    "top_positivos"
   ]
  },
  {
   "cell_type": "code",
   "execution_count": 31,
   "metadata": {},
   "outputs": [
    {
     "name": "stdout",
     "output_type": "stream",
     "text": [
      "\n",
      "Subtítulos más negativos:\n"
     ]
    },
    {
     "data": {
      "text/html": [
       "<div>\n",
       "<style scoped>\n",
       "    .dataframe tbody tr th:only-of-type {\n",
       "        vertical-align: middle;\n",
       "    }\n",
       "\n",
       "    .dataframe tbody tr th {\n",
       "        vertical-align: top;\n",
       "    }\n",
       "\n",
       "    .dataframe thead th {\n",
       "        text-align: right;\n",
       "    }\n",
       "</style>\n",
       "<table border=\"1\" class=\"dataframe\">\n",
       "  <thead>\n",
       "    <tr style=\"text-align: right;\">\n",
       "      <th></th>\n",
       "      <th>sentimientoVader</th>\n",
       "      <th>subtitulo</th>\n",
       "    </tr>\n",
       "  </thead>\n",
       "  <tbody>\n",
       "    <tr>\n",
       "      <th>974</th>\n",
       "      <td>-0.8020</td>\n",
       "      <td>- Sin barreras, sin fronteras. - Vale Chad, ya lo entiendo.</td>\n",
       "    </tr>\n",
       "    <tr>\n",
       "      <th>843</th>\n",
       "      <td>-0.7906</td>\n",
       "      <td>No bailo y no participo en pretemporadas sin contrato.</td>\n",
       "    </tr>\n",
       "    <tr>\n",
       "      <th>1219</th>\n",
       "      <td>-0.7003</td>\n",
       "      <td>No me gusta ver películas sin ti.</td>\n",
       "    </tr>\n",
       "    <tr>\n",
       "      <th>1365</th>\n",
       "      <td>-0.7003</td>\n",
       "      <td>...y no funciona sin él.</td>\n",
       "    </tr>\n",
       "    <tr>\n",
       "      <th>1040</th>\n",
       "      <td>-0.6808</td>\n",
       "      <td>- Mira. Rod, lee esto. - No, no, no.</td>\n",
       "    </tr>\n",
       "    <tr>\n",
       "      <th>609</th>\n",
       "      <td>-0.6249</td>\n",
       "      <td>Una verdad brutal. ¿Recuerdas?</td>\n",
       "    </tr>\n",
       "    <tr>\n",
       "      <th>1106</th>\n",
       "      <td>-0.6072</td>\n",
       "      <td>- ¿Puedes conducir esta cosa? - ¿Esto? Sin problemas.</td>\n",
       "    </tr>\n",
       "    <tr>\n",
       "      <th>1266</th>\n",
       "      <td>-0.5803</td>\n",
       "      <td>- ¿Por qué no? Me lo merezco. - ¿Y qué pasa si yo no soy así?</td>\n",
       "    </tr>\n",
       "    <tr>\n",
       "      <th>254</th>\n",
       "      <td>-0.5574</td>\n",
       "      <td>- Hola. - Cuánto tiempo sin verte.</td>\n",
       "    </tr>\n",
       "    <tr>\n",
       "      <th>420</th>\n",
       "      <td>-0.5574</td>\n",
       "      <td>Veremos qué tal les va sin nosotros.</td>\n",
       "    </tr>\n",
       "  </tbody>\n",
       "</table>\n",
       "</div>"
      ],
      "text/plain": [
       "      sentimientoVader  \\\n",
       "974            -0.8020   \n",
       "843            -0.7906   \n",
       "1219           -0.7003   \n",
       "1365           -0.7003   \n",
       "1040           -0.6808   \n",
       "609            -0.6249   \n",
       "1106           -0.6072   \n",
       "1266           -0.5803   \n",
       "254            -0.5574   \n",
       "420            -0.5574   \n",
       "\n",
       "                                                          subtitulo  \n",
       "974     - Sin barreras, sin fronteras. - Vale Chad, ya lo entiendo.  \n",
       "843          No bailo y no participo en pretemporadas sin contrato.  \n",
       "1219                              No me gusta ver películas sin ti.  \n",
       "1365                                       ...y no funciona sin él.  \n",
       "1040                           - Mira. Rod, lee esto. - No, no, no.  \n",
       "609                                  Una verdad brutal. ¿Recuerdas?  \n",
       "1106          - ¿Puedes conducir esta cosa? - ¿Esto? Sin problemas.  \n",
       "1266  - ¿Por qué no? Me lo merezco. - ¿Y qué pasa si yo no soy así?  \n",
       "254                              - Hola. - Cuánto tiempo sin verte.  \n",
       "420                            Veremos qué tal les va sin nosotros.  "
      ]
     },
     "execution_count": 31,
     "metadata": {},
     "output_type": "execute_result"
    }
   ],
   "source": [
    "print(\"\\nSubtítulos más negativos:\")\n",
    "top_negativos"
   ]
  },
  {
   "cell_type": "markdown",
   "metadata": {},
   "source": [
    "- Sin barreras, sin fronteras. - Vale Chad, ya lo entiendo\n",
    "  - No creo que sea algo negativo\n",
    "- No me gusta ver películas sin ti.\n",
    "  - Aquí el algoritmo se centra en 'No me gusta' en ves de considerar la frase completa.\n",
    "- Hola. - Cuánto tiempo sin verte.\n",
    "  - Realmente no es negativa"
   ]
  },
  {
   "cell_type": "markdown",
   "metadata": {},
   "source": [
    "### Análisis con TF-IDF vectorizer"
   ]
  },
  {
   "cell_type": "code",
   "execution_count": 32,
   "metadata": {},
   "outputs": [
    {
     "name": "stderr",
     "output_type": "stream",
     "text": [
      "[nltk_data] Downloading package stopwords to\n",
      "[nltk_data]     C:\\Users\\jorge\\AppData\\Roaming\\nltk_data...\n",
      "[nltk_data]   Package stopwords is already up-to-date!\n"
     ]
    }
   ],
   "source": [
    "import nltk\n",
    "nltk.download('stopwords')\n",
    "from nltk.corpus import stopwords\n",
    "\n",
    "# Obtener stopwords en español\n",
    "stop_words_es = stopwords.words('spanish')\n",
    "stop_words = set(stop_words_es)"
   ]
  },
  {
   "cell_type": "code",
   "execution_count": 33,
   "metadata": {},
   "outputs": [
    {
     "data": {
      "text/html": [
       "<div>\n",
       "<style scoped>\n",
       "    .dataframe tbody tr th:only-of-type {\n",
       "        vertical-align: middle;\n",
       "    }\n",
       "\n",
       "    .dataframe tbody tr th {\n",
       "        vertical-align: top;\n",
       "    }\n",
       "\n",
       "    .dataframe thead th {\n",
       "        text-align: right;\n",
       "    }\n",
       "</style>\n",
       "<table border=\"1\" class=\"dataframe\">\n",
       "  <thead>\n",
       "    <tr style=\"text-align: right;\">\n",
       "      <th></th>\n",
       "      <th>subtitulo</th>\n",
       "      <th>subtituloLimpio2</th>\n",
       "      <th>tokens</th>\n",
       "      <th>tokensSinStopwords</th>\n",
       "      <th>tokensLematizados</th>\n",
       "    </tr>\n",
       "  </thead>\n",
       "  <tbody>\n",
       "    <tr>\n",
       "      <th>325</th>\n",
       "      <td>Bob Sugar dice que salgo perdiendo contigo.</td>\n",
       "      <td>bob sugar dice que salgo perdiendo contigo</td>\n",
       "      <td>[bob, sugar, dice, que, salgo, perdiendo, contigo]</td>\n",
       "      <td>[bob, sugar, salgo, perdiendo]</td>\n",
       "      <td>[bob, sugar, salgo, perder]</td>\n",
       "    </tr>\n",
       "    <tr>\n",
       "      <th>256</th>\n",
       "      <td>Jerry, no quiero ningún rollo.</td>\n",
       "      <td>jerry no quiero ningún rollo</td>\n",
       "      <td>[jerry, no, quiero, ningún, rollo]</td>\n",
       "      <td>[jerry, quiero, rollo]</td>\n",
       "      <td>[jerry, querer, rollo]</td>\n",
       "    </tr>\n",
       "    <tr>\n",
       "      <th>794</th>\n",
       "      <td>Porque he vuelto.</td>\n",
       "      <td>porque he vuelto</td>\n",
       "      <td>[porque, he, vuelto]</td>\n",
       "      <td>[vuelto]</td>\n",
       "      <td>[volver]</td>\n",
       "    </tr>\n",
       "    <tr>\n",
       "      <th>332</th>\n",
       "      <td>Mataría por ti.</td>\n",
       "      <td>mataría por ti</td>\n",
       "      <td>[mataría, por, ti]</td>\n",
       "      <td>[mataría]</td>\n",
       "      <td>[matar]</td>\n",
       "    </tr>\n",
       "    <tr>\n",
       "      <th>385</th>\n",
       "      <td>...¡volverme loco!</td>\n",
       "      <td>¡volverme loco!</td>\n",
       "      <td>[¡, volverme, loco, !]</td>\n",
       "      <td>[¡, volverme, loco, !]</td>\n",
       "      <td>[¡, volver yo, loco, !]</td>\n",
       "    </tr>\n",
       "  </tbody>\n",
       "</table>\n",
       "</div>"
      ],
      "text/plain": [
       "                                       subtitulo  \\\n",
       "325  Bob Sugar dice que salgo perdiendo contigo.   \n",
       "256               Jerry, no quiero ningún rollo.   \n",
       "794                            Porque he vuelto.   \n",
       "332                              Mataría por ti.   \n",
       "385                           ...¡volverme loco!   \n",
       "\n",
       "                               subtituloLimpio2  \\\n",
       "325  bob sugar dice que salgo perdiendo contigo   \n",
       "256                jerry no quiero ningún rollo   \n",
       "794                            porque he vuelto   \n",
       "332                              mataría por ti   \n",
       "385                             ¡volverme loco!   \n",
       "\n",
       "                                                 tokens  \\\n",
       "325  [bob, sugar, dice, que, salgo, perdiendo, contigo]   \n",
       "256                  [jerry, no, quiero, ningún, rollo]   \n",
       "794                                [porque, he, vuelto]   \n",
       "332                                  [mataría, por, ti]   \n",
       "385                              [¡, volverme, loco, !]   \n",
       "\n",
       "                 tokensSinStopwords            tokensLematizados  \n",
       "325  [bob, sugar, salgo, perdiendo]  [bob, sugar, salgo, perder]  \n",
       "256          [jerry, quiero, rollo]       [jerry, querer, rollo]  \n",
       "794                        [vuelto]                     [volver]  \n",
       "332                       [mataría]                      [matar]  \n",
       "385          [¡, volverme, loco, !]      [¡, volver yo, loco, !]  "
      ]
     },
     "execution_count": 33,
     "metadata": {},
     "output_type": "execute_result"
    }
   ],
   "source": [
    "df[['subtitulo','subtituloLimpio2','tokens','tokensSinStopwords','tokensLematizados']].sample(5)"
   ]
  },
  {
   "cell_type": "markdown",
   "metadata": {},
   "source": [
    "---"
   ]
  },
  {
   "cell_type": "code",
   "execution_count": 34,
   "metadata": {},
   "outputs": [],
   "source": [
    "def limpiar_texto1(text):\n",
    "    # Convertir a minúsculas\n",
    "    text = text.lower()\n",
    "    # Eliminar signos de puntuación (sin dejar ninguno)\n",
    "    text = re.sub(r'[^\\w\\s]', '', text)\n",
    "    return text\n",
    "\n",
    "def eliminar_stopwords(text):\n",
    "    # Tokenizar usando spaCy\n",
    "    tokens = nlp(text)\n",
    "    # Filtrar stopwords\n",
    "    filtered_tokens = [token.text for token in tokens if token.text not in stop_words]\n",
    "    return \" \".join(filtered_tokens)\n",
    "\n",
    "def lematizar_texto(text):\n",
    "    # Tokenizar y lematizar usando spaCy\n",
    "    tokens = nlp(text)\n",
    "    lematizado = [token.lemma_ for token in tokens]\n",
    "    return \" \".join(lematizado)"
   ]
  },
  {
   "cell_type": "code",
   "execution_count": 37,
   "metadata": {},
   "outputs": [
    {
     "data": {
      "text/html": [
       "<div>\n",
       "<style scoped>\n",
       "    .dataframe tbody tr th:only-of-type {\n",
       "        vertical-align: middle;\n",
       "    }\n",
       "\n",
       "    .dataframe tbody tr th {\n",
       "        vertical-align: top;\n",
       "    }\n",
       "\n",
       "    .dataframe thead th {\n",
       "        text-align: right;\n",
       "    }\n",
       "</style>\n",
       "<table border=\"1\" class=\"dataframe\">\n",
       "  <thead>\n",
       "    <tr style=\"text-align: right;\">\n",
       "      <th></th>\n",
       "      <th>subtitulo</th>\n",
       "      <th>subtitulolimpio1</th>\n",
       "    </tr>\n",
       "  </thead>\n",
       "  <tbody>\n",
       "    <tr>\n",
       "      <th>717</th>\n",
       "      <td>¿Un futbolista? Soy un maestro de cole que te dará una paliza.</td>\n",
       "      <td>un futbolista soy un maestro de cole que te dará una paliza</td>\n",
       "    </tr>\n",
       "    <tr>\n",
       "      <th>554</th>\n",
       "      <td>Si encuentras tu talla, coge unos zapatos de al lado de la puerta.</td>\n",
       "      <td>si encuentras tu talla coge unos zapatos de al lado de la puerta</td>\n",
       "    </tr>\n",
       "    <tr>\n",
       "      <th>935</th>\n",
       "      <td>No es que mi matrimonio con Roger fuera bueno. Incluso antes.</td>\n",
       "      <td>no es que mi matrimonio con roger fuera bueno incluso antes</td>\n",
       "    </tr>\n",
       "    <tr>\n",
       "      <th>1319</th>\n",
       "      <td>Tranquilo Al. Tranquilo.</td>\n",
       "      <td>tranquilo al tranquilo</td>\n",
       "    </tr>\n",
       "    <tr>\n",
       "      <th>526</th>\n",
       "      <td>¿Dónde está Cush?</td>\n",
       "      <td>dónde está cush</td>\n",
       "    </tr>\n",
       "  </tbody>\n",
       "</table>\n",
       "</div>"
      ],
      "text/plain": [
       "                                                               subtitulo  \\\n",
       "717       ¿Un futbolista? Soy un maestro de cole que te dará una paliza.   \n",
       "554   Si encuentras tu talla, coge unos zapatos de al lado de la puerta.   \n",
       "935        No es que mi matrimonio con Roger fuera bueno. Incluso antes.   \n",
       "1319                                            Tranquilo Al. Tranquilo.   \n",
       "526                                                    ¿Dónde está Cush?   \n",
       "\n",
       "                                                      subtitulolimpio1  \n",
       "717        un futbolista soy un maestro de cole que te dará una paliza  \n",
       "554   si encuentras tu talla coge unos zapatos de al lado de la puerta  \n",
       "935        no es que mi matrimonio con roger fuera bueno incluso antes  \n",
       "1319                                            tranquilo al tranquilo  \n",
       "526                                                    dónde está cush  "
      ]
     },
     "execution_count": 37,
     "metadata": {},
     "output_type": "execute_result"
    }
   ],
   "source": [
    "# Crear la columna subtitulolimpio1\n",
    "df['subtitulolimpio1'] = df['subtitulo'].apply(limpiar_texto1)\n",
    "\n",
    "df[['subtitulo', 'subtitulolimpio1']].sample(5)"
   ]
  },
  {
   "cell_type": "code",
   "execution_count": 40,
   "metadata": {},
   "outputs": [
    {
     "data": {
      "text/html": [
       "<div>\n",
       "<style scoped>\n",
       "    .dataframe tbody tr th:only-of-type {\n",
       "        vertical-align: middle;\n",
       "    }\n",
       "\n",
       "    .dataframe tbody tr th {\n",
       "        vertical-align: top;\n",
       "    }\n",
       "\n",
       "    .dataframe thead th {\n",
       "        text-align: right;\n",
       "    }\n",
       "</style>\n",
       "<table border=\"1\" class=\"dataframe\">\n",
       "  <thead>\n",
       "    <tr style=\"text-align: right;\">\n",
       "      <th></th>\n",
       "      <th>subtitulo</th>\n",
       "      <th>subtitulolimpio1</th>\n",
       "      <th>subtituloSinSWLematizado1</th>\n",
       "    </tr>\n",
       "  </thead>\n",
       "  <tbody>\n",
       "    <tr>\n",
       "      <th>1409</th>\n",
       "      <td>Sabes que no me ocurrirá nada.</td>\n",
       "      <td>sabes que no me ocurrirá nada</td>\n",
       "      <td>saber ocurrir</td>\n",
       "    </tr>\n",
       "    <tr>\n",
       "      <th>501</th>\n",
       "      <td>- ¿Ya hemos hablado de todo? - Sí.</td>\n",
       "      <td>ya hemos hablado de todo  sí</td>\n",
       "      <td>hablado</td>\n",
       "    </tr>\n",
       "    <tr>\n",
       "      <th>885</th>\n",
       "      <td>- ¿Quieres salir a cenar? - Conozco un sitio.</td>\n",
       "      <td>quieres salir a cenar  conozco un sitio</td>\n",
       "      <td>querer salir cenar    conocer sitio</td>\n",
       "    </tr>\n",
       "    <tr>\n",
       "      <th>126</th>\n",
       "      <td>Es lo único que tenemos, ¿vale?</td>\n",
       "      <td>es lo único que tenemos vale</td>\n",
       "      <td>único valer</td>\n",
       "    </tr>\n",
       "    <tr>\n",
       "      <th>432</th>\n",
       "      <td>...hemos de escucharnos.</td>\n",
       "      <td>hemos de escucharnos</td>\n",
       "      <td>escucharno</td>\n",
       "    </tr>\n",
       "  </tbody>\n",
       "</table>\n",
       "</div>"
      ],
      "text/plain": [
       "                                          subtitulo  \\\n",
       "1409                 Sabes que no me ocurrirá nada.   \n",
       "501              - ¿Ya hemos hablado de todo? - Sí.   \n",
       "885   - ¿Quieres salir a cenar? - Conozco un sitio.   \n",
       "126                 Es lo único que tenemos, ¿vale?   \n",
       "432                        ...hemos de escucharnos.   \n",
       "\n",
       "                              subtitulolimpio1  \\\n",
       "1409             sabes que no me ocurrirá nada   \n",
       "501               ya hemos hablado de todo  sí   \n",
       "885    quieres salir a cenar  conozco un sitio   \n",
       "126               es lo único que tenemos vale   \n",
       "432                       hemos de escucharnos   \n",
       "\n",
       "                   subtituloSinSWLematizado1  \n",
       "1409                           saber ocurrir  \n",
       "501                                hablado    \n",
       "885      querer salir cenar    conocer sitio  \n",
       "126                              único valer  \n",
       "432                               escucharno  "
      ]
     },
     "execution_count": 40,
     "metadata": {},
     "output_type": "execute_result"
    }
   ],
   "source": [
    "# Eliminar stopwords y lematizar\n",
    "df['subtituloSinSWLematizado1'] = df['subtitulolimpio1'].apply(eliminar_stopwords).apply(lematizar_texto)\n",
    "\n",
    "df[['subtitulo', 'subtitulolimpio1','subtituloSinSWLematizado1']].sample(5)"
   ]
  },
  {
   "cell_type": "markdown",
   "metadata": {},
   "source": [
    "---"
   ]
  },
  {
   "cell_type": "code",
   "execution_count": 41,
   "metadata": {},
   "outputs": [],
   "source": [
    "from sklearn.feature_extraction.text import TfidfVectorizer\n",
    "import pandas as pd\n",
    "\n",
    "# Inicializar el vectorizador TF-IDF\n",
    "tfidf = TfidfVectorizer(stop_words=stop_words_es, max_features=500)\n",
    "\n",
    "# Generar la matriz TF-IDF\n",
    "tfidf_matrix = tfidf.fit_transform(df['subtituloSinSWLematizado1'])"
   ]
  },
  {
   "cell_type": "code",
   "execution_count": 42,
   "metadata": {},
   "outputs": [],
   "source": [
    "# Convertir la matriz en un DataFrame para inspección\n",
    "tfidf_df = pd.DataFrame(tfidf_matrix.toarray(), columns=tfidf.get_feature_names_out())"
   ]
  },
  {
   "cell_type": "code",
   "execution_count": 44,
   "metadata": {},
   "outputs": [
    {
     "data": {
      "text/html": [
       "<div>\n",
       "<style scoped>\n",
       "    .dataframe tbody tr th:only-of-type {\n",
       "        vertical-align: middle;\n",
       "    }\n",
       "\n",
       "    .dataframe tbody tr th {\n",
       "        vertical-align: top;\n",
       "    }\n",
       "\n",
       "    .dataframe thead th {\n",
       "        text-align: right;\n",
       "    }\n",
       "</style>\n",
       "<table border=\"1\" class=\"dataframe\">\n",
       "  <thead>\n",
       "    <tr style=\"text-align: right;\">\n",
       "      <th></th>\n",
       "      <th>100</th>\n",
       "      <th>14</th>\n",
       "      <th>16</th>\n",
       "      <th>17</th>\n",
       "      <th>18</th>\n",
       "      <th>20</th>\n",
       "      <th>24</th>\n",
       "      <th>72</th>\n",
       "      <th>abatir</th>\n",
       "      <th>abierto</th>\n",
       "      <th>...</th>\n",
       "      <th>vuelto</th>\n",
       "      <th>vuelve</th>\n",
       "      <th>vuelvo</th>\n",
       "      <th>vámono</th>\n",
       "      <th>wendy</th>\n",
       "      <th>yarda</th>\n",
       "      <th>zoo</th>\n",
       "      <th>éxito</th>\n",
       "      <th>ólo</th>\n",
       "      <th>único</th>\n",
       "    </tr>\n",
       "  </thead>\n",
       "  <tbody>\n",
       "    <tr>\n",
       "      <th>903</th>\n",
       "      <td>0.0</td>\n",
       "      <td>0.0</td>\n",
       "      <td>0.0</td>\n",
       "      <td>0.0</td>\n",
       "      <td>0.0</td>\n",
       "      <td>0.0</td>\n",
       "      <td>0.0</td>\n",
       "      <td>0.0</td>\n",
       "      <td>0.0</td>\n",
       "      <td>0.0</td>\n",
       "      <td>...</td>\n",
       "      <td>0.0</td>\n",
       "      <td>0.0</td>\n",
       "      <td>0.0</td>\n",
       "      <td>0.0</td>\n",
       "      <td>0.0</td>\n",
       "      <td>0.0</td>\n",
       "      <td>0.0</td>\n",
       "      <td>0.0</td>\n",
       "      <td>0.000000</td>\n",
       "      <td>0.0</td>\n",
       "    </tr>\n",
       "    <tr>\n",
       "      <th>1370</th>\n",
       "      <td>0.0</td>\n",
       "      <td>0.0</td>\n",
       "      <td>0.0</td>\n",
       "      <td>0.0</td>\n",
       "      <td>0.0</td>\n",
       "      <td>0.0</td>\n",
       "      <td>0.0</td>\n",
       "      <td>0.0</td>\n",
       "      <td>0.0</td>\n",
       "      <td>0.0</td>\n",
       "      <td>...</td>\n",
       "      <td>0.0</td>\n",
       "      <td>0.0</td>\n",
       "      <td>0.0</td>\n",
       "      <td>0.0</td>\n",
       "      <td>0.0</td>\n",
       "      <td>0.0</td>\n",
       "      <td>0.0</td>\n",
       "      <td>0.0</td>\n",
       "      <td>0.560475</td>\n",
       "      <td>0.0</td>\n",
       "    </tr>\n",
       "    <tr>\n",
       "      <th>898</th>\n",
       "      <td>0.0</td>\n",
       "      <td>0.0</td>\n",
       "      <td>0.0</td>\n",
       "      <td>0.0</td>\n",
       "      <td>0.0</td>\n",
       "      <td>0.0</td>\n",
       "      <td>0.0</td>\n",
       "      <td>0.0</td>\n",
       "      <td>0.0</td>\n",
       "      <td>0.0</td>\n",
       "      <td>...</td>\n",
       "      <td>0.0</td>\n",
       "      <td>0.0</td>\n",
       "      <td>0.0</td>\n",
       "      <td>0.0</td>\n",
       "      <td>0.0</td>\n",
       "      <td>0.0</td>\n",
       "      <td>0.0</td>\n",
       "      <td>0.0</td>\n",
       "      <td>0.000000</td>\n",
       "      <td>0.0</td>\n",
       "    </tr>\n",
       "    <tr>\n",
       "      <th>113</th>\n",
       "      <td>0.0</td>\n",
       "      <td>0.0</td>\n",
       "      <td>0.0</td>\n",
       "      <td>0.0</td>\n",
       "      <td>0.0</td>\n",
       "      <td>0.0</td>\n",
       "      <td>0.0</td>\n",
       "      <td>0.0</td>\n",
       "      <td>0.0</td>\n",
       "      <td>0.0</td>\n",
       "      <td>...</td>\n",
       "      <td>0.0</td>\n",
       "      <td>0.0</td>\n",
       "      <td>0.0</td>\n",
       "      <td>0.0</td>\n",
       "      <td>0.0</td>\n",
       "      <td>0.0</td>\n",
       "      <td>0.0</td>\n",
       "      <td>0.0</td>\n",
       "      <td>0.000000</td>\n",
       "      <td>0.0</td>\n",
       "    </tr>\n",
       "    <tr>\n",
       "      <th>785</th>\n",
       "      <td>0.0</td>\n",
       "      <td>0.0</td>\n",
       "      <td>0.0</td>\n",
       "      <td>0.0</td>\n",
       "      <td>0.0</td>\n",
       "      <td>0.0</td>\n",
       "      <td>0.0</td>\n",
       "      <td>0.0</td>\n",
       "      <td>0.0</td>\n",
       "      <td>0.0</td>\n",
       "      <td>...</td>\n",
       "      <td>0.0</td>\n",
       "      <td>0.0</td>\n",
       "      <td>0.0</td>\n",
       "      <td>0.0</td>\n",
       "      <td>0.0</td>\n",
       "      <td>0.0</td>\n",
       "      <td>0.0</td>\n",
       "      <td>0.0</td>\n",
       "      <td>0.000000</td>\n",
       "      <td>0.0</td>\n",
       "    </tr>\n",
       "  </tbody>\n",
       "</table>\n",
       "<p>5 rows × 500 columns</p>\n",
       "</div>"
      ],
      "text/plain": [
       "      100   14   16   17   18   20   24   72  abatir  abierto  ...  vuelto  \\\n",
       "903   0.0  0.0  0.0  0.0  0.0  0.0  0.0  0.0     0.0      0.0  ...     0.0   \n",
       "1370  0.0  0.0  0.0  0.0  0.0  0.0  0.0  0.0     0.0      0.0  ...     0.0   \n",
       "898   0.0  0.0  0.0  0.0  0.0  0.0  0.0  0.0     0.0      0.0  ...     0.0   \n",
       "113   0.0  0.0  0.0  0.0  0.0  0.0  0.0  0.0     0.0      0.0  ...     0.0   \n",
       "785   0.0  0.0  0.0  0.0  0.0  0.0  0.0  0.0     0.0      0.0  ...     0.0   \n",
       "\n",
       "      vuelve  vuelvo  vámono  wendy  yarda  zoo  éxito       ólo  único  \n",
       "903      0.0     0.0     0.0    0.0    0.0  0.0    0.0  0.000000    0.0  \n",
       "1370     0.0     0.0     0.0    0.0    0.0  0.0    0.0  0.560475    0.0  \n",
       "898      0.0     0.0     0.0    0.0    0.0  0.0    0.0  0.000000    0.0  \n",
       "113      0.0     0.0     0.0    0.0    0.0  0.0    0.0  0.000000    0.0  \n",
       "785      0.0     0.0     0.0    0.0    0.0  0.0    0.0  0.000000    0.0  \n",
       "\n",
       "[5 rows x 500 columns]"
      ]
     },
     "execution_count": 44,
     "metadata": {},
     "output_type": "execute_result"
    }
   ],
   "source": [
    "# Mostrar las primeras filas del DataFrame resultante\n",
    "tfidf_df.sample(5)"
   ]
  },
  {
   "cell_type": "code",
   "execution_count": 45,
   "metadata": {},
   "outputs": [
    {
     "name": "stdout",
     "output_type": "stream",
     "text": [
      "Palabras más relevantes:\n",
      "querer     0.026545\n",
      "ir         0.026440\n",
      "jerry      0.020962\n",
      "saber      0.020256\n",
      "hacer      0.018997\n",
      "bien       0.018762\n",
      "decir      0.018094\n",
      "poder      0.016899\n",
      "ser        0.013602\n",
      "gracias    0.012234\n",
      "dtype: float64\n"
     ]
    }
   ],
   "source": [
    "# Calcular los puntajes promedio de cada palabra en todas las filas\n",
    "tfidf_scores = tfidf_df.mean().sort_values(ascending=False)\n",
    "\n",
    "# Mostrar las 10 palabras más relevantes según TF-IDF\n",
    "print(\"Palabras más relevantes:\")\n",
    "print(tfidf_scores.head(10))"
   ]
  },
  {
   "cell_type": "code",
   "execution_count": 46,
   "metadata": {},
   "outputs": [
    {
     "data": {
      "text/html": [
       "<div>\n",
       "<style scoped>\n",
       "    .dataframe tbody tr th:only-of-type {\n",
       "        vertical-align: middle;\n",
       "    }\n",
       "\n",
       "    .dataframe tbody tr th {\n",
       "        vertical-align: top;\n",
       "    }\n",
       "\n",
       "    .dataframe thead th {\n",
       "        text-align: right;\n",
       "    }\n",
       "</style>\n",
       "<table border=\"1\" class=\"dataframe\">\n",
       "  <thead>\n",
       "    <tr style=\"text-align: right;\">\n",
       "      <th></th>\n",
       "      <th>subtitulo</th>\n",
       "      <th>sentimientoVader</th>\n",
       "      <th>tfidf_sum</th>\n",
       "    </tr>\n",
       "  </thead>\n",
       "  <tbody>\n",
       "    <tr>\n",
       "      <th>1473</th>\n",
       "      <td>- ¿Te gustó el zoo, chaval? - Ha sido genial.</td>\n",
       "      <td>0.6369</td>\n",
       "      <td>2.215212</td>\n",
       "    </tr>\n",
       "    <tr>\n",
       "      <th>823</th>\n",
       "      <td>Es amor, respeto, clase y dinero. El paquete completo.</td>\n",
       "      <td>0.6124</td>\n",
       "      <td>2.226502</td>\n",
       "    </tr>\n",
       "    <tr>\n",
       "      <th>1463</th>\n",
       "      <td>- Sólo tenemos media hora. - Con amor a mi línea ofensiva.</td>\n",
       "      <td>0.6124</td>\n",
       "      <td>2.225799</td>\n",
       "    </tr>\n",
       "    <tr>\n",
       "      <th>65</th>\n",
       "      <td>...Guerreros VR Super Trooper.</td>\n",
       "      <td>0.5994</td>\n",
       "      <td>1.000000</td>\n",
       "    </tr>\n",
       "    <tr>\n",
       "      <th>1307</th>\n",
       "      <td>Vamos a un Super Bowl consecutivo.</td>\n",
       "      <td>0.5994</td>\n",
       "      <td>1.686070</td>\n",
       "    </tr>\n",
       "    <tr>\n",
       "      <th>40</th>\n",
       "      <td>...emitido durante la Super Bowl que estés ganando.</td>\n",
       "      <td>0.5994</td>\n",
       "      <td>1.731335</td>\n",
       "    </tr>\n",
       "    <tr>\n",
       "      <th>1465</th>\n",
       "      <td>- ¿Recuerdas a Troy del Super Bowl? - Sí, nos conocimos en el 93.</td>\n",
       "      <td>0.5994</td>\n",
       "      <td>1.998629</td>\n",
       "    </tr>\n",
       "    <tr>\n",
       "      <th>25</th>\n",
       "      <td>- Tenemos que ganar Super Bowls. - Mis respetos.</td>\n",
       "      <td>0.5994</td>\n",
       "      <td>1.414214</td>\n",
       "    </tr>\n",
       "    <tr>\n",
       "      <th>1346</th>\n",
       "      <td>- Ha podido controlar la pelota. - Se ha hecho daño.</td>\n",
       "      <td>0.5859</td>\n",
       "      <td>1.974101</td>\n",
       "    </tr>\n",
       "    <tr>\n",
       "      <th>217</th>\n",
       "      <td>Sé lo de la fiesta.</td>\n",
       "      <td>0.4767</td>\n",
       "      <td>1.378338</td>\n",
       "    </tr>\n",
       "  </tbody>\n",
       "</table>\n",
       "</div>"
      ],
      "text/plain": [
       "                                                              subtitulo  \\\n",
       "1473                      - ¿Te gustó el zoo, chaval? - Ha sido genial.   \n",
       "823              Es amor, respeto, clase y dinero. El paquete completo.   \n",
       "1463         - Sólo tenemos media hora. - Con amor a mi línea ofensiva.   \n",
       "65                                       ...Guerreros VR Super Trooper.   \n",
       "1307                                 Vamos a un Super Bowl consecutivo.   \n",
       "40                  ...emitido durante la Super Bowl que estés ganando.   \n",
       "1465  - ¿Recuerdas a Troy del Super Bowl? - Sí, nos conocimos en el 93.   \n",
       "25                     - Tenemos que ganar Super Bowls. - Mis respetos.   \n",
       "1346               - Ha podido controlar la pelota. - Se ha hecho daño.   \n",
       "217                                                 Sé lo de la fiesta.   \n",
       "\n",
       "      sentimientoVader  tfidf_sum  \n",
       "1473            0.6369   2.215212  \n",
       "823             0.6124   2.226502  \n",
       "1463            0.6124   2.225799  \n",
       "65              0.5994   1.000000  \n",
       "1307            0.5994   1.686070  \n",
       "40              0.5994   1.731335  \n",
       "1465            0.5994   1.998629  \n",
       "25              0.5994   1.414214  \n",
       "1346            0.5859   1.974101  \n",
       "217             0.4767   1.378338  "
      ]
     },
     "execution_count": 46,
     "metadata": {},
     "output_type": "execute_result"
    }
   ],
   "source": [
    "# Agregar la suma de TF-IDF de cada subtítulo como una métrica adicional\n",
    "df['tfidf_sum'] = tfidf_df.sum(axis=1)\n",
    "\n",
    "# Combinar con sentimiento\n",
    "df[['subtitulo', 'sentimientoVader', 'tfidf_sum']].sort_values('sentimientoVader', ascending=False).head(10)"
   ]
  },
  {
   "cell_type": "code",
   "execution_count": 47,
   "metadata": {},
   "outputs": [
    {
     "data": {
      "image/png": "[encoded data removed]",
      "text/plain": [
       "<Figure size 640x480 with 1 Axes>"
      ]
     },
     "metadata": {},
     "output_type": "display_data"
    }
   ],
   "source": [
    "import matplotlib.pyplot as plt\n",
    "\n",
    "plt.hist(df['tfidf_sum'], bins=20, color='blue', alpha=0.7)\n",
    "plt.title('Distribución de la suma de TF-IDF por subtítulo')\n",
    "plt.xlabel('Suma de TF-IDF')\n",
    "plt.ylabel('Frecuencia')\n",
    "plt.show()"
   ]
  },
  {
   "cell_type": "code",
   "execution_count": 48,
   "metadata": {},
   "outputs": [
    {
     "data": {
      "image/png": "[encoded data removed]",
      "text/plain": [
       "<Figure size 640x480 with 1 Axes>"
      ]
     },
     "metadata": {},
     "output_type": "display_data"
    }
   ],
   "source": [
    "plt.scatter(df['tfidf_sum'], df['sentimientoVader'], alpha=0.5)\n",
    "plt.title('TF-IDF vs Sentimiento')\n",
    "plt.xlabel('Suma de TF-IDF')\n",
    "plt.ylabel('Sentimiento (VADER)')\n",
    "plt.show()"
   ]
  },
  {
   "cell_type": "markdown",
   "metadata": {},
   "source": [
    "### Nube de Palabras"
   ]
  },
  {
   "cell_type": "code",
   "execution_count": 49,
   "metadata": {},
   "outputs": [],
   "source": [
    "X = tfidf.fit_transform(df['subtitulo'])"
   ]
  },
  {
   "cell_type": "code",
   "execution_count": 50,
   "metadata": {},
   "outputs": [
    {
     "data": {
      "image/png": "[encoded data removed]",
      "text/plain": [
       "<Figure size 1000x500 with 1 Axes>"
      ]
     },
     "metadata": {},
     "output_type": "display_data"
    }
   ],
   "source": [
    "from wordcloud import WordCloud\n",
    "import matplotlib.pyplot as plt\n",
    "\n",
    "# Obtener las palabras y sus puntuaciones TF-IDF\n",
    "# Aquí estamos utilizando el atributo `get_feature_names_out()` que te da las palabras,\n",
    "# y el atributo `toarray()` para obtener las puntuaciones de TF-IDF\n",
    "words = tfidf.get_feature_names_out()\n",
    "tfidf_scores = X.sum(axis=0).A1  # Sumar las puntuaciones de cada palabra\n",
    "\n",
    "# Crear un diccionario de palabras con sus correspondientes puntuaciones\n",
    "word_dict = dict(zip(words, tfidf_scores))\n",
    "\n",
    "# Generar la nube de palabras con las palabras y puntuaciones obtenidas\n",
    "#wordcloud = WordCloud(width=800, height=400, background_color='white').generate_from_frequencies(word_dict)\n",
    "# Generar la nube de palabras con algunas opciones de personalización\n",
    "wordcloud = WordCloud(width=800, height=400, background_color='white', max_words=100, colormap='viridis').generate_from_frequencies(word_dict)\n",
    "\n",
    "# Visualizar la nube de palabras\n",
    "plt.figure(figsize=(10, 5))\n",
    "plt.imshow(wordcloud, interpolation='bilinear')\n",
    "plt.axis('off')  # Ocultar los ejes\n",
    "plt.show()"
   ]
  }
 ],
 "metadata": {
  "kernelspec": {
   "display_name": "deep02",
   "language": "python",
   "name": "python3"
  },
  "language_info": {
   "codemirror_mode": {
    "name": "ipython",
    "version": 3
   },
   "file_extension": ".py",
   "mimetype": "text/x-python",
   "name": "python",
   "nbconvert_exporter": "python",
   "pygments_lexer": "ipython3",
   "version": "3.10.16"
  }
 },
 "nbformat": 4,
 "nbformat_minor": 2
}
